{
 "cells": [
  {
   "cell_type": "code",
   "execution_count": 1,
   "id": "555b5c49",
   "metadata": {
    "id": "555b5c49"
   },
   "outputs": [],
   "source": [
    "import pandas as pd\n",
    "import numpy as np\n",
    "from matplotlib import pyplot as plt\n",
    "import re\n",
    "import json\n",
    "import transformers\n",
    "import sklearn\n",
    "from sklearn.model_selection import StratifiedShuffleSplit\n",
    "from sklearn.ensemble import RandomForestClassifier\n",
    "from sklearn.svm import SVC\n",
    "from sklearn.tree import DecisionTreeClassifier\n",
    "from sklearn.linear_model import LogisticRegression\n",
    "import tensorflow as tf\n",
    "from tensorflow.keras.layers import Input,Dense,Flatten,GlobalAveragePooling1D,LSTM,Dropout,BatchNormalization\n",
    "from transformers import TFAutoModelForSequenceClassification\n",
    "from transformers import TFAutoModel"
   ]
  },
  {
   "cell_type": "code",
   "execution_count": 2,
   "id": "1cee6753",
   "metadata": {
    "id": "1cee6753"
   },
   "outputs": [],
   "source": [
    "\n",
    "file_path=\"data/train.csv\" "
   ]
  },
  {
   "cell_type": "code",
   "execution_count": null,
   "id": "2dac4e4a",
   "metadata": {
    "id": "2dac4e4a"
   },
   "outputs": [],
   "source": [
    "\n",
    "test_file_path=\"data/test.csv\""
   ]
  },
  {
   "cell_type": "code",
   "execution_count": 3,
   "id": "6167fd18",
   "metadata": {
    "id": "6167fd18"
   },
   "outputs": [],
   "source": [
    "df=pd.read_csv(file_path)\n"
   ]
  },
  {
   "cell_type": "code",
   "execution_count": null,
   "id": "f17f458a",
   "metadata": {
    "id": "f17f458a"
   },
   "outputs": [],
   "source": [
    "df_tst=pd.read_csv(test_file_path)"
   ]
  },
  {
   "cell_type": "code",
   "execution_count": 6,
   "id": "9b016219",
   "metadata": {
    "colab": {
     "base_uri": "https://localhost:8080/"
    },
    "id": "9b016219",
    "outputId": "ce3a5e2a-2c84-4f79-fafe-ebee5d276ad6"
   },
   "outputs": [
    {
     "name": "stdout",
     "output_type": "stream",
     "text": [
      "<class 'pandas.core.frame.DataFrame'>\n",
      "RangeIndex: 1189 entries, 0 to 1188\n",
      "Data columns (total 35 columns):\n",
      " #   Column                          Non-Null Count  Dtype  \n",
      "---  ------                          --------------  -----  \n",
      " 0   Unnamed: 0.1                    1189 non-null   int64  \n",
      " 1   Unnamed: 0                      1189 non-null   int64  \n",
      " 2   url                             1189 non-null   object \n",
      " 3   urlid                           1189 non-null   int64  \n",
      " 4   boilerplate                     1189 non-null   object \n",
      " 5   alchemy_category                1189 non-null   object \n",
      " 6   alchemy_category_score          1189 non-null   object \n",
      " 7   avglinksize                     1189 non-null   float64\n",
      " 8   commonlinkratio_1               1189 non-null   float64\n",
      " 9   commonlinkratio_2               1189 non-null   float64\n",
      " 10  commonlinkratio_3               1189 non-null   float64\n",
      " 11  commonlinkratio_4               1189 non-null   float64\n",
      " 12  compression_ratio               1189 non-null   float64\n",
      " 13  embed_ratio                     1189 non-null   float64\n",
      " 14  framebased                      1189 non-null   int64  \n",
      " 15  frameTagRatio                   1189 non-null   float64\n",
      " 16  hasDomainLink                   1189 non-null   int64  \n",
      " 17  html_ratio                      1189 non-null   float64\n",
      " 18  image_ratio                     1189 non-null   float64\n",
      " 19  is_news                         1189 non-null   object \n",
      " 20  lengthyLinkDomain               1189 non-null   int64  \n",
      " 21  linkwordscore                   1189 non-null   int64  \n",
      " 22  news_front_page                 1189 non-null   object \n",
      " 23  non_markup_alphanum_characters  1189 non-null   int64  \n",
      " 24  numberOfLinks                   1189 non-null   int64  \n",
      " 25  numwords_in_url                 1189 non-null   int64  \n",
      " 26  parametrizedLinkRatio           1189 non-null   float64\n",
      " 27  spelling_errors_ratio           1189 non-null   float64\n",
      " 28  label                           1189 non-null   int64  \n",
      " 29  title                           1187 non-null   object \n",
      " 30  body                            1178 non-null   object \n",
      " 31  url_b                           1176 non-null   object \n",
      " 32  title_len                       1188 non-null   float64\n",
      " 33  body_len                        1188 non-null   float64\n",
      " 34  sent_title                      1188 non-null   float64\n",
      "dtypes: float64(15), int64(11), object(9)\n",
      "memory usage: 325.2+ KB\n"
     ]
    }
   ],
   "source": [
    "df.info()"
   ]
  },
  {
   "cell_type": "code",
   "execution_count": null,
   "id": "m5gPXQuuW-HB",
   "metadata": {
    "colab": {
     "base_uri": "https://localhost:8080/"
    },
    "id": "m5gPXQuuW-HB",
    "outputId": "02787fd5-a226-44a7-bdb0-0586673554cf"
   },
   "outputs": [
    {
     "name": "stdout",
     "output_type": "stream",
     "text": [
      "<class 'pandas.core.frame.DataFrame'>\n",
      "RangeIndex: 3171 entries, 0 to 3170\n",
      "Data columns (total 26 columns):\n",
      " #   Column                          Non-Null Count  Dtype  \n",
      "---  ------                          --------------  -----  \n",
      " 0    url                            3171 non-null   object \n",
      " 1   urlid                           3171 non-null   int64  \n",
      " 2   boilerplate                     3171 non-null   object \n",
      " 3   alchemy_category                3171 non-null   object \n",
      " 4   alchemy_category_score          3171 non-null   object \n",
      " 5   avglinksize                     3171 non-null   float64\n",
      " 6   commonlinkratio_1               3171 non-null   float64\n",
      " 7   commonlinkratio_2               3171 non-null   float64\n",
      " 8   commonlinkratio_3               3171 non-null   float64\n",
      " 9   commonlinkratio_4               3171 non-null   float64\n",
      " 10  compression_ratio               3171 non-null   float64\n",
      " 11  embed_ratio                     3171 non-null   float64\n",
      " 12  framebased                      3171 non-null   int64  \n",
      " 13  frameTagRatio                   3171 non-null   float64\n",
      " 14  hasDomainLink                   3171 non-null   int64  \n",
      " 15  html_ratio                      3171 non-null   float64\n",
      " 16  image_ratio                     3171 non-null   float64\n",
      " 17  is_news                         3171 non-null   object \n",
      " 18  lengthyLinkDomain               3171 non-null   int64  \n",
      " 19  linkwordscore                   3171 non-null   int64  \n",
      " 20  news_front_page                 3171 non-null   object \n",
      " 21  non_markup_alphanum_characters  3171 non-null   int64  \n",
      " 22  numberOfLinks                   3171 non-null   int64  \n",
      " 23  numwords_in_url                 3171 non-null   int64  \n",
      " 24  parametrizedLinkRatio           3171 non-null   float64\n",
      " 25  spelling_errors_ratio           3171 non-null   float64\n",
      "dtypes: float64(12), int64(8), object(6)\n",
      "memory usage: 644.2+ KB\n"
     ]
    }
   ],
   "source": [
    "df_tst.info()"
   ]
  },
  {
   "cell_type": "code",
   "execution_count": null,
   "id": "408200dc",
   "metadata": {
    "id": "408200dc",
    "outputId": "610422aa-8ed7-44c3-d6ab-207e5236ce4d"
   },
   "outputs": [
    {
     "data": {
      "text/html": [
       "<div>\n",
       "<style scoped>\n",
       "    .dataframe tbody tr th:only-of-type {\n",
       "        vertical-align: middle;\n",
       "    }\n",
       "\n",
       "    .dataframe tbody tr th {\n",
       "        vertical-align: top;\n",
       "    }\n",
       "\n",
       "    .dataframe thead th {\n",
       "        text-align: right;\n",
       "    }\n",
       "</style>\n",
       "<table border=\"1\" class=\"dataframe\">\n",
       "  <thead>\n",
       "    <tr style=\"text-align: right;\">\n",
       "      <th></th>\n",
       "      <th>url</th>\n",
       "      <th>urlid</th>\n",
       "      <th>boilerplate</th>\n",
       "      <th>alchemy_category</th>\n",
       "      <th>alchemy_category_score</th>\n",
       "      <th>avglinksize</th>\n",
       "      <th>commonlinkratio_1</th>\n",
       "      <th>commonlinkratio_2</th>\n",
       "      <th>commonlinkratio_3</th>\n",
       "      <th>commonlinkratio_4</th>\n",
       "      <th>...</th>\n",
       "      <th>is_news</th>\n",
       "      <th>lengthyLinkDomain</th>\n",
       "      <th>linkwordscore</th>\n",
       "      <th>news_front_page</th>\n",
       "      <th>non_markup_alphanum_characters</th>\n",
       "      <th>numberOfLinks</th>\n",
       "      <th>numwords_in_url</th>\n",
       "      <th>parametrizedLinkRatio</th>\n",
       "      <th>spelling_errors_ratio</th>\n",
       "      <th>label</th>\n",
       "    </tr>\n",
       "  </thead>\n",
       "  <tbody>\n",
       "    <tr>\n",
       "      <th>7032</th>\n",
       "      <td>http://www.onlyinfographic.com/2011/super-bowl...</td>\n",
       "      <td>2302</td>\n",
       "      <td>{\"title\":\"Super Bowl XLV By The Numbers \",\"bod...</td>\n",
       "      <td>sports</td>\n",
       "      <td>0.756665</td>\n",
       "      <td>2.149254</td>\n",
       "      <td>0.441176</td>\n",
       "      <td>0.117647</td>\n",
       "      <td>0.044118</td>\n",
       "      <td>0.022059</td>\n",
       "      <td>...</td>\n",
       "      <td>1</td>\n",
       "      <td>1</td>\n",
       "      <td>58</td>\n",
       "      <td>0</td>\n",
       "      <td>1008</td>\n",
       "      <td>136</td>\n",
       "      <td>4</td>\n",
       "      <td>0.044118</td>\n",
       "      <td>0.086538</td>\n",
       "      <td>0</td>\n",
       "    </tr>\n",
       "  </tbody>\n",
       "</table>\n",
       "<p>1 rows × 27 columns</p>\n",
       "</div>"
      ],
      "text/plain": [
       "                                                    url  urlid  \\\n",
       "7032  http://www.onlyinfographic.com/2011/super-bowl...   2302   \n",
       "\n",
       "                                            boilerplate alchemy_category  \\\n",
       "7032  {\"title\":\"Super Bowl XLV By The Numbers \",\"bod...           sports   \n",
       "\n",
       "     alchemy_category_score  avglinksize  commonlinkratio_1  \\\n",
       "7032               0.756665     2.149254           0.441176   \n",
       "\n",
       "      commonlinkratio_2  commonlinkratio_3  commonlinkratio_4  ...  is_news  \\\n",
       "7032           0.117647           0.044118           0.022059  ...        1   \n",
       "\n",
       "      lengthyLinkDomain  linkwordscore  news_front_page  \\\n",
       "7032                  1             58                0   \n",
       "\n",
       "      non_markup_alphanum_characters  numberOfLinks  numwords_in_url  \\\n",
       "7032                            1008            136                4   \n",
       "\n",
       "     parametrizedLinkRatio  spelling_errors_ratio  label  \n",
       "7032              0.044118               0.086538      0  \n",
       "\n",
       "[1 rows x 27 columns]"
      ]
     },
     "execution_count": 189,
     "metadata": {},
     "output_type": "execute_result"
    }
   ],
   "source": [
    "df.sample(1)"
   ]
  },
  {
   "cell_type": "markdown",
   "id": "WsVqN9x844rj",
   "metadata": {
    "id": "WsVqN9x844rj"
   },
   "source": [
    "**Preprocessing and Exploration**"
   ]
  },
  {
   "cell_type": "code",
   "execution_count": null,
   "id": "6c939393",
   "metadata": {
    "id": "6c939393"
   },
   "outputs": [],
   "source": [
    "def boilerplate_clean(x,key):\n",
    "    x=json.loads(x)\n",
    "    if key in x.keys():\n",
    "        return x[key]\n",
    "    return None"
   ]
  },
  {
   "cell_type": "code",
   "execution_count": null,
   "id": "0562c54d",
   "metadata": {
    "id": "0562c54d"
   },
   "outputs": [],
   "source": [
    "df['title']=df['boilerplate'].apply(lambda x:boilerplate_clean(x,'title'))\n",
    "df['body']=df['boilerplate'].apply(lambda x:boilerplate_clean(x,'body'))\n",
    "df['url_b']=df['boilerplate'].apply(lambda x:boilerplate_clean(x,'url'))"
   ]
  },
  {
   "cell_type": "code",
   "execution_count": null,
   "id": "9d18a2cb",
   "metadata": {
    "id": "9d18a2cb"
   },
   "outputs": [],
   "source": [
    "df_tst['title']=df_tst['boilerplate'].apply(lambda x:boilerplate_clean(x,'title'))\n",
    "df_tst['body']=df_tst['boilerplate'].apply(lambda x:boilerplate_clean(x,'body'))\n",
    "df_tst['url_b']=df_tst['boilerplate'].apply(lambda x:boilerplate_clean(x,'url'))"
   ]
  },
  {
   "cell_type": "code",
   "execution_count": null,
   "id": "184ba295",
   "metadata": {
    "id": "184ba295",
    "outputId": "d26fbb09-cda0-4e0b-93fa-c6e1888fda7c"
   },
   "outputs": [
    {
     "name": "stdout",
     "output_type": "stream",
     "text": [
      "<class 'pandas.core.frame.DataFrame'>\n",
      "RangeIndex: 7395 entries, 0 to 7394\n",
      "Data columns (total 30 columns):\n",
      " #   Column                          Non-Null Count  Dtype  \n",
      "---  ------                          --------------  -----  \n",
      " 0   url                             7395 non-null   object \n",
      " 1   urlid                           7395 non-null   int64  \n",
      " 2   boilerplate                     7395 non-null   object \n",
      " 3   alchemy_category                7395 non-null   object \n",
      " 4   alchemy_category_score          7395 non-null   object \n",
      " 5   avglinksize                     7395 non-null   float64\n",
      " 6   commonlinkratio_1               7395 non-null   float64\n",
      " 7   commonlinkratio_2               7395 non-null   float64\n",
      " 8   commonlinkratio_3               7395 non-null   float64\n",
      " 9   commonlinkratio_4               7395 non-null   float64\n",
      " 10  compression_ratio               7395 non-null   float64\n",
      " 11  embed_ratio                     7395 non-null   float64\n",
      " 12  framebased                      7395 non-null   int64  \n",
      " 13  frameTagRatio                   7395 non-null   float64\n",
      " 14  hasDomainLink                   7395 non-null   int64  \n",
      " 15  html_ratio                      7395 non-null   float64\n",
      " 16  image_ratio                     7395 non-null   float64\n",
      " 17  is_news                         7395 non-null   object \n",
      " 18  lengthyLinkDomain               7395 non-null   int64  \n",
      " 19  linkwordscore                   7395 non-null   int64  \n",
      " 20  news_front_page                 7395 non-null   object \n",
      " 21  non_markup_alphanum_characters  7395 non-null   int64  \n",
      " 22  numberOfLinks                   7395 non-null   int64  \n",
      " 23  numwords_in_url                 7395 non-null   int64  \n",
      " 24  parametrizedLinkRatio           7395 non-null   float64\n",
      " 25  spelling_errors_ratio           7395 non-null   float64\n",
      " 26  label                           7395 non-null   int64  \n",
      " 27  title                           7382 non-null   object \n",
      " 28  body                            7338 non-null   object \n",
      " 29  url_b                           7335 non-null   object \n",
      "dtypes: float64(12), int64(9), object(9)\n",
      "memory usage: 1.7+ MB\n"
     ]
    }
   ],
   "source": [
    "df.info()"
   ]
  },
  {
   "cell_type": "code",
   "execution_count": null,
   "id": "a82938d8",
   "metadata": {
    "id": "a82938d8",
    "outputId": "de86029e-d777-40e0-ae10-1e60aaceb379",
    "scrolled": true
   },
   "outputs": [
    {
     "data": {
      "text/plain": [
       "'menshealth health flu fighting fruits cm mmc Facebook Mens Health Content Health Fight Flu With Fruit'"
      ]
     },
     "execution_count": 197,
     "metadata": {},
     "output_type": "execute_result"
    }
   ],
   "source": [
    "df['url_b'][2]"
   ]
  },
  {
   "cell_type": "code",
   "execution_count": null,
   "id": "66f95787",
   "metadata": {
    "id": "66f95787",
    "outputId": "f082ca40-abde-46e5-b687-9c1aac6c1d54"
   },
   "outputs": [
    {
     "data": {
      "text/plain": [
       "['the man whose good health advice you ignore']"
      ]
     },
     "execution_count": 58,
     "metadata": {},
     "output_type": "execute_result"
    }
   ],
   "source": [
    "re.sub(\"['{'|'}'|'\\\"']\",\" \",samp[7]).strip().split(\":\")"
   ]
  },
  {
   "cell_type": "code",
   "execution_count": null,
   "id": "0e01b954",
   "metadata": {
    "id": "0e01b954"
   },
   "outputs": [],
   "source": [
    "boilerplate_dic={'title':[],'body':[],'url':[]}\n",
    "def boiler_plate_clean(example):\n",
    "\n",
    "    example_1=example.split(\",\")\n",
    "    for i in example_1:\n",
    "        example_sub=re.sub(\"['{'|'}'|'\\\"']\",\" \",i).strip().split(\":\")\n",
    "\n",
    "        example_sub[0]=example_sub[0].strip()\n",
    "\n",
    "        if example_sub[0]=='title':\n",
    "            if len(example_sub)<2:\n",
    "#                 boilerplate_dic['title'].append(None)\n",
    "                pass\n",
    "            else:\n",
    "                boilerplate_dic['title'].append(example_sub[1])\n",
    "        elif example_sub[0]=='body':\n",
    "            if len(example_sub)<2:\n",
    "#                 boilerplate_dic['body'].append(None)\n",
    "                pass\n",
    "            else:\n",
    "                boilerplate_dic['body'].append(example_sub[1])\n",
    "        elif example_sub[0]=='url':\n",
    "            if len(example_sub)<2:\n",
    "#                 boilerplate_dic['url'].append(None)\n",
    "                pass\n",
    "            else:\n",
    "                boilerplate_dic['url'].append(example_sub[1])\n",
    "\n"
   ]
  },
  {
   "cell_type": "code",
   "execution_count": null,
   "id": "7bed4ccd",
   "metadata": {
    "id": "7bed4ccd"
   },
   "outputs": [],
   "source": [
    "\n",
    "for i in df['boilerplate']:\n",
    "    boiler_plate_clean(i)"
   ]
  },
  {
   "cell_type": "code",
   "execution_count": null,
   "id": "55aa166e",
   "metadata": {
    "id": "55aa166e",
    "outputId": "9cdbb6c2-b2d8-4a2f-fbb9-282f4dec1748"
   },
   "outputs": [
    {
     "name": "stdout",
     "output_type": "stream",
     "text": [
      "7394 7395 7335\n"
     ]
    }
   ],
   "source": [
    "print(len(boilerplate_dic['title']),len(boilerplate_dic['body']),len(boilerplate_dic['url']))"
   ]
  },
  {
   "cell_type": "code",
   "execution_count": null,
   "id": "cc1611ab",
   "metadata": {
    "id": "cc1611ab"
   },
   "outputs": [],
   "source": [
    "def find_len(x):\n",
    "    if pd.isnull(x):\n",
    "        return 0\n",
    "    return len(x)"
   ]
  },
  {
   "cell_type": "code",
   "execution_count": null,
   "id": "43c42b40",
   "metadata": {
    "id": "43c42b40"
   },
   "outputs": [],
   "source": [
    "df['title_len']=df['title'].apply(lambda x:find_len(x))"
   ]
  },
  {
   "cell_type": "code",
   "execution_count": null,
   "id": "f46890aa",
   "metadata": {
    "id": "f46890aa"
   },
   "outputs": [],
   "source": [
    "df['body_len']=df['body'].apply(lambda x:find_len(x))"
   ]
  },
  {
   "cell_type": "code",
   "execution_count": null,
   "id": "cb4764ea",
   "metadata": {
    "id": "cb4764ea"
   },
   "outputs": [],
   "source": [
    "df_tst['title_len']=df_tst['title'].apply(lambda x:find_len(x))\n",
    "df_tst['body_len']=df_tst['body'].apply(lambda x:find_len(x))"
   ]
  },
  {
   "cell_type": "code",
   "execution_count": null,
   "id": "47e73097",
   "metadata": {
    "id": "47e73097",
    "outputId": "50e42e5d-8fd1-4f5d-d9e2-75e13bb571a4"
   },
   "outputs": [
    {
     "data": {
      "text/plain": [
       "<AxesSubplot: title={'center': 'Average Boilerplate title Length of Evergreen vs Non Evergreen Labels'}, ylabel='label'>"
      ]
     },
     "execution_count": 237,
     "metadata": {},
     "output_type": "execute_result"
    },
    {
     "data": {
      "image/png": "[encoded data removed]",
      "text/plain": [
       "<Figure size 700x500 with 1 Axes>"
      ]
     },
     "metadata": {},
     "output_type": "display_data"
    }
   ],
   "source": [
    "df.groupby('label')['title_len'].mean().plot(kind = \"barh\",\n",
    "         figsize = (7,5),\n",
    "         fontsize = 15,\n",
    "         title = \"Average Boilerplate title Length of Evergreen vs Non Evergreen Labels\")"
   ]
  },
  {
   "cell_type": "code",
   "execution_count": null,
   "id": "bbea9365",
   "metadata": {
    "id": "bbea9365",
    "outputId": "43d2b409-65d6-4420-c60b-198696829ae2"
   },
   "outputs": [
    {
     "data": {
      "text/plain": [
       "<AxesSubplot: title={'center': 'body length exploration for evergreen vs epipheral'}, ylabel='label'>"
      ]
     },
     "execution_count": 236,
     "metadata": {},
     "output_type": "execute_result"
    },
    {
     "data": {
      "image/png": "[encoded data removed]",
      "text/plain": [
       "<Figure size 700x500 with 1 Axes>"
      ]
     },
     "metadata": {},
     "output_type": "display_data"
    }
   ],
   "source": [
    "df.groupby('label')['body_len'].mean().plot(kind='barh',figsize=(7,5),title=\"body length exploration for evergreen vs epipheral\")"
   ]
  },
  {
   "cell_type": "code",
   "execution_count": null,
   "id": "cdbd293e",
   "metadata": {
    "id": "cdbd293e",
    "outputId": "653c8281-170a-486e-ed59-420acfe5dde7"
   },
   "outputs": [
    {
     "data": {
      "text/plain": [
       "<AxesSubplot: title={'center': 'label proportions'}, ylabel='Frequency'>"
      ]
     },
     "execution_count": 234,
     "metadata": {},
     "output_type": "execute_result"
    },
    {
     "data": {
      "image/png": "[encoded data removed]",
      "text/plain": [
       "<Figure size 700x500 with 1 Axes>"
      ]
     },
     "metadata": {},
     "output_type": "display_data"
    }
   ],
   "source": [
    "df['label'].plot(kind='hist',figsize=(7,5),title=\"label proportions\")\n",
    "#0-epipheral 1=evergreen"
   ]
  },
  {
   "cell_type": "code",
   "execution_count": null,
   "id": "d14498b6",
   "metadata": {
    "id": "d14498b6",
    "outputId": "f37f578e-8d03-42a8-b524-db929072fa20"
   },
   "outputs": [
    {
     "data": {
      "text/plain": [
       "0       http://www.bloomberg.com/news/2010-12-23/ibm-p...\n",
       "1       http://www.popsci.com/technology/article/2012-...\n",
       "2       http://www.menshealth.com/health/flu-fighting-...\n",
       "3       http://www.dumblittleman.com/2007/12/10-foolpr...\n",
       "4       http://bleacherreport.com/articles/1205138-the...\n",
       "                              ...                        \n",
       "7390    http://techcrunch.com/2010/09/08/kno-raises-46...\n",
       "7391    http://www.uncoached.com/category/why-i-miss-c...\n",
       "7392    http://eatthis.menshealth.com/slide/sweet-pota...\n",
       "7393                            http://naturallyella.com/\n",
       "7394    http://sportsillustrated.cnn.com/2011_swimsuit...\n",
       "Name: url, Length: 7395, dtype: object"
      ]
     },
     "execution_count": 86,
     "metadata": {},
     "output_type": "execute_result"
    }
   ],
   "source": [
    "df['url']"
   ]
  },
  {
   "cell_type": "code",
   "execution_count": null,
   "id": "f846b2f5",
   "metadata": {
    "id": "f846b2f5",
    "outputId": "914dda6c-4bc8-4d8a-f7e6-ee863343d6b5"
   },
   "outputs": [
    {
     "name": "stdout",
     "output_type": "stream",
     "text": [
      "<class 'pandas.core.frame.DataFrame'>\n",
      "RangeIndex: 7395 entries, 0 to 7394\n",
      "Data columns (total 27 columns):\n",
      " #   Column                          Non-Null Count  Dtype  \n",
      "---  ------                          --------------  -----  \n",
      " 0   url                             7395 non-null   object \n",
      " 1   urlid                           7395 non-null   int64  \n",
      " 2   boilerplate                     7395 non-null   object \n",
      " 3   alchemy_category                7395 non-null   object \n",
      " 4   alchemy_category_score          7395 non-null   object \n",
      " 5   avglinksize                     7395 non-null   float64\n",
      " 6   commonlinkratio_1               7395 non-null   float64\n",
      " 7   commonlinkratio_2               7395 non-null   float64\n",
      " 8   commonlinkratio_3               7395 non-null   float64\n",
      " 9   commonlinkratio_4               7395 non-null   float64\n",
      " 10  compression_ratio               7395 non-null   float64\n",
      " 11  embed_ratio                     7395 non-null   float64\n",
      " 12  framebased                      7395 non-null   int64  \n",
      " 13  frameTagRatio                   7395 non-null   float64\n",
      " 14  hasDomainLink                   7395 non-null   int64  \n",
      " 15  html_ratio                      7395 non-null   float64\n",
      " 16  image_ratio                     7395 non-null   float64\n",
      " 17  is_news                         7395 non-null   object \n",
      " 18  lengthyLinkDomain               7395 non-null   int64  \n",
      " 19  linkwordscore                   7395 non-null   int64  \n",
      " 20  news_front_page                 7395 non-null   object \n",
      " 21  non_markup_alphanum_characters  7395 non-null   int64  \n",
      " 22  numberOfLinks                   7395 non-null   int64  \n",
      " 23  numwords_in_url                 7395 non-null   int64  \n",
      " 24  parametrizedLinkRatio           7395 non-null   float64\n",
      " 25  spelling_errors_ratio           7395 non-null   float64\n",
      " 26  label                           7395 non-null   int64  \n",
      "dtypes: float64(12), int64(9), object(6)\n",
      "memory usage: 1.5+ MB\n"
     ]
    }
   ],
   "source": [
    "df.info()"
   ]
  },
  {
   "cell_type": "markdown",
   "id": "4759daa8",
   "metadata": {
    "id": "4759daa8"
   },
   "source": []
  },
  {
   "cell_type": "code",
   "execution_count": null,
   "id": "c1f7838c",
   "metadata": {
    "id": "c1f7838c",
    "outputId": "2eaf513f-e483-42d1-9182-a107eb3797db"
   },
   "outputs": [
    {
     "data": {
      "text/plain": [
       "7395"
      ]
     },
     "execution_count": 156,
     "metadata": {},
     "output_type": "execute_result"
    }
   ],
   "source": [
    "len(df)"
   ]
  },
  {
   "cell_type": "code",
   "execution_count": null,
   "id": "b4e781da",
   "metadata": {
    "id": "b4e781da",
    "outputId": "f1453342-3c42-4b48-b31f-14fd3b1c554a"
   },
   "outputs": [
    {
     "data": {
      "text/plain": [
       "?                     2342\n",
       "recreation            1229\n",
       "arts_entertainment     941\n",
       "business               880\n",
       "health                 506\n",
       "sports                 380\n",
       "culture_politics       343\n",
       "computer_internet      296\n",
       "science_technology     289\n",
       "gaming                  76\n",
       "religion                72\n",
       "law_crime               31\n",
       "unknown                  6\n",
       "weather                  4\n",
       "Name: alchemy_category, dtype: int64"
      ]
     },
     "execution_count": 217,
     "metadata": {},
     "output_type": "execute_result"
    }
   ],
   "source": [
    "df['alchemy_category'].value_counts()"
   ]
  },
  {
   "cell_type": "code",
   "execution_count": null,
   "id": "69631acd",
   "metadata": {
    "id": "69631acd",
    "outputId": "83e0ee75-2d66-4b8b-f63c-b6f711e0fd5d"
   },
   "outputs": [
    {
     "data": {
      "text/plain": [
       "<AxesSubplot: title={'center': 'exploration of alchemy_category'}, ylabel='alchemy_category,label'>"
      ]
     },
     "execution_count": 233,
     "metadata": {},
     "output_type": "execute_result"
    },
    {
     "data": {
      "image/png": "[encoded data removed]",
      "text/plain": [
       "<Figure size 700x500 with 1 Axes>"
      ]
     },
     "metadata": {},
     "output_type": "display_data"
    }
   ],
   "source": [
    "df.groupby('alchemy_category')['label'].value_counts().plot(kind='barh',figsize=(7,5),title=\"exploration of alchemy_category\")"
   ]
  },
  {
   "cell_type": "code",
   "execution_count": null,
   "id": "8de2101e",
   "metadata": {
    "id": "8de2101e"
   },
   "outputs": [],
   "source": [
    "alchemy_key=list(df['alchemy_category'].value_counts().keys())"
   ]
  },
  {
   "cell_type": "code",
   "execution_count": null,
   "id": "22289378",
   "metadata": {
    "id": "22289378"
   },
   "outputs": [],
   "source": [
    "alchemy_map={j:i for i,j in enumerate(alchemy_key)}"
   ]
  },
  {
   "cell_type": "code",
   "execution_count": null,
   "id": "98b7fb82",
   "metadata": {
    "id": "98b7fb82"
   },
   "outputs": [],
   "source": [
    "df.alchemy_category=df['alchemy_category'].map(alchemy_map)"
   ]
  },
  {
   "cell_type": "code",
   "execution_count": null,
   "id": "d01f6454",
   "metadata": {
    "id": "d01f6454"
   },
   "outputs": [],
   "source": [
    "df_tst.alchemy_category=df_tst['alchemy_category'].map(alchemy_map)"
   ]
  },
  {
   "cell_type": "code",
   "execution_count": null,
   "id": "963e6c7f",
   "metadata": {
    "id": "963e6c7f",
    "outputId": "069d0db4-fa94-4e9a-8e7c-fe775a04747a"
   },
   "outputs": [
    {
     "data": {
      "text/plain": [
       "<AxesSubplot: title={'center': 'exploration of spelling_errors_ratio'}, ylabel='label'>"
      ]
     },
     "execution_count": 241,
     "metadata": {},
     "output_type": "execute_result"
    },
    {
     "data": {
      "image/png": "[encoded data removed]",
      "text/plain": [
       "<Figure size 640x480 with 1 Axes>"
      ]
     },
     "metadata": {},
     "output_type": "display_data"
    }
   ],
   "source": [
    "df.groupby('label')['spelling_errors_ratio'].mean().plot(kind='barh',title='exploration of spelling_errors_ratio')"
   ]
  },
  {
   "cell_type": "code",
   "execution_count": null,
   "id": "eb65043c",
   "metadata": {
    "id": "eb65043c",
    "outputId": "5f49630b-3305-4e56-a6f0-74b6e17cd304"
   },
   "outputs": [
    {
     "data": {
      "text/plain": [
       "<AxesSubplot: title={'center': 'exploration of numwords in url'}, xlabel='label'>"
      ]
     },
     "execution_count": 245,
     "metadata": {},
     "output_type": "execute_result"
    },
    {
     "data": {
      "image/png": "[encoded data removed]",
      "text/plain": [
       "<Figure size 640x480 with 1 Axes>"
      ]
     },
     "metadata": {},
     "output_type": "display_data"
    }
   ],
   "source": [
    "df.groupby('label')['numwords_in_url'].mean().plot(kind='bar',title='exploration of numwords in url')"
   ]
  },
  {
   "cell_type": "code",
   "execution_count": null,
   "id": "a7a02601",
   "metadata": {
    "id": "a7a02601"
   },
   "outputs": [],
   "source": [
    "from transformers import pipeline"
   ]
  },
  {
   "cell_type": "code",
   "execution_count": null,
   "id": "f0bb66f1",
   "metadata": {
    "id": "f0bb66f1",
    "outputId": "f2127f6e-9c6e-4d19-d7a7-fdc036b37b87"
   },
   "outputs": [
    {
     "name": "stderr",
     "output_type": "stream",
     "text": [
      "All model checkpoint layers were used when initializing TFRobertaForSequenceClassification.\n",
      "\n",
      "All the layers of TFRobertaForSequenceClassification were initialized from the model checkpoint at finiteautomata/bertweet-base-sentiment-analysis.\n",
      "If your task is similar to the task the model of the checkpoint was trained on, you can already use TFRobertaForSequenceClassification for predictions without further training.\n",
      "emoji is not installed, thus not converting emoticons or emojis into text. Install emoji: pip3 install emoji==0.6.0\n"
     ]
    }
   ],
   "source": [
    "model_name=\"finiteautomata/bertweet-base-sentiment-analysis\"\n",
    "sent_model=pipeline(model=model_name)"
   ]
  },
  {
   "cell_type": "code",
   "execution_count": null,
   "id": "593de278",
   "metadata": {
    "id": "593de278",
    "outputId": "8b0d41fe-5c57-4621-adeb-80bf520f20fd"
   },
   "outputs": [
    {
     "data": {
      "text/plain": [
       "[{'label': 'NEU', 'score': 0.813655436038971}]"
      ]
     },
     "execution_count": 275,
     "metadata": {},
     "output_type": "execute_result"
    }
   ],
   "source": [
    "\n",
    "sent_model('')"
   ]
  },
  {
   "cell_type": "code",
   "execution_count": null,
   "id": "18f92d66",
   "metadata": {
    "id": "18f92d66"
   },
   "outputs": [],
   "source": [
    "def sentiment_title(x):\n",
    "    dic={'POS':0,'NEU':1}\n",
    "    if pd.isnull(x):\n",
    "        x=''\n",
    "    label=sent_model(x)[0]['label']\n",
    "    if label in dic:\n",
    "        return dic[label]\n",
    "    else:\n",
    "        return 2\n"
   ]
  },
  {
   "cell_type": "code",
   "execution_count": null,
   "id": "3e478c7f",
   "metadata": {
    "id": "3e478c7f"
   },
   "outputs": [],
   "source": [
    "df['sent_title']=df['title'].apply(lambda x:sentiment_title(x))"
   ]
  },
  {
   "cell_type": "code",
   "execution_count": null,
   "id": "99624d31",
   "metadata": {
    "id": "99624d31"
   },
   "outputs": [],
   "source": [
    "df_tst['sent_title']=df_tst['title'].apply(lambda x:sentiment_title(x))"
   ]
  },
  {
   "cell_type": "code",
   "execution_count": null,
   "id": "07d62f88",
   "metadata": {
    "id": "07d62f88",
    "outputId": "f1370dbb-83d4-4a5e-b218-8a07c1b24981"
   },
   "outputs": [
    {
     "data": {
      "text/plain": [
       "<AxesSubplot: title={'center': 'exploration of setiment vs label'}, ylabel='label,sent_title'>"
      ]
     },
     "execution_count": 283,
     "metadata": {},
     "output_type": "execute_result"
    },
    {
     "data": {
      "image/png": "[encoded data removed]",
      "text/plain": [
       "<Figure size 700x500 with 1 Axes>"
      ]
     },
     "metadata": {},
     "output_type": "display_data"
    }
   ],
   "source": [
    "df1=df.copy()\n",
    "df1['label']=df1['label'].map({0:\"epipheral\",1:\"evergreen\"})\n",
    "df1['sent_title']=df1['sent_title'].map({0:\"positive\",1:'neutral',2:\"negative\"})\n",
    "df1.groupby('label')['sent_title'].value_counts().plot(kind='barh',figsize=(7,5),title='exploration of setiment vs label')"
   ]
  },
  {
   "cell_type": "code",
   "execution_count": null,
   "id": "ed6e5fef",
   "metadata": {
    "id": "ed6e5fef"
   },
   "outputs": [],
   "source": [
    "del df1"
   ]
  },
  {
   "cell_type": "code",
   "execution_count": null,
   "id": "f033905f",
   "metadata": {
    "id": "f033905f"
   },
   "outputs": [],
   "source": [
    "df.to_csv(file_path)"
   ]
  },
  {
   "cell_type": "code",
   "execution_count": 7,
   "id": "2aff6984",
   "metadata": {
    "id": "2aff6984"
   },
   "outputs": [],
   "source": [
    "\n",
    "df=pd.read_csv(file_path)"
   ]
  },
  {
   "cell_type": "code",
   "execution_count": null,
   "id": "8ccc73d8",
   "metadata": {
    "colab": {
     "base_uri": "https://localhost:8080/"
    },
    "id": "8ccc73d8",
    "outputId": "c785ad27-b335-44e9-a746-3516527be207"
   },
   "outputs": [
    {
     "name": "stdout",
     "output_type": "stream",
     "text": [
      "<class 'pandas.core.frame.DataFrame'>\n",
      "RangeIndex: 7395 entries, 0 to 7394\n",
      "Data columns (total 34 columns):\n",
      " #   Column                          Non-Null Count  Dtype  \n",
      "---  ------                          --------------  -----  \n",
      " 0   Unnamed: 0                      7395 non-null   int64  \n",
      " 1   url                             7395 non-null   object \n",
      " 2   urlid                           7395 non-null   int64  \n",
      " 3   boilerplate                     7395 non-null   object \n",
      " 4   alchemy_category                7395 non-null   object \n",
      " 5   alchemy_category_score          7395 non-null   object \n",
      " 6   avglinksize                     7395 non-null   float64\n",
      " 7   commonlinkratio_1               7395 non-null   float64\n",
      " 8   commonlinkratio_2               7395 non-null   float64\n",
      " 9   commonlinkratio_3               7395 non-null   float64\n",
      " 10  commonlinkratio_4               7395 non-null   float64\n",
      " 11  compression_ratio               7395 non-null   float64\n",
      " 12  embed_ratio                     7395 non-null   float64\n",
      " 13  framebased                      7395 non-null   int64  \n",
      " 14  frameTagRatio                   7395 non-null   float64\n",
      " 15  hasDomainLink                   7395 non-null   int64  \n",
      " 16  html_ratio                      7395 non-null   float64\n",
      " 17  image_ratio                     7395 non-null   float64\n",
      " 18  is_news                         7395 non-null   object \n",
      " 19  lengthyLinkDomain               7395 non-null   int64  \n",
      " 20  linkwordscore                   7395 non-null   int64  \n",
      " 21  news_front_page                 7395 non-null   object \n",
      " 22  non_markup_alphanum_characters  7395 non-null   int64  \n",
      " 23  numberOfLinks                   7395 non-null   int64  \n",
      " 24  numwords_in_url                 7395 non-null   int64  \n",
      " 25  parametrizedLinkRatio           7395 non-null   float64\n",
      " 26  spelling_errors_ratio           7395 non-null   float64\n",
      " 27  label                           7395 non-null   int64  \n",
      " 28  title                           7375 non-null   object \n",
      " 29  body                            7337 non-null   object \n",
      " 30  url_b                           7335 non-null   object \n",
      " 31  title_len                       7395 non-null   int64  \n",
      " 32  body_len                        7395 non-null   int64  \n",
      " 33  sent_title                      7395 non-null   int64  \n",
      "dtypes: float64(12), int64(13), object(9)\n",
      "memory usage: 1.9+ MB\n"
     ]
    }
   ],
   "source": [
    "df.info()"
   ]
  },
  {
   "cell_type": "code",
   "execution_count": null,
   "id": "fdf0a00b",
   "metadata": {
    "id": "fdf0a00b"
   },
   "outputs": [],
   "source": []
  },
  {
   "cell_type": "code",
   "execution_count": null,
   "id": "4bcbe2f7",
   "metadata": {
    "id": "4bcbe2f7",
    "outputId": "7effaa6e-d294-49a9-95ec-ab70d6eddbfb"
   },
   "outputs": [
    {
     "data": {
      "image/png": "[encoded data removed]",
      "text/plain": [
       "<Figure size 700x500 with 1 Axes>"
      ]
     },
     "metadata": {},
     "output_type": "display_data"
    }
   ],
   "source": [
    "copy_df=df.copy()\n",
    "copy_df['label']=copy_df['label'].map({0:'epipheral',1:'evergreen'})\n",
    "copy_df['lengthyLinkDomain']=copy_df['lengthyLinkDomain'].map({0:\"not lengthy\",1:\"lengthy\"})\n",
    "copy_df.groupby('label')[\"lengthyLinkDomain\"].value_counts().plot(kind='barh',figsize=(7,5),title=\"exploration of length of domian vs label\")\n",
    "del copy_df"
   ]
  },
  {
   "cell_type": "code",
   "execution_count": null,
   "id": "2cd0a0f0",
   "metadata": {
    "id": "2cd0a0f0",
    "outputId": "e9ad5587-4f26-420a-f446-47dc3c9415ed"
   },
   "outputs": [
    {
     "data": {
      "text/plain": [
       "<AxesSubplot: xlabel='label'>"
      ]
     },
     "execution_count": 45,
     "metadata": {},
     "output_type": "execute_result"
    },
    {
     "data": {
      "image/png": "[encoded data removed]",
      "text/plain": [
       "<Figure size 640x480 with 1 Axes>"
      ]
     },
     "metadata": {},
     "output_type": "display_data"
    }
   ],
   "source": [
    "df.groupby('label')['avglinksize'].mean().plot(kind='bar')"
   ]
  },
  {
   "cell_type": "code",
   "execution_count": null,
   "id": "6bac1cb5",
   "metadata": {
    "id": "6bac1cb5",
    "outputId": "3fc11a49-338d-4264-972a-9cc5e12f6695"
   },
   "outputs": [
    {
     "data": {
      "text/plain": [
       "?            2342\n",
       "0.85           82\n",
       "0.0784091      40\n",
       "0.849999       12\n",
       "0.535009       10\n",
       "             ... \n",
       "0.776397        1\n",
       "0.351398        1\n",
       "0.642615        1\n",
       "0.640796        1\n",
       "0.617876        1\n",
       "Name: alchemy_category_score, Length: 4806, dtype: int64"
      ]
     },
     "execution_count": 46,
     "metadata": {},
     "output_type": "execute_result"
    }
   ],
   "source": [
    "df.alchemy_category_score.value_counts()"
   ]
  },
  {
   "cell_type": "markdown",
   "id": "_xUC3rox5dOc",
   "metadata": {
    "id": "_xUC3rox5dOc"
   },
   "source": [
    "**Feature Selection**"
   ]
  },
  {
   "cell_type": "code",
   "execution_count": null,
   "id": "333ad638",
   "metadata": {
    "id": "333ad638"
   },
   "outputs": [],
   "source": [
    "num_features=df.drop(columns=['lengthyLinkDomain','avglinksize','title','body','url_b','news_front_page','is_news',\"alchemy_category_score\",\"url\",'boilerplate',\"Unnamed: 0\",'label'])"
   ]
  },
  {
   "cell_type": "code",
   "execution_count": null,
   "id": "2a70277c",
   "metadata": {
    "id": "2a70277c",
    "outputId": "68db947b-1767-4fc0-d052-cd223db04622"
   },
   "outputs": [
    {
     "name": "stdout",
     "output_type": "stream",
     "text": [
      "<class 'pandas.core.frame.DataFrame'>\n",
      "RangeIndex: 7395 entries, 0 to 7394\n",
      "Data columns (total 22 columns):\n",
      " #   Column                          Non-Null Count  Dtype  \n",
      "---  ------                          --------------  -----  \n",
      " 0   urlid                           7395 non-null   int64  \n",
      " 1   alchemy_category                7395 non-null   int64  \n",
      " 2   commonlinkratio_1               7395 non-null   float64\n",
      " 3   commonlinkratio_2               7395 non-null   float64\n",
      " 4   commonlinkratio_3               7395 non-null   float64\n",
      " 5   commonlinkratio_4               7395 non-null   float64\n",
      " 6   compression_ratio               7395 non-null   float64\n",
      " 7   embed_ratio                     7395 non-null   float64\n",
      " 8   framebased                      7395 non-null   int64  \n",
      " 9   frameTagRatio                   7395 non-null   float64\n",
      " 10  hasDomainLink                   7395 non-null   int64  \n",
      " 11  html_ratio                      7395 non-null   float64\n",
      " 12  image_ratio                     7395 non-null   float64\n",
      " 13  linkwordscore                   7395 non-null   int64  \n",
      " 14  non_markup_alphanum_characters  7395 non-null   int64  \n",
      " 15  numberOfLinks                   7395 non-null   int64  \n",
      " 16  numwords_in_url                 7395 non-null   int64  \n",
      " 17  parametrizedLinkRatio           7395 non-null   float64\n",
      " 18  spelling_errors_ratio           7395 non-null   float64\n",
      " 19  title_len                       7395 non-null   int64  \n",
      " 20  body_len                        7395 non-null   int64  \n",
      " 21  sent_title                      7395 non-null   int64  \n",
      "dtypes: float64(11), int64(11)\n",
      "memory usage: 1.2 MB\n"
     ]
    }
   ],
   "source": [
    "num_features.info()"
   ]
  },
  {
   "cell_type": "code",
   "execution_count": null,
   "id": "acaad429",
   "metadata": {
    "id": "acaad429"
   },
   "outputs": [],
   "source": [
    "y=df['label']"
   ]
  },
  {
   "cell_type": "code",
   "execution_count": null,
   "id": "57f4e310",
   "metadata": {
    "id": "57f4e310",
    "outputId": "5033b653-b151-4556-e31f-39d9895a128a"
   },
   "outputs": [
    {
     "data": {
      "text/plain": [
       "1    3796\n",
       "0    3599\n",
       "Name: label, dtype: int64"
      ]
     },
     "execution_count": 14,
     "metadata": {},
     "output_type": "execute_result"
    }
   ],
   "source": [
    "y.value_counts()\n"
   ]
  },
  {
   "cell_type": "markdown",
   "id": "hNkpsLjw5Xfb",
   "metadata": {
    "id": "hNkpsLjw5Xfb"
   },
   "source": [
    "**Train_test_split**"
   ]
  },
  {
   "cell_type": "code",
   "execution_count": null,
   "id": "31ee1621",
   "metadata": {
    "id": "31ee1621"
   },
   "outputs": [],
   "source": [
    "sss=StratifiedShuffleSplit(n_splits=3,random_state=0,test_size=0.2)"
   ]
  },
  {
   "cell_type": "code",
   "execution_count": null,
   "id": "ba3d9e24",
   "metadata": {
    "id": "ba3d9e24",
    "outputId": "399e837b-d4b7-4e0c-81ce-68d55c1eda94"
   },
   "outputs": [
    {
     "data": {
      "text/plain": [
       "3"
      ]
     },
     "execution_count": 17,
     "metadata": {},
     "output_type": "execute_result"
    }
   ],
   "source": [
    "sss.get_n_splits(num_features,y)"
   ]
  },
  {
   "cell_type": "code",
   "execution_count": null,
   "id": "2449141f",
   "metadata": {
    "id": "2449141f"
   },
   "outputs": [],
   "source": [
    "sss?"
   ]
  },
  {
   "cell_type": "code",
   "execution_count": null,
   "id": "894538af",
   "metadata": {
    "id": "894538af",
    "outputId": "ea87bdaa-7bdc-4166-d4ca-c22dcae073cb"
   },
   "outputs": [
    {
     "data": {
      "text/plain": [
       "(7395, 22)"
      ]
     },
     "execution_count": 19,
     "metadata": {},
     "output_type": "execute_result"
    }
   ],
   "source": [
    "xtrain=[]\n",
    "for j in range(len(num_features)):\n",
    "    xtr=[]\n",
    "    for i in num_features:\n",
    "        xtr.append(num_features[i][j])\n",
    "    xtrain.append(xtr)\n",
    "xtrain=np.asarray(xtrain)\n",
    "xtrain.shape"
   ]
  },
  {
   "cell_type": "code",
   "execution_count": null,
   "id": "b627331b",
   "metadata": {
    "id": "b627331b"
   },
   "outputs": [],
   "source": [
    "ytrain=np.asarray(list(df['label']))\n",
    "ytrain=ytrain.reshape(7395,1)\n"
   ]
  },
  {
   "cell_type": "markdown",
   "id": "i51R06-E33Jq",
   "metadata": {
    "id": "i51R06-E33Jq"
   },
   "source": [
    "**Building and Fitting on ML model**"
   ]
  },
  {
   "cell_type": "code",
   "execution_count": null,
   "id": "27606f93",
   "metadata": {
    "id": "27606f93"
   },
   "outputs": [],
   "source": [
    "model=RandomForestClassifier(n_estimators=75,max_depth=20)\n",
    "# model=SVC()\n",
    "# model=CatBoostClassifier(**params)\n",
    "# model=DecisionTreeClassifier()\n",
    "# model=LogisticRegression()"
   ]
  },
  {
   "cell_type": "code",
   "execution_count": null,
   "id": "7f606c9f",
   "metadata": {
    "id": "7f606c9f",
    "outputId": "18414670-22ae-47f4-b747-cb754b1021dc"
   },
   "outputs": [
    {
     "name": "stderr",
     "output_type": "stream",
     "text": [
      "C:\\Users\\krish\\AppData\\Local\\Temp\\ipykernel_52120\\4144360547.py:3: DataConversionWarning: A column-vector y was passed when a 1d array was expected. Please change the shape of y to (n_samples,), for example using ravel().\n",
      "  model.fit(xtrain[i],ytrain[i])\n"
     ]
    },
    {
     "name": "stdout",
     "output_type": "stream",
     "text": [
      "[0 0 0 ... 0 0 1]\n",
      "0.6869506423258959\n"
     ]
    },
    {
     "name": "stderr",
     "output_type": "stream",
     "text": [
      "C:\\Users\\krish\\AppData\\Local\\Temp\\ipykernel_52120\\4144360547.py:3: DataConversionWarning: A column-vector y was passed when a 1d array was expected. Please change the shape of y to (n_samples,), for example using ravel().\n",
      "  model.fit(xtrain[i],ytrain[i])\n"
     ]
    },
    {
     "name": "stdout",
     "output_type": "stream",
     "text": [
      "[1 1 1 ... 1 1 0]\n",
      "0.6937119675456389\n"
     ]
    },
    {
     "name": "stderr",
     "output_type": "stream",
     "text": [
      "C:\\Users\\krish\\AppData\\Local\\Temp\\ipykernel_52120\\4144360547.py:3: DataConversionWarning: A column-vector y was passed when a 1d array was expected. Please change the shape of y to (n_samples,), for example using ravel().\n",
      "  model.fit(xtrain[i],ytrain[i])\n"
     ]
    },
    {
     "name": "stdout",
     "output_type": "stream",
     "text": [
      "[1 1 1 ... 0 0 0]\n",
      "0.6788370520622042\n"
     ]
    }
   ],
   "source": [
    "for i,j in sss.split(xtrain,ytrain):\n",
    "#     print(i['train'])\n",
    "    model.fit(xtrain[i],ytrain[i])\n",
    "    pred=model.predict(xtrain[j])\n",
    "    print(pred)\n",
    "#     print(len(pred),len(ytrain[j].reshape(1479)))\n",
    "    print(model.score(xtrain[j],ytrain[j]))\n"
   ]
  },
  {
   "cell_type": "code",
   "execution_count": null,
   "id": "4da9bd43",
   "metadata": {
    "id": "4da9bd43",
    "outputId": "df23c7f8-fd6d-4d59-e920-d5a6b17bacec"
   },
   "outputs": [
    {
     "data": {
      "text/plain": [
       "array([1])"
      ]
     },
     "execution_count": 156,
     "metadata": {},
     "output_type": "execute_result"
    }
   ],
   "source": [
    "model.predict([xtrain[1001]])"
   ]
  },
  {
   "cell_type": "code",
   "execution_count": null,
   "id": "b71bf65b",
   "metadata": {
    "id": "b71bf65b",
    "outputId": "b8388713-1975-45a0-85ab-65e224caefe8"
   },
   "outputs": [
    {
     "data": {
      "text/plain": [
       "array([7.47400000e+03, 1.00000000e+00, 6.91176471e-01, 2.72058824e-01,\n",
       "       5.14705880e-02, 7.35294100e-03, 5.67322239e-01, 0.00000000e+00,\n",
       "       0.00000000e+00, 3.74087590e-02, 0.00000000e+00, 1.41236939e-01,\n",
       "       8.64077670e-01, 1.30000000e+01, 7.88300000e+03, 1.36000000e+02,\n",
       "       4.00000000e+00, 3.52941176e-01, 1.04761905e-01, 3.10000000e+01,\n",
       "       6.61000000e+02, 1.00000000e+00])"
      ]
     },
     "execution_count": 157,
     "metadata": {},
     "output_type": "execute_result"
    }
   ],
   "source": [
    "xtrain[100]"
   ]
  },
  {
   "cell_type": "code",
   "execution_count": null,
   "id": "4612b119",
   "metadata": {
    "id": "4612b119",
    "outputId": "f37a8a6f-5f35-4bc1-84b5-8176843888d6"
   },
   "outputs": [
    {
     "data": {
      "text/plain": [
       "array([1])"
      ]
     },
     "execution_count": 158,
     "metadata": {},
     "output_type": "execute_result"
    }
   ],
   "source": [
    "ytrain[1001]"
   ]
  },
  {
   "cell_type": "code",
   "execution_count": null,
   "id": "adbb373e",
   "metadata": {
    "id": "adbb373e"
   },
   "outputs": [],
   "source": [
    "tst=df_tst[list(num_features.columns)]"
   ]
  },
  {
   "cell_type": "code",
   "execution_count": null,
   "id": "5cab29e5",
   "metadata": {
    "id": "5cab29e5",
    "outputId": "f55766d0-cc83-42f7-eb99-e002a69bb01d"
   },
   "outputs": [
    {
     "data": {
      "text/plain": [
       "(3171, 22)"
      ]
     },
     "execution_count": 161,
     "metadata": {},
     "output_type": "execute_result"
    }
   ],
   "source": [
    "xtst=[]\n",
    "for j in range(len(tst)):\n",
    "    xtr=[]\n",
    "    for i in tst:\n",
    "        xtr.append(tst[i][j])\n",
    "    xtst.append(xtr)\n",
    "xtst=np.asarray(xtst)\n",
    "xtst.shape"
   ]
  },
  {
   "cell_type": "code",
   "execution_count": null,
   "id": "e2d61ae1",
   "metadata": {
    "id": "e2d61ae1"
   },
   "outputs": [],
   "source": [
    "tst_pred=model.predict(xtst)"
   ]
  },
  {
   "cell_type": "code",
   "execution_count": null,
   "id": "4a76e652",
   "metadata": {
    "id": "4a76e652",
    "outputId": "24264bd6-0e8d-4b8f-a6a3-5d97557a0e4a"
   },
   "outputs": [
    {
     "data": {
      "text/plain": [
       "array([1, 0, 0, ..., 1, 0, 1])"
      ]
     },
     "execution_count": 167,
     "metadata": {},
     "output_type": "execute_result"
    }
   ],
   "source": [
    "tst_pred"
   ]
  },
  {
   "cell_type": "code",
   "execution_count": 5,
   "id": "f2e9bf41",
   "metadata": {
    "id": "f2e9bf41"
   },
   "outputs": [],
   "source": [
    "df5=pd.read_csv(\"data\\\\sampleSubmission.csv\")"
   ]
  },
  {
   "cell_type": "code",
   "execution_count": null,
   "id": "7dd12147",
   "metadata": {
    "id": "7dd12147"
   },
   "outputs": [],
   "source": [
    "num_features.to_csv(\"data\\\\num_features.csv\")\n",
    "tst.to_csv(\"data\\\\tst.csv\")"
   ]
  },
  {
   "cell_type": "code",
   "execution_count": null,
   "id": "bb4f0727",
   "metadata": {
    "id": "bb4f0727",
    "outputId": "a5b5008b-2044-4060-a9a9-c27eaf8c4cb3"
   },
   "outputs": [
    {
     "name": "stdout",
     "output_type": "stream",
     "text": [
      "<class 'pandas.core.frame.DataFrame'>\n",
      "RangeIndex: 3171 entries, 0 to 3170\n",
      "Data columns (total 2 columns):\n",
      " #   Column  Non-Null Count  Dtype\n",
      "---  ------  --------------  -----\n",
      " 0   urlid   3171 non-null   int64\n",
      " 1   label   3171 non-null   int64\n",
      "dtypes: int64(2)\n",
      "memory usage: 49.7 KB\n"
     ]
    }
   ],
   "source": [
    "df5.info()"
   ]
  },
  {
   "cell_type": "code",
   "execution_count": null,
   "id": "010b16a5",
   "metadata": {
    "id": "010b16a5"
   },
   "outputs": [],
   "source": [
    "df5['label']=tst_pred"
   ]
  },
  {
   "cell_type": "code",
   "execution_count": null,
   "id": "ef46d98d",
   "metadata": {
    "id": "ef46d98d"
   },
   "outputs": [],
   "source": [
    "df5.to_csv(\"data\\\\Submission.csv\")"
   ]
  },
  {
   "cell_type": "code",
   "execution_count": null,
   "id": "973decc7",
   "metadata": {
    "id": "973decc7",
    "outputId": "4d49b6f7-e013-4e65-d268-5464db9ffb76"
   },
   "outputs": [
    {
     "data": {
      "text/plain": [
       "'IBM Sees Holographic Calls Air Breathing Batteries ibm sees holographic calls, air-breathing batteries'"
      ]
     },
     "execution_count": 6,
     "metadata": {},
     "output_type": "execute_result"
    }
   ],
   "source": [
    "df['title'][0]"
   ]
  },
  {
   "cell_type": "code",
   "execution_count": 8,
   "id": "dae8c1df",
   "metadata": {
    "id": "dae8c1df"
   },
   "outputs": [],
   "source": [
    "df['text']=df['title']+\". \"+df['body']"
   ]
  },
  {
   "cell_type": "code",
   "execution_count": 9,
   "id": "2ddef0d8",
   "metadata": {
    "id": "2ddef0d8"
   },
   "outputs": [],
   "source": [
    "df['text_len']=df['title_len']+df['body_len']"
   ]
  },
  {
   "cell_type": "code",
   "execution_count": 10,
   "id": "DNhn5gOYfRcQ",
   "metadata": {
    "colab": {
     "base_uri": "https://localhost:8080/"
    },
    "id": "DNhn5gOYfRcQ",
    "outputId": "67f8e3ab-0d6a-43d3-b0cb-b4c598039940"
   },
   "outputs": [
    {
     "data": {
      "text/plain": [
       "6317.0"
      ]
     },
     "execution_count": 10,
     "metadata": {},
     "output_type": "execute_result"
    }
   ],
   "source": [
    "df['text_len'][0]"
   ]
  },
  {
   "cell_type": "code",
   "execution_count": 11,
   "id": "aa41d06a",
   "metadata": {
    "colab": {
     "base_uri": "https://localhost:8080/",
     "height": 447
    },
    "id": "aa41d06a",
    "outputId": "12b5a654-7704-41b8-bcf7-a8f8f6d26ae3"
   },
   "outputs": [
    {
     "data": {
      "text/plain": [
       "[<matplotlib.lines.Line2D at 0x799380339420>]"
      ]
     },
     "execution_count": 11,
     "metadata": {},
     "output_type": "execute_result"
    },
    {
     "data": {
      "image/png": "[encoded data removed]",
      "text/plain": [
       "<Figure size 640x480 with 1 Axes>"
      ]
     },
     "metadata": {},
     "output_type": "display_data"
    }
   ],
   "source": [
    "plt.plot(df['text_len'])"
   ]
  },
  {
   "cell_type": "code",
   "execution_count": 12,
   "id": "c4e6ade8",
   "metadata": {
    "colab": {
     "base_uri": "https://localhost:8080/"
    },
    "id": "c4e6ade8",
    "outputId": "6b44d744-e1dd-4026-859b-992b8dee3e3d"
   },
   "outputs": [
    {
     "data": {
      "text/plain": [
       "26775.0"
      ]
     },
     "execution_count": 12,
     "metadata": {},
     "output_type": "execute_result"
    }
   ],
   "source": [
    "max(df['text_len'])"
   ]
  },
  {
   "cell_type": "code",
   "execution_count": 13,
   "id": "693a1469",
   "metadata": {
    "colab": {
     "base_uri": "https://localhost:8080/"
    },
    "id": "693a1469",
    "outputId": "18c9c0b2-3043-4524-be4a-7cbef48eecf0"
   },
   "outputs": [
    {
     "data": {
      "text/plain": [
       "2.0"
      ]
     },
     "execution_count": 13,
     "metadata": {},
     "output_type": "execute_result"
    }
   ],
   "source": [
    "min(df['text_len'])"
   ]
  },
  {
   "cell_type": "code",
   "execution_count": 14,
   "id": "7602a3ae",
   "metadata": {
    "id": "7602a3ae"
   },
   "outputs": [],
   "source": [
    "df['text']=df.text.fillna(\" \")"
   ]
  },
  {
   "cell_type": "code",
   "execution_count": 15,
   "id": "97ebe625",
   "metadata": {
    "id": "97ebe625"
   },
   "outputs": [],
   "source": [
    "model_name='bert-base-uncased'"
   ]
  },
  {
   "cell_type": "code",
   "execution_count": 16,
   "id": "82ee78fd",
   "metadata": {
    "id": "82ee78fd"
   },
   "outputs": [],
   "source": [
    "from transformers import AutoTokenizer"
   ]
  },
  {
   "cell_type": "code",
   "execution_count": 17,
   "id": "9c11fc9a",
   "metadata": {
    "colab": {
     "base_uri": "https://localhost:8080/",
     "height": 257,
     "referenced_widgets": [
      "416c3303d3114931b07fe6837d982d66",
      "5f4ea8cb641c46798f6d4c36dc23ebeb",
      "2eb28384e13347fc8dccc510c19589c8",
      "ab55eb3df3474f5886bb527ae3eea282",
      "4e3c22c774d6427599cdaf8807d83562",
      "02a1412dc1004743a0324570ea1f3a0a",
      "bd862d9253c446a2a34cc1cc0125e65f",
      "857fa7cf8b654a2da27e2fce72bef51e",
      "d672b85e006040958904b33f52f1d9f7",
      "1834623cdf7047e88aa0d53ffaade545",
      "68e6804956104e7e846c689df72a4f6c",
      "94abfd64a13e4e6c9fbdd5ff87954d85",
      "171989d635be40e3a3a594ff6984b64c",
      "aa9120b802f64c458dbc0db28e312987",
      "67add75d4ece4a96b7c40db99bffc727",
      "b237a1402d634272a006059f6c8ac130",
      "a19f92ad40554ffe9e4e0cc33517bdfd",
      "7d384abf41a94db39c8cab6079620b11",
      "b6c22fa03df74b05b3bfb6124b8a99ad",
      "4a91fc06f18a41a787f72c7741a38558",
      "43683928cd9d44dcb5af531b56b10166",
      "8f1c4751b66c40c0acfff62d66110b7e",
      "0af8a16904724012aec0d3e67aab9ce9",
      "b70cecc42c6c4f989576f51b4463bdf1",
      "feb70e3642334b38abaa54ef7983ae61",
      "9701f19f02c64b98abf46bc247d1c827",
      "946fa3e7b0b0419b9a5d6f7305bf9357",
      "b007f0d99ac74ab4845d49d5a4c3b618",
      "96881c5a1ca84379acbf3e1192fe8c51",
      "c0835eb7b4de438e917fb696f41573c0",
      "c52a8d8d2b25431bb141c9507dff43f0",
      "dd641b8cd9bf4297baf4ea946301ba5d",
      "59394bd49105436b82cda37defd3a26b",
      "013e18ce64e54beba0808551edd2d45f",
      "ef9e5b0cb603492ea7471cad197e5931",
      "dd995adc5c344274901218c23356659b",
      "5b7678ca503747359f7aae10f02315cd",
      "588eca1cb6b7410c9a56a2f6321eb5c6",
      "d29bb2dc18a2480c8fa4f0569fe38c3f",
      "3b9b0b816e6649d09325564b275c59ee",
      "d4e461e6e163466d95fc4be243fbe390",
      "0cbe32e19ce44627954d6932ce001abe",
      "b8f378a0efc94331a019a33299fe32bc",
      "42a32cb7a9304415a1fc210ec979eeb8"
     ]
    },
    "id": "9c11fc9a",
    "outputId": "4abbd7e0-1fea-43db-e3a5-746d36aa0772"
   },
   "outputs": [
    {
     "data": {
      "application/vnd.jupyter.widget-view+json": {
       "model_id": "416c3303d3114931b07fe6837d982d66",
       "version_major": 2,
       "version_minor": 0
      },
      "text/plain": [
       "Downloading (…)okenizer_config.json:   0%|          | 0.00/28.0 [00:00<?, ?B/s]"
      ]
     },
     "metadata": {},
     "output_type": "display_data"
    },
    {
     "data": {
      "application/vnd.jupyter.widget-view+json": {
       "model_id": "94abfd64a13e4e6c9fbdd5ff87954d85",
       "version_major": 2,
       "version_minor": 0
      },
      "text/plain": [
       "Downloading (…)lve/main/config.json:   0%|          | 0.00/570 [00:00<?, ?B/s]"
      ]
     },
     "metadata": {},
     "output_type": "display_data"
    },
    {
     "data": {
      "application/vnd.jupyter.widget-view+json": {
       "model_id": "0af8a16904724012aec0d3e67aab9ce9",
       "version_major": 2,
       "version_minor": 0
      },
      "text/plain": [
       "Downloading (…)solve/main/vocab.txt:   0%|          | 0.00/232k [00:00<?, ?B/s]"
      ]
     },
     "metadata": {},
     "output_type": "display_data"
    },
    {
     "data": {
      "application/vnd.jupyter.widget-view+json": {
       "model_id": "013e18ce64e54beba0808551edd2d45f",
       "version_major": 2,
       "version_minor": 0
      },
      "text/plain": [
       "Downloading (…)/main/tokenizer.json:   0%|          | 0.00/466k [00:00<?, ?B/s]"
      ]
     },
     "metadata": {},
     "output_type": "display_data"
    }
   ],
   "source": [
    "tk=AutoTokenizer.from_pretrained(model_name)"
   ]
  },
  {
   "cell_type": "code",
   "execution_count": 18,
   "id": "403c6d69",
   "metadata": {
    "id": "403c6d69"
   },
   "outputs": [],
   "source": [
    "max_length=512\n",
    "truncation=True\n",
    "padding='max_length'"
   ]
  },
  {
   "cell_type": "code",
   "execution_count": 19,
   "id": "0c836433",
   "metadata": {
    "colab": {
     "base_uri": "https://localhost:8080/"
    },
    "id": "0c836433",
    "outputId": "474c2b49-81d2-4b37-d1e8-c8445102e3e2"
   },
   "outputs": [
    {
     "data": {
      "text/plain": [
       "{'input_ids': [101, 1996, 3929, 4816, 28971, 3225, 3282, 2008, 11027, 2015, 12637, 1999, 3837, 1996, 3929, 4816, 1010, 28971, 3225, 3282, 2008, 11027, 2015, 12637, 1999, 3837, 1996, 3929, 4816, 1010, 28971, 3225, 3282, 2008, 11027, 2015, 12637, 1999, 3837, 1012, 1998, 2008, 2064, 2022, 3344, 2006, 1037, 4946, 2302, 1996, 2038, 25016, 2205, 1996, 14827, 1041, 3282, 3225, 8779, 14827, 2009, 1055, 3733, 2000, 2202, 2005, 4379, 2074, 2129, 9577, 2135, 2485, 2070, 4386, 3837, 2024, 1998, 2129, 2172, 1996, 8117, 21823, 6679, 1997, 2009, 2035, 2064, 3043, 1996, 3819, 2742, 2003, 1996, 3151, 3225, 3282, 3849, 3733, 2017, 4139, 1037, 9495, 1998, 1996, 2679, 4627, 8797, 2054, 2111, 2123, 1056, 5136, 2043, 1037, 7511, 3282, 3632, 2125, 1996, 2614, 7930, 2000, 1996, 5551, 1997, 1996, 7541, 5479, 1037, 12884, 1997, 1037, 2117, 10076, 2084, 1996, 2500, 2008, 1055, 2074, 2438, 2000, 3043, 1998, 2339, 1996, 6745, 3225, 8779, 2038, 7007, 1999, 1996, 6228, 8797, 2005, 23339, 4816, 5005, 14827, 2038, 2042, 1996, 3422, 2194, 13487, 2004, 1996, 2880, 2051, 13106, 1997, 1996, 4386, 2399, 2144, 4673, 2012, 1996, 2230, 6930, 2399, 2027, 6006, 2037, 2047, 3225, 3282, 2029, 2003, 1037, 2521, 5390, 2013, 1996, 14430, 17863, 2015, 3378, 2007, 2220, 2399, 2009, 1055, 4415, 4816, 2021, 2145, 2062, 2084, 1037, 6462, 2008, 1055, 4508, 2000, 2131, 1996, 2265, 5291, 2055, 2004, 2521, 2185, 2004, 2017, 2064, 2131, 2763, 2096, 2145, 4415, 2108, 1037, 3225, 3282, 4139, 1996, 9495, 2320, 1998, 2125, 1996, 25977, 2015, 2175, 2065, 2009, 1055, 4508, 3807, 5486, 2135, 2009, 7755, 1037, 6270, 2707, 2551, 2083, 1037, 5882, 2291, 2003, 2054, 11027, 2015, 2151, 2785, 1997, 5056, 2005, 7576, 2009, 1055, 2025, 1037, 2502, 5056, 2108, 2485, 2000, 1037, 3282, 2021, 1996, 2614, 1997, 1996, 7960, 7118, 2028, 8316, 2296, 2093, 4971, 5562, 8663, 5104, 2071, 9002, 2000, 1037, 2663, 9898, 18248, 2031, 2042, 4198, 2000, 1037, 5882, 2291, 2077, 2021, 2130, 2059, 7190, 2071, 10509, 2000, 1996, 2614, 1997, 1996, 2613, 8779, 7493, 2738, 2084, 3524, 2005, 1996, 5882, 4165, 2000, 3362, 2068, 2023, 2095, 1055, 16437, 2097, 2031, 7492, 2872, 1041, 15549, 10521, 5794, 2102, 2013, 7190, 6932, 1996, 2614, 2000, 3362, 2169, 12692, 2012, 3599, 1996, 2168, 2051, 2009, 2876, 1056, 2022, 2019, 8216, 4489, 14827, 10984, 2604, 2266, 2848, 15876, 15378, 12260, 2099, 2056, 1999, 2019, 10373, 2021, 2043, 2017, 2228, 2055, 4668, 2335, 2108, 7594, 1999, 4714, 12884, 2015, 1997, 1037, 2117, 6885, 1037, 5882, 2369, 2169, 4644, 2038, 5892, 2151, 4066, 1997, 5056, 2005, 2151, 8258, 2027, 2035, 2963, 1996, 2707, 10954, 1998, 4742, 2012, 3599, 1996, 2168, 2617, 2045, 1055, 2036, 2019, 17359, 3334, 25346, 3114, 2005, 2049, 2298, 1999, 1037, 2695, 2244, 6252, 2088, 1037, 3282, 2006, 2049, 2126, 2000, 1037, 2350, 2724, 2003, 2183, 2000, 5333, 2062, 2084, 1037, 2261, 24529, 2050, 8407, 2130, 2065, 2009, 1055, 1037, 12689, 2559, 8275, 2738, 2084, 3066, 2007, 2008, 1996, 1041, 3282, 2064, 2022, 9687, 2096, 2145, 8498, 1996, 2236, 2298, 1997, 1037, 3225, 3282, 2021, 2045, 1055, 2145, 2498, 2066, 4994, 1037, 3225, 3282, 2175, 2125, 2012, 1996, 2707, 1997, 102], 'token_type_ids': [0, 0, 0, 0, 0, 0, 0, 0, 0, 0, 0, 0, 0, 0, 0, 0, 0, 0, 0, 0, 0, 0, 0, 0, 0, 0, 0, 0, 0, 0, 0, 0, 0, 0, 0, 0, 0, 0, 0, 0, 0, 0, 0, 0, 0, 0, 0, 0, 0, 0, 0, 0, 0, 0, 0, 0, 0, 0, 0, 0, 0, 0, 0, 0, 0, 0, 0, 0, 0, 0, 0, 0, 0, 0, 0, 0, 0, 0, 0, 0, 0, 0, 0, 0, 0, 0, 0, 0, 0, 0, 0, 0, 0, 0, 0, 0, 0, 0, 0, 0, 0, 0, 0, 0, 0, 0, 0, 0, 0, 0, 0, 0, 0, 0, 0, 0, 0, 0, 0, 0, 0, 0, 0, 0, 0, 0, 0, 0, 0, 0, 0, 0, 0, 0, 0, 0, 0, 0, 0, 0, 0, 0, 0, 0, 0, 0, 0, 0, 0, 0, 0, 0, 0, 0, 0, 0, 0, 0, 0, 0, 0, 0, 0, 0, 0, 0, 0, 0, 0, 0, 0, 0, 0, 0, 0, 0, 0, 0, 0, 0, 0, 0, 0, 0, 0, 0, 0, 0, 0, 0, 0, 0, 0, 0, 0, 0, 0, 0, 0, 0, 0, 0, 0, 0, 0, 0, 0, 0, 0, 0, 0, 0, 0, 0, 0, 0, 0, 0, 0, 0, 0, 0, 0, 0, 0, 0, 0, 0, 0, 0, 0, 0, 0, 0, 0, 0, 0, 0, 0, 0, 0, 0, 0, 0, 0, 0, 0, 0, 0, 0, 0, 0, 0, 0, 0, 0, 0, 0, 0, 0, 0, 0, 0, 0, 0, 0, 0, 0, 0, 0, 0, 0, 0, 0, 0, 0, 0, 0, 0, 0, 0, 0, 0, 0, 0, 0, 0, 0, 0, 0, 0, 0, 0, 0, 0, 0, 0, 0, 0, 0, 0, 0, 0, 0, 0, 0, 0, 0, 0, 0, 0, 0, 0, 0, 0, 0, 0, 0, 0, 0, 0, 0, 0, 0, 0, 0, 0, 0, 0, 0, 0, 0, 0, 0, 0, 0, 0, 0, 0, 0, 0, 0, 0, 0, 0, 0, 0, 0, 0, 0, 0, 0, 0, 0, 0, 0, 0, 0, 0, 0, 0, 0, 0, 0, 0, 0, 0, 0, 0, 0, 0, 0, 0, 0, 0, 0, 0, 0, 0, 0, 0, 0, 0, 0, 0, 0, 0, 0, 0, 0, 0, 0, 0, 0, 0, 0, 0, 0, 0, 0, 0, 0, 0, 0, 0, 0, 0, 0, 0, 0, 0, 0, 0, 0, 0, 0, 0, 0, 0, 0, 0, 0, 0, 0, 0, 0, 0, 0, 0, 0, 0, 0, 0, 0, 0, 0, 0, 0, 0, 0, 0, 0, 0, 0, 0, 0, 0, 0, 0, 0, 0, 0, 0, 0, 0, 0, 0, 0, 0, 0, 0, 0, 0, 0, 0, 0, 0, 0, 0, 0, 0, 0, 0, 0, 0, 0, 0, 0, 0, 0, 0, 0, 0, 0, 0, 0, 0, 0, 0, 0, 0, 0, 0, 0, 0, 0, 0, 0, 0, 0, 0, 0, 0, 0, 0, 0, 0, 0, 0, 0, 0, 0], 'attention_mask': [1, 1, 1, 1, 1, 1, 1, 1, 1, 1, 1, 1, 1, 1, 1, 1, 1, 1, 1, 1, 1, 1, 1, 1, 1, 1, 1, 1, 1, 1, 1, 1, 1, 1, 1, 1, 1, 1, 1, 1, 1, 1, 1, 1, 1, 1, 1, 1, 1, 1, 1, 1, 1, 1, 1, 1, 1, 1, 1, 1, 1, 1, 1, 1, 1, 1, 1, 1, 1, 1, 1, 1, 1, 1, 1, 1, 1, 1, 1, 1, 1, 1, 1, 1, 1, 1, 1, 1, 1, 1, 1, 1, 1, 1, 1, 1, 1, 1, 1, 1, 1, 1, 1, 1, 1, 1, 1, 1, 1, 1, 1, 1, 1, 1, 1, 1, 1, 1, 1, 1, 1, 1, 1, 1, 1, 1, 1, 1, 1, 1, 1, 1, 1, 1, 1, 1, 1, 1, 1, 1, 1, 1, 1, 1, 1, 1, 1, 1, 1, 1, 1, 1, 1, 1, 1, 1, 1, 1, 1, 1, 1, 1, 1, 1, 1, 1, 1, 1, 1, 1, 1, 1, 1, 1, 1, 1, 1, 1, 1, 1, 1, 1, 1, 1, 1, 1, 1, 1, 1, 1, 1, 1, 1, 1, 1, 1, 1, 1, 1, 1, 1, 1, 1, 1, 1, 1, 1, 1, 1, 1, 1, 1, 1, 1, 1, 1, 1, 1, 1, 1, 1, 1, 1, 1, 1, 1, 1, 1, 1, 1, 1, 1, 1, 1, 1, 1, 1, 1, 1, 1, 1, 1, 1, 1, 1, 1, 1, 1, 1, 1, 1, 1, 1, 1, 1, 1, 1, 1, 1, 1, 1, 1, 1, 1, 1, 1, 1, 1, 1, 1, 1, 1, 1, 1, 1, 1, 1, 1, 1, 1, 1, 1, 1, 1, 1, 1, 1, 1, 1, 1, 1, 1, 1, 1, 1, 1, 1, 1, 1, 1, 1, 1, 1, 1, 1, 1, 1, 1, 1, 1, 1, 1, 1, 1, 1, 1, 1, 1, 1, 1, 1, 1, 1, 1, 1, 1, 1, 1, 1, 1, 1, 1, 1, 1, 1, 1, 1, 1, 1, 1, 1, 1, 1, 1, 1, 1, 1, 1, 1, 1, 1, 1, 1, 1, 1, 1, 1, 1, 1, 1, 1, 1, 1, 1, 1, 1, 1, 1, 1, 1, 1, 1, 1, 1, 1, 1, 1, 1, 1, 1, 1, 1, 1, 1, 1, 1, 1, 1, 1, 1, 1, 1, 1, 1, 1, 1, 1, 1, 1, 1, 1, 1, 1, 1, 1, 1, 1, 1, 1, 1, 1, 1, 1, 1, 1, 1, 1, 1, 1, 1, 1, 1, 1, 1, 1, 1, 1, 1, 1, 1, 1, 1, 1, 1, 1, 1, 1, 1, 1, 1, 1, 1, 1, 1, 1, 1, 1, 1, 1, 1, 1, 1, 1, 1, 1, 1, 1, 1, 1, 1, 1, 1, 1, 1, 1, 1, 1, 1, 1, 1, 1, 1, 1, 1, 1, 1, 1, 1, 1, 1, 1, 1, 1, 1, 1, 1, 1, 1, 1, 1, 1, 1, 1, 1, 1, 1, 1, 1, 1, 1, 1, 1, 1, 1, 1, 1, 1, 1, 1, 1, 1, 1]}"
      ]
     },
     "execution_count": 19,
     "metadata": {},
     "output_type": "execute_result"
    }
   ],
   "source": [
    "tk(df['text'][1],max_length=max_length,padding=padding,truncation=truncation)"
   ]
  },
  {
   "cell_type": "code",
   "execution_count": 20,
   "id": "5530b896",
   "metadata": {
    "colab": {
     "base_uri": "https://localhost:8080/"
    },
    "id": "5530b896",
    "outputId": "f89266cd-a477-40bc-caf1-6ea3f6c5d3d2"
   },
   "outputs": [
    {
     "data": {
      "text/plain": [
       "1189"
      ]
     },
     "execution_count": 20,
     "metadata": {},
     "output_type": "execute_result"
    }
   ],
   "source": [
    "\n",
    "len(df)"
   ]
  },
  {
   "cell_type": "markdown",
   "id": "c3wud28e3ndD",
   "metadata": {
    "id": "c3wud28e3ndD"
   },
   "source": [
    "**Tokenizing Text**"
   ]
  },
  {
   "cell_type": "code",
   "execution_count": 21,
   "id": "68ec7765",
   "metadata": {
    "id": "68ec7765"
   },
   "outputs": [],
   "source": [
    "\n",
    "def tokenize(df):\n",
    "    xtrain_inp=np.zeros((len(df),max_length))\n",
    "    xtrain_mask=np.zeros((len(df),max_length))\n",
    "    for i in range(len(df['text'])):\n",
    "        txt=df['text'][i]\n",
    "        xt=tk(txt,max_length=max_length,padding=padding,truncation=truncation)\n",
    "        xtrain_inp[i,:]=xt['input_ids']\n",
    "        xtrain_mask[i,:]=xt['attention_mask']\n",
    "    dic={}\n",
    "    dic['input_ids']=xtrain_inp\n",
    "    dic['attention_mask']=xtrain_mask\n",
    "    return dic"
   ]
  },
  {
   "cell_type": "code",
   "execution_count": 22,
   "id": "9765fa9e",
   "metadata": {
    "id": "9765fa9e"
   },
   "outputs": [],
   "source": [
    "x_train=tokenize(df)"
   ]
  },
  {
   "cell_type": "code",
   "execution_count": 23,
   "id": "485475d4",
   "metadata": {
    "colab": {
     "base_uri": "https://localhost:8080/"
    },
    "id": "485475d4",
    "outputId": "d98f9725-2cf5-48af-bec8-efb4a8b3f63d"
   },
   "outputs": [
    {
     "data": {
      "text/plain": [
       "(1189, 512)"
      ]
     },
     "execution_count": 23,
     "metadata": {},
     "output_type": "execute_result"
    }
   ],
   "source": [
    "x_train['attention_mask'].shape"
   ]
  },
  {
   "cell_type": "code",
   "execution_count": 24,
   "id": "265bd6e0",
   "metadata": {
    "colab": {
     "base_uri": "https://localhost:8080/"
    },
    "id": "265bd6e0",
    "outputId": "16c10fdc-afbc-4077-dc95-3ada6c5838ad"
   },
   "outputs": [
    {
     "data": {
      "text/plain": [
       "{'input_ids': array([[  101.,  9980.,  5927., ..., 16333.,  5840.,   102.],\n",
       "        [  101.,  1996.,  3929., ...,  2707.,  1997.,   102.],\n",
       "        [  101., 10962.,  2008., ...,     0.,     0.,     0.],\n",
       "        ...,\n",
       "        [  101., 12098.,  5603., ...,     0.,     0.,     0.],\n",
       "        [  101.,  9556.,  2006., ..., 17779.,  2015.,   102.],\n",
       "        [  101.,  2459.,  6581., ...,  7603.,  2566.,   102.]]),\n",
       " 'attention_mask': array([[1., 1., 1., ..., 1., 1., 1.],\n",
       "        [1., 1., 1., ..., 1., 1., 1.],\n",
       "        [1., 1., 1., ..., 0., 0., 0.],\n",
       "        ...,\n",
       "        [1., 1., 1., ..., 0., 0., 0.],\n",
       "        [1., 1., 1., ..., 1., 1., 1.],\n",
       "        [1., 1., 1., ..., 1., 1., 1.]])}"
      ]
     },
     "execution_count": 24,
     "metadata": {},
     "output_type": "execute_result"
    }
   ],
   "source": [
    "x_train"
   ]
  },
  {
   "cell_type": "code",
   "execution_count": 25,
   "id": "c7606954",
   "metadata": {
    "id": "c7606954"
   },
   "outputs": [],
   "source": [
    "def con_to_tens(xtrain,label):\n",
    "    label=np.asarray(label).reshape(len(label),1)\n",
    "    label=tf.constant(label)\n",
    "    x=tf.data.Dataset.from_tensor_slices((x_train,label))\n",
    "    return x"
   ]
  },
  {
   "cell_type": "code",
   "execution_count": 26,
   "id": "e46e6dfa",
   "metadata": {
    "id": "e46e6dfa"
   },
   "outputs": [],
   "source": [
    "train_data=con_to_tens(x_train,df['label'])"
   ]
  },
  {
   "cell_type": "code",
   "execution_count": 27,
   "id": "bf472dc0",
   "metadata": {
    "colab": {
     "base_uri": "https://localhost:8080/"
    },
    "id": "bf472dc0",
    "outputId": "aca630e5-8c86-45e4-edb6-1d7c532a73e4"
   },
   "outputs": [
    {
     "data": {
      "text/plain": [
       "<_TensorSliceDataset element_spec=({'input_ids': TensorSpec(shape=(512,), dtype=tf.float64, name=None), 'attention_mask': TensorSpec(shape=(512,), dtype=tf.float64, name=None)}, TensorSpec(shape=(1,), dtype=tf.int64, name=None))>"
      ]
     },
     "execution_count": 27,
     "metadata": {},
     "output_type": "execute_result"
    }
   ],
   "source": [
    "train_data"
   ]
  },
  {
   "cell_type": "code",
   "execution_count": null,
   "id": "b4fecb5c",
   "metadata": {
    "id": "b4fecb5c"
   },
   "outputs": [],
   "source": []
  },
  {
   "cell_type": "code",
   "execution_count": 28,
   "id": "f43d13c7",
   "metadata": {
    "id": "f43d13c7"
   },
   "outputs": [],
   "source": [
    "batch_size=16\n"
   ]
  },
  {
   "cell_type": "code",
   "execution_count": 29,
   "id": "716dcd96",
   "metadata": {
    "id": "716dcd96"
   },
   "outputs": [],
   "source": [
    "batched_train_data=train_data.batch(batch_size,drop_remainder=True)"
   ]
  },
  {
   "cell_type": "code",
   "execution_count": 30,
   "id": "764b7e1e",
   "metadata": {
    "colab": {
     "base_uri": "https://localhost:8080/"
    },
    "id": "764b7e1e",
    "outputId": "d81fa561-d730-4c4b-e791-ec72625864f9"
   },
   "outputs": [
    {
     "data": {
      "text/plain": [
       "74"
      ]
     },
     "execution_count": 30,
     "metadata": {},
     "output_type": "execute_result"
    }
   ],
   "source": [
    "len(batched_train_data)"
   ]
  },
  {
   "cell_type": "code",
   "execution_count": 31,
   "id": "3e9f5e0d",
   "metadata": {
    "colab": {
     "base_uri": "https://localhost:8080/",
     "height": 184,
     "referenced_widgets": [
      "4690f327786e4628be26e096f61b40b3",
      "00cdb31b7b8f49a0bd263ab3c403ff9c",
      "679341ed2fc6473fada6d8d19997246d",
      "caca07a14e4d45afae865863ceaa3cc4",
      "2ff1bb40dac24907ae8d2d9ed4c159d4",
      "bd8491da17164dd4bb1e369cdd37d347",
      "e6b46f32db7645bf987857f4ddb99629",
      "a14cc36a13ee47399c9fbf9a63f4bf37",
      "1d777235e9714f1ba6eadf7a07debab3",
      "f8780416da4b423594daf7f56f233ff6",
      "bfdadb33cd784f3b85c82e664854a9fd"
     ]
    },
    "id": "3e9f5e0d",
    "outputId": "e6c65ef1-e282-4e85-e50b-63888c41817f"
   },
   "outputs": [
    {
     "data": {
      "application/vnd.jupyter.widget-view+json": {
       "model_id": "4690f327786e4628be26e096f61b40b3",
       "version_major": 2,
       "version_minor": 0
      },
      "text/plain": [
       "Downloading model.safetensors:   0%|          | 0.00/440M [00:00<?, ?B/s]"
      ]
     },
     "metadata": {},
     "output_type": "display_data"
    },
    {
     "name": "stderr",
     "output_type": "stream",
     "text": [
      "Some weights of the PyTorch model were not used when initializing the TF 2.0 model TFBertModel: ['cls.predictions.bias', 'cls.predictions.transform.LayerNorm.weight', 'cls.predictions.transform.dense.weight', 'cls.predictions.transform.dense.bias', 'cls.predictions.transform.LayerNorm.bias', 'cls.seq_relationship.bias', 'cls.seq_relationship.weight']\n",
      "- This IS expected if you are initializing TFBertModel from a PyTorch model trained on another task or with another architecture (e.g. initializing a TFBertForSequenceClassification model from a BertForPreTraining model).\n",
      "- This IS NOT expected if you are initializing TFBertModel from a PyTorch model that you expect to be exactly identical (e.g. initializing a TFBertForSequenceClassification model from a BertForSequenceClassification model).\n",
      "All the weights of TFBertModel were initialized from the PyTorch model.\n",
      "If your task is similar to the task the model of the checkpoint was trained on, you can already use TFBertModel for predictions without further training.\n"
     ]
    }
   ],
   "source": [
    "# from transformers import DistilBertConfig\n",
    "# config=DistilBertConfig(dropout=0.2, attention_dropout=0.2)\n",
    "# config.output_hidden_states = False\n",
    "dis_bert=TFAutoModel.from_pretrained(model_name)"
   ]
  },
  {
   "cell_type": "code",
   "execution_count": 32,
   "id": "d2728a8a",
   "metadata": {
    "id": "d2728a8a"
   },
   "outputs": [],
   "source": [
    "train_size=0.8\n"
   ]
  },
  {
   "cell_type": "code",
   "execution_count": 33,
   "id": "af98d189",
   "metadata": {
    "id": "af98d189"
   },
   "outputs": [],
   "source": [
    "\n",
    "train_batch=batched_train_data.take(int(train_size*len(batched_train_data)))\n",
    "test_batch=batched_train_data.skip(int(train_size*len(batched_train_data)))"
   ]
  },
  {
   "cell_type": "code",
   "execution_count": 34,
   "id": "f63eeb9d",
   "metadata": {
    "colab": {
     "base_uri": "https://localhost:8080/"
    },
    "id": "f63eeb9d",
    "outputId": "9b1673cc-6d59-4b61-a721-1bd8327b6cae"
   },
   "outputs": [
    {
     "data": {
      "text/plain": [
       "59"
      ]
     },
     "execution_count": 34,
     "metadata": {},
     "output_type": "execute_result"
    }
   ],
   "source": [
    "int(train_size*len(batched_train_data))"
   ]
  },
  {
   "cell_type": "code",
   "execution_count": 35,
   "id": "9630f586",
   "metadata": {
    "colab": {
     "base_uri": "https://localhost:8080/"
    },
    "id": "9630f586",
    "outputId": "efa46842-1952-4b2b-e4a8-2a8b5bc39a6d"
   },
   "outputs": [
    {
     "data": {
      "text/plain": [
       "(59, 15)"
      ]
     },
     "execution_count": 35,
     "metadata": {},
     "output_type": "execute_result"
    }
   ],
   "source": [
    "len(train_batch),len(test_batch)"
   ]
  },
  {
   "cell_type": "markdown",
   "id": "aY0h674A3Tm4",
   "metadata": {
    "id": "aY0h674A3Tm4"
   },
   "source": [
    "**Model Building and Training**"
   ]
  },
  {
   "cell_type": "code",
   "execution_count": 36,
   "id": "8ad95397",
   "metadata": {
    "id": "8ad95397"
   },
   "outputs": [],
   "source": [
    "# K.set_learning_phase(0)\n",
    "inp=Input(shape=(512,),name='input_ids',dtype='int32')\n",
    "inp1=Input(shape=(512,),name='attention_mask',dtype='int32')\n",
    "\n",
    "bert_wt=dis_bert.bert(inp,attention_mask=inp1)[0]\n",
    "# bert_wt=tf.keras.layers.Embedding(60000,100,input_length=512)(inp)\n",
    "\n",
    "x1=LSTM(128,return_sequences=True)(bert_wt)\n",
    "x1=Dropout(0.4)(x1)\n",
    "x=LSTM(128)(x1)\n",
    "x=Dropout(0.4)(x)\n",
    "x=Dense(128,activation='relu')(x)\n",
    "x=Dropout(0.4)(x)\n",
    "x=Dense(32,activation='relu')(x)\n",
    "x=Dense(1,activation='sigmoid')(x)"
   ]
  },
  {
   "cell_type": "code",
   "execution_count": 37,
   "id": "62a300c7",
   "metadata": {
    "id": "62a300c7"
   },
   "outputs": [],
   "source": [
    "model=tf.keras.Model(inputs=[inp,inp1],outputs=x)"
   ]
  },
  {
   "cell_type": "code",
   "execution_count": 38,
   "id": "7719ca2c",
   "metadata": {
    "id": "7719ca2c",
    "scrolled": true
   },
   "outputs": [],
   "source": [
    "for i in model.layers[:3]:\n",
    "    i.trainable=False"
   ]
  },
  {
   "cell_type": "code",
   "execution_count": 39,
   "id": "f5642be1",
   "metadata": {
    "colab": {
     "base_uri": "https://localhost:8080/"
    },
    "id": "f5642be1",
    "outputId": "4aca5f16-38ca-4e59-e64b-d30a855f0aa4"
   },
   "outputs": [
    {
     "name": "stdout",
     "output_type": "stream",
     "text": [
      "Model: \"model\"\n",
      "__________________________________________________________________________________________________\n",
      " Layer (type)                   Output Shape         Param #     Connected to                     \n",
      "==================================================================================================\n",
      " input_ids (InputLayer)         [(None, 512)]        0           []                               \n",
      "                                                                                                  \n",
      " attention_mask (InputLayer)    [(None, 512)]        0           []                               \n",
      "                                                                                                  \n",
      " bert (TFBertMainLayer)         TFBaseModelOutputWi  109482240   ['input_ids[0][0]',              \n",
      "                                thPoolingAndCrossAt               'attention_mask[0][0]']         \n",
      "                                tentions(last_hidde                                               \n",
      "                                n_state=(None, 512,                                               \n",
      "                                 768),                                                            \n",
      "                                 pooler_output=(Non                                               \n",
      "                                e, 768),                                                          \n",
      "                                 past_key_values=No                                               \n",
      "                                ne, hidden_states=N                                               \n",
      "                                one, attentions=Non                                               \n",
      "                                e, cross_attentions                                               \n",
      "                                =None)                                                            \n",
      "                                                                                                  \n",
      " lstm (LSTM)                    (None, 512, 128)     459264      ['bert[0][0]']                   \n",
      "                                                                                                  \n",
      " dropout_37 (Dropout)           (None, 512, 128)     0           ['lstm[0][0]']                   \n",
      "                                                                                                  \n",
      " lstm_1 (LSTM)                  (None, 128)          131584      ['dropout_37[0][0]']             \n",
      "                                                                                                  \n",
      " dropout_38 (Dropout)           (None, 128)          0           ['lstm_1[0][0]']                 \n",
      "                                                                                                  \n",
      " dense (Dense)                  (None, 128)          16512       ['dropout_38[0][0]']             \n",
      "                                                                                                  \n",
      " dropout_39 (Dropout)           (None, 128)          0           ['dense[0][0]']                  \n",
      "                                                                                                  \n",
      " dense_1 (Dense)                (None, 32)           4128        ['dropout_39[0][0]']             \n",
      "                                                                                                  \n",
      " dense_2 (Dense)                (None, 1)            33          ['dense_1[0][0]']                \n",
      "                                                                                                  \n",
      "==================================================================================================\n",
      "Total params: 110,093,761\n",
      "Trainable params: 611,521\n",
      "Non-trainable params: 109,482,240\n",
      "__________________________________________________________________________________________________\n"
     ]
    }
   ],
   "source": [
    "model.summary()"
   ]
  },
  {
   "cell_type": "code",
   "execution_count": 40,
   "id": "XRbB0oXLZKQb",
   "metadata": {
    "id": "XRbB0oXLZKQb"
   },
   "outputs": [],
   "source": [
    "from tensorflow.keras.utils import plot_model"
   ]
  },
  {
   "cell_type": "code",
   "execution_count": 41,
   "id": "uad-eH7vZQWj",
   "metadata": {
    "colab": {
     "base_uri": "https://localhost:8080/",
     "height": 953
    },
    "id": "uad-eH7vZQWj",
    "outputId": "4b8469e3-a483-4068-cd06-4328a3f50fad"
   },
   "outputs": [
    {
     "data": {
      "image/png": "[encoded data removed]",
      "text/plain": [
       "<IPython.core.display.Image object>"
      ]
     },
     "execution_count": 41,
     "metadata": {},
     "output_type": "execute_result"
    }
   ],
   "source": [
    "plot_model(model)"
   ]
  },
  {
   "cell_type": "code",
   "execution_count": 42,
   "id": "ceKuts-j4vFU",
   "metadata": {
    "id": "ceKuts-j4vFU"
   },
   "outputs": [],
   "source": [
    "from tensorflow.keras.optimizers import AdamW"
   ]
  },
  {
   "cell_type": "code",
   "execution_count": 43,
   "id": "b7c55f2c",
   "metadata": {
    "id": "b7c55f2c"
   },
   "outputs": [],
   "source": [
    "model.compile(optimizer=AdamW(0.01),loss='binary_crossentropy',metrics=['accuracy'])"
   ]
  },
  {
   "cell_type": "code",
   "execution_count": 50,
   "id": "-h-04DKawraK",
   "metadata": {
    "id": "-h-04DKawraK"
   },
   "outputs": [],
   "source": [
    "callback=tf.keras.callbacks.EarlyStopping(monitor='loss',patience=2,min_delta=0.02)\n"
   ]
  },
  {
   "cell_type": "code",
   "execution_count": 51,
   "id": "d9c6419a",
   "metadata": {
    "colab": {
     "base_uri": "https://localhost:8080/"
    },
    "id": "d9c6419a",
    "outputId": "401de9eb-93fc-4b41-a0cd-3e318c5436f1"
   },
   "outputs": [
    {
     "name": "stdout",
     "output_type": "stream",
     "text": [
      "Epoch 1/10\n",
      "59/59 [==============================] - 56s 948ms/step - loss: 0.5281 - accuracy: 0.7733 - val_loss: 0.5302 - val_accuracy: 0.7708\n",
      "Epoch 2/10\n",
      "59/59 [==============================] - 58s 985ms/step - loss: 0.4927 - accuracy: 0.7871 - val_loss: 0.5082 - val_accuracy: 0.7875\n",
      "Epoch 3/10\n",
      "59/59 [==============================] - 58s 986ms/step - loss: 0.5100 - accuracy: 0.7797 - val_loss: 0.5539 - val_accuracy: 0.7875\n",
      "Epoch 4/10\n",
      "59/59 [==============================] - 59s 1s/step - loss: 0.5207 - accuracy: 0.7934 - val_loss: 0.5420 - val_accuracy: 0.7667\n"
     ]
    }
   ],
   "source": [
    "\n",
    "history=model.fit(train_batch,epochs=10,validation_data=test_batch,callbacks=[callback])"
   ]
  },
  {
   "cell_type": "code",
   "execution_count": null,
   "id": "234cf733",
   "metadata": {
    "colab": {
     "base_uri": "https://localhost:8080/"
    },
    "id": "234cf733",
    "outputId": "20b51279-eb2a-4244-a70f-c64745a12682"
   },
   "outputs": [
    {
     "data": {
      "text/plain": [
       "<_TakeDataset element_spec=({'input_ids': TensorSpec(shape=(16, 512), dtype=tf.float64, name=None), 'attention_mask': TensorSpec(shape=(16, 512), dtype=tf.float64, name=None)}, TensorSpec(shape=(16, 1), dtype=tf.int64, name=None))>"
      ]
     },
     "execution_count": 60,
     "metadata": {},
     "output_type": "execute_result"
    }
   ],
   "source": [
    "train_batch.take(1)"
   ]
  },
  {
   "cell_type": "code",
   "execution_count": 61,
   "id": "679fe66a",
   "metadata": {
    "colab": {
     "base_uri": "https://localhost:8080/",
     "height": 430
    },
    "id": "679fe66a",
    "outputId": "dd35c0f9-8428-408c-8535-d5a094597f2f"
   },
   "outputs": [
    {
     "data": {
      "image/png": "[encoded data removed]",
      "text/plain": [
       "<Figure size 640x480 with 1 Axes>"
      ]
     },
     "metadata": {},
     "output_type": "display_data"
    }
   ],
   "source": [
    "from matplotlib import pyplot as plt\n",
    "plt.plot(history.history['val_accuracy'],label='val_accuracy')\n",
    "plt.plot(history.history['accuracy'],label='train_accuracy')\n",
    "plt.legend()\n",
    "plt.show()"
   ]
  },
  {
   "cell_type": "code",
   "execution_count": 62,
   "id": "9L3CQTfk1qZj",
   "metadata": {
    "colab": {
     "base_uri": "https://localhost:8080/",
     "height": 430
    },
    "id": "9L3CQTfk1qZj",
    "outputId": "d09a3bfb-3bd0-4736-dbc9-3cc31c4a71ae"
   },
   "outputs": [
    {
     "data": {
      "image/png": "[encoded data removed]",
      "text/plain": [
       "<Figure size 640x480 with 1 Axes>"
      ]
     },
     "metadata": {},
     "output_type": "display_data"
    }
   ],
   "source": [
    "from matplotlib import pyplot as plt\n",
    "plt.plot(history.history['val_loss'],label='val_loss')\n",
    "plt.plot(history.history['loss'],label='train_loss')\n",
    "plt.legend()\n",
    "plt.show()"
   ]
  },
  {
   "cell_type": "code",
   "execution_count": 55,
   "id": "Zi8w-aTq055v",
   "metadata": {
    "id": "Zi8w-aTq055v"
   },
   "outputs": [],
   "source": []
  },
  {
   "cell_type": "markdown",
   "id": "YLMuaVj02y3y",
   "metadata": {
    "id": "YLMuaVj02y3y"
   },
   "source": [
    "**predicting** **on** **test** **set**"
   ]
  },
  {
   "cell_type": "code",
   "execution_count": null,
   "id": "e26f1193",
   "metadata": {
    "colab": {
     "base_uri": "https://localhost:8080/"
    },
    "id": "e26f1193",
    "outputId": "882b3c2f-da20-45b3-990f-d7ad2e472882"
   },
   "outputs": [
    {
     "data": {
      "text/plain": [
       "<_SkipDataset element_spec=({'input_ids': TensorSpec(shape=(16, 512), dtype=tf.float64, name=None), 'attention_mask': TensorSpec(shape=(16, 512), dtype=tf.float64, name=None)}, TensorSpec(shape=(16, 1), dtype=tf.int64, name=None))>"
      ]
     },
     "execution_count": 61,
     "metadata": {},
     "output_type": "execute_result"
    }
   ],
   "source": [
    "\n",
    "test_batch"
   ]
  },
  {
   "cell_type": "code",
   "execution_count": null,
   "id": "85dc3f80",
   "metadata": {
    "colab": {
     "base_uri": "https://localhost:8080/"
    },
    "id": "85dc3f80",
    "outputId": "27d452c7-e6a0-4ea2-fdd9-1582d0730144"
   },
   "outputs": [
    {
     "data": {
      "text/plain": [
       "array([  101.,  9980.,  5927.,  7570., 21197., 20721.,  4455.,  2250.,\n",
       "        5505., 10274.,  9980.,  5927.,  7570., 21197., 20721.,  4455.,\n",
       "        1010.,  2250.,  1011.,  5505., 10274.,  1012.,  1037.,  3696.,\n",
       "        4832.,  2648.,  1996.,  2248.,  2449.,  6681., 13058.,  9980.,\n",
       "       11346.,  4181.,  2470.,  2415.,  3721.,  1999.,  2624.,  4560.,\n",
       "        2662.,  8088.,  4116., 13642.,  8017., 22950.,  3121.,  3233.,\n",
       "        2012.,  1996.,  2248.,  2449.,  6681., 13058.,  9980., 11346.,\n",
       "        4181.,  2470.,  2415.,  3721.,  1999.,  1996.,  4203., 12409.,\n",
       "        4564.,  1997.,  2624.,  4560.,  2662.,  8088.,  4116., 13642.,\n",
       "        8017., 22950.,  2011.,  2325.,  2115.,  4684.,  3042.,  2097.,\n",
       "        2622.,  1037.,  1017.,  1040.,  3746.,  1997.,  3087.,  2040.,\n",
       "        4455.,  1998.,  2115., 12191.,  2097.,  2022.,  6113.,  2011.,\n",
       "       20504.,  2943.,  2012.,  2560.,  2008.,  1055.,  2054.,  2248.,\n",
       "        2449.,  6681., 13058.,  5927.,  1999.,  2049.,  6121.,  3608.,\n",
       "        1996., 20932.,  2024.,  2112.,  1997.,  2019.,  3296.,  4535.,\n",
       "        2005.,  1996.,  2849.,  2239.,  2243.,  2047.,  2259.,  2241.,\n",
       "        2194.,  2029., 12265.,  2049.,  1017.,  2199.,  6950.,  2000.,\n",
       "        2424.,  2274.,  4784.,  3517.,  2000.,  2202.,  7117.,  1999.,\n",
       "        1996.,  2279.,  2274.,  2086.,  9980.,  1996.,  2088.,  1055.,\n",
       "        2922., 10802.,  1997.,  3274.,  2578.,  3504.,  2000., 13773.,\n",
       "        3028.,  2005.,  7953.,  1043., 20898.,  2075.,  2116.,  4784.,\n",
       "        2013.,  2049., 11346.,  4181.,  2470.,  2415.,  1999.,  2624.,\n",
       "        4560.,  2662.,  7570., 21197., 20721., 11450., 11310.,  2013.,\n",
       "        4684., 11640.,  2599.,  2023.,  2095.,  1055.,  2862.,  1996.,\n",
       "       20932.,  2036.,  2421.,  2250.,  5505., 10274.,  3274.,  3454.,\n",
       "        2008.,  2064.,  2425.,  2043.,  1998.,  2073.,  4026.,  9389.,\n",
       "        2015.,  2097.,  2202.,  2173.,  4483.,  2592.,  7013.,  2011.,\n",
       "       13907.,  1999.,  3765.,  1998., 11640.,  1998.,  3655.,  6113.,\n",
       "        2011.,  1996.,  3684.,  6908.,  2125.,  2011.,  3274., 14903.,\n",
       "        2122.,  2024.,  2035.,  7683.,  3289.,  1998.,  2008.,  1055.,\n",
       "        2204.,  2056.,  2703.,  7842.,  4246.,  2080.,  6605.,  2472.,\n",
       "        1997., 18921., 25807.,  2012.,  1996.,  5211.,  7319.,  3813.,\n",
       "        5860., 11795.,  1999.,  2624.,  3799.,  1999.,  2019.,  3690.,\n",
       "        2043., 21877., 18719., 26725.,  2003.,  1996.,  2047.,  2304.,\n",
       "        1037.,  2210., 13004.,  1997., 10660., 27451.,  2003.,  2025.,\n",
       "        1037.,  2919.,  2518.,  2005.,  9980.,  2009.,  1055.,  2025.,\n",
       "        2074., 18373., 12143.,  1996.,  2194.,  2003.,  2028.,  1997.,\n",
       "        1996.,  2261.,  2502., 11578., 19920.,  1999.,  2146.,  2846.,\n",
       "        2470.,  3934.,  1998.,  2009.,  9294.,  2006.,  8144.,  2000.,\n",
       "        4762.,  3930.,  7842.,  4246.,  2080.,  2056.,  2025.,  2035.,\n",
       "        1997.,  2049., 20932.,  6090.,  2041.,  2295.,  9980.,  2001.,\n",
       "       15241., 21931.,  2055.,  1996.,  3659.,  1997.,  4613.,  2974.,\n",
       "        2005.,  6013.,  2043.,  1996.,  4784.,  2079.,  2599.,  2000.,\n",
       "        3688.,  2027.,  2064.,  2031.,  5041., 13494.,  2005.,  2554.,\n",
       "        2004.,  2092.,  2004.,  9980.,  1055.,  3953.,  2240.,  2002.,\n",
       "        2056.,  2470.,  5938.,  2027.,  2031.,  2506.,  2000.,  2079.,\n",
       "        2470.,  2043.,  2035.,  1996.,  2060.,  2882.,  2470.,  4411.,\n",
       "        2024.,  2908.,  2056.,  7842.,  4246.,  2080.,  2040.,  2003.,\n",
       "        2036.,  1037., 10552.,  5482.,  2934.,  2012.,  8422.,  2118.,\n",
       "        9980., 11241.,  1019.,  1022.,  4551.,  1999.,  2470.,  1998.,\n",
       "        2458.,  2197.,  2095.,  1020.,  1015.,  3867.,  1997.,  6599.,\n",
       "        2096.,  2008.,  1055.,  2091.,  2013.,  2055.,  2184.,  3867.,\n",
       "        1999.,  1996.,  2220.,  4134.,  1996.,  2194., 15970.,  1037.,\n",
       "        7046.,  3745.,  2006.,  2470.,  2084.,  2049.,  9798.,  9169.,\n",
       "        2002., 13668.,  6582., 24100.,  2522.,  1996.,  2327.,  9338.,\n",
       "        1997.,  3167.,  7588.,  2985.,  1016.,  1018.,  3867.,  2197.,\n",
       "        2095.,  2012., 11346.,  4181.,  6529.,  2147.,  2006.,  3934.,\n",
       "        2008.,  2123.,  1056.,  2467.,  4906.,  1999.,  2007.,  9980.,\n",
       "        1055.,  3274.,  2449.,  1996.,  6845.,  1055.,  2470.,  2950.,\n",
       "        4073.,  2000.,  4503.,  2019.,  3751.,  2482.,  6046.,  2008.,\n",
       "        3216.,  3156.,  2661.,  2006.,  2028.,  3715.,  1037., 10882.,\n",
       "        7096.,  8156.,  2291.,  2005.,  4078., 11475.,  9323.,  1998.,\n",
       "        1037.,  2565.,  2008.,  3065.,  3431.,  1999.,  9183.,  2951.,\n",
       "        9980.,  3123.,  1023., 16653.,  2000., 16333.,  5840.,   102.])"
      ]
     },
     "execution_count": 62,
     "metadata": {},
     "output_type": "execute_result"
    }
   ],
   "source": [
    "list(train_batch.take(1).as_numpy_iterator())[0][0]['input_ids'][0]"
   ]
  },
  {
   "cell_type": "code",
   "execution_count": null,
   "id": "dxb49XFTCFbh",
   "metadata": {
    "colab": {
     "base_uri": "https://localhost:8080/"
    },
    "id": "dxb49XFTCFbh",
    "outputId": "82ca4ed8-1aa2-46f7-aee0-e88d5c4de6e1"
   },
   "outputs": [
    {
     "data": {
      "text/plain": [
       "array([0])"
      ]
     },
     "execution_count": 89,
     "metadata": {},
     "output_type": "execute_result"
    }
   ],
   "source": [
    "list(train_batch.take(1).as_numpy_iterator())[0][1][0]"
   ]
  },
  {
   "cell_type": "code",
   "execution_count": null,
   "id": "JCg_UBSqCem_",
   "metadata": {
    "id": "JCg_UBSqCem_"
   },
   "outputs": [],
   "source": [
    "df_tst['text']=df_tst[\"title\"]+\". \"+df_tst[\"body\"]\n",
    "df_tst['text']=df_tst['text'].fillna(\" \")"
   ]
  },
  {
   "cell_type": "code",
   "execution_count": null,
   "id": "RYO5GArSWTM8",
   "metadata": {
    "id": "RYO5GArSWTM8"
   },
   "outputs": [],
   "source": [
    "x_tst=tokenize(df_tst)"
   ]
  },
  {
   "cell_type": "code",
   "execution_count": null,
   "id": "86XIAWf4YmIH",
   "metadata": {
    "colab": {
     "base_uri": "https://localhost:8080/"
    },
    "id": "86XIAWf4YmIH",
    "outputId": "df23689d-a8d5-414e-bb18-530b06eb1004"
   },
   "outputs": [
    {
     "name": "stdout",
     "output_type": "stream",
     "text": [
      "100/100 [==============================] - 134s 1s/step\n"
     ]
    }
   ],
   "source": [
    "predictions=list(model.predict(x_tst))"
   ]
  },
  {
   "cell_type": "code",
   "execution_count": null,
   "id": "tppHKlR0q-CM",
   "metadata": {
    "colab": {
     "base_uri": "https://localhost:8080/"
    },
    "id": "tppHKlR0q-CM",
    "outputId": "16b82f6b-a2c2-4371-d398-5f429b7e2813"
   },
   "outputs": [
    {
     "data": {
      "text/plain": [
       "[array([0.9162407], dtype=float32),\n",
       " array([0.3351364], dtype=float32),\n",
       " array([0.43790546], dtype=float32),\n",
       " array([0.10347059], dtype=float32),\n",
       " array([0.44805962], dtype=float32),\n",
       " array([0.4729918], dtype=float32),\n",
       " array([0.55667967], dtype=float32),\n",
       " array([0.8995923], dtype=float32),\n",
       " array([0.11104872], dtype=float32),\n",
       " array([0.40330365], dtype=float32),\n",
       " array([0.5341406], dtype=float32),\n",
       " array([0.5341406], dtype=float32),\n",
       " array([0.10066048], dtype=float32),\n",
       " array([0.40700084], dtype=float32),\n",
       " array([0.3096247], dtype=float32),\n",
       " array([0.55680394], dtype=float32),\n",
       " array([0.8921577], dtype=float32),\n",
       " array([0.84580547], dtype=float32),\n",
       " array([0.91888964], dtype=float32),\n",
       " array([0.10779551], dtype=float32),\n",
       " array([0.86692125], dtype=float32),\n",
       " array([0.70899206], dtype=float32),\n",
       " array([0.9310435], dtype=float32),\n",
       " array([0.11109086], dtype=float32),\n",
       " array([0.10148157], dtype=float32),\n",
       " array([0.5056445], dtype=float32),\n",
       " array([0.54292774], dtype=float32),\n",
       " array([0.5341406], dtype=float32),\n",
       " array([0.26168638], dtype=float32),\n",
       " array([0.11769372], dtype=float32),\n",
       " array([0.09933031], dtype=float32),\n",
       " array([0.13757902], dtype=float32),\n",
       " array([0.5341406], dtype=float32),\n",
       " array([0.10717735], dtype=float32),\n",
       " array([0.88281983], dtype=float32),\n",
       " array([0.30469537], dtype=float32),\n",
       " array([0.5434535], dtype=float32),\n",
       " array([0.89479566], dtype=float32),\n",
       " array([0.8633967], dtype=float32),\n",
       " array([0.57407737], dtype=float32),\n",
       " array([0.9211566], dtype=float32),\n",
       " array([0.9008464], dtype=float32),\n",
       " array([0.41256207], dtype=float32),\n",
       " array([0.70409465], dtype=float32),\n",
       " array([0.58296025], dtype=float32),\n",
       " array([0.8916095], dtype=float32),\n",
       " array([0.75445545], dtype=float32),\n",
       " array([0.54485273], dtype=float32),\n",
       " array([0.31608513], dtype=float32),\n",
       " array([0.5077001], dtype=float32),\n",
       " array([0.9310458], dtype=float32),\n",
       " array([0.9095046], dtype=float32),\n",
       " array([0.19972667], dtype=float32),\n",
       " array([0.39601198], dtype=float32),\n",
       " array([0.89412403], dtype=float32),\n",
       " array([0.30868596], dtype=float32),\n",
       " array([0.3203931], dtype=float32),\n",
       " array([0.10379376], dtype=float32),\n",
       " array([0.9284502], dtype=float32),\n",
       " array([0.09750849], dtype=float32),\n",
       " array([0.09940843], dtype=float32),\n",
       " array([0.6913428], dtype=float32),\n",
       " array([0.11654152], dtype=float32),\n",
       " array([0.10316816], dtype=float32),\n",
       " array([0.12449083], dtype=float32),\n",
       " array([0.08826413], dtype=float32),\n",
       " array([0.52753526], dtype=float32),\n",
       " array([0.46875224], dtype=float32),\n",
       " array([0.27928972], dtype=float32),\n",
       " array([0.6327291], dtype=float32),\n",
       " array([0.5341406], dtype=float32),\n",
       " array([0.86801475], dtype=float32),\n",
       " array([0.8922665], dtype=float32),\n",
       " array([0.659966], dtype=float32),\n",
       " array([0.9079204], dtype=float32),\n",
       " array([0.43202302], dtype=float32),\n",
       " array([0.25988424], dtype=float32),\n",
       " array([0.90209895], dtype=float32),\n",
       " array([0.9133464], dtype=float32),\n",
       " array([0.8489041], dtype=float32),\n",
       " array([0.14019309], dtype=float32),\n",
       " array([0.91723895], dtype=float32),\n",
       " array([0.43790546], dtype=float32),\n",
       " array([0.915981], dtype=float32),\n",
       " array([0.8863422], dtype=float32),\n",
       " array([0.08391951], dtype=float32),\n",
       " array([0.78766775], dtype=float32),\n",
       " array([0.9290606], dtype=float32),\n",
       " array([0.5341406], dtype=float32),\n",
       " array([0.10592975], dtype=float32),\n",
       " array([0.928768], dtype=float32),\n",
       " array([0.51718223], dtype=float32),\n",
       " array([0.09188496], dtype=float32),\n",
       " array([0.5319784], dtype=float32),\n",
       " array([0.68655384], dtype=float32),\n",
       " array([0.9210091], dtype=float32),\n",
       " array([0.46107522], dtype=float32),\n",
       " array([0.5239986], dtype=float32),\n",
       " array([0.930478], dtype=float32),\n",
       " array([0.13536184], dtype=float32),\n",
       " array([0.24809852], dtype=float32),\n",
       " array([0.8507537], dtype=float32),\n",
       " array([0.92858475], dtype=float32),\n",
       " array([0.54769367], dtype=float32),\n",
       " array([0.78150386], dtype=float32),\n",
       " array([0.5319784], dtype=float32),\n",
       " array([0.3751941], dtype=float32),\n",
       " array([0.857399], dtype=float32),\n",
       " array([0.3319591], dtype=float32),\n",
       " array([0.3000178], dtype=float32),\n",
       " array([0.90227425], dtype=float32),\n",
       " array([0.5892991], dtype=float32),\n",
       " array([0.29309344], dtype=float32),\n",
       " array([0.30299175], dtype=float32),\n",
       " array([0.5341406], dtype=float32),\n",
       " array([0.43670964], dtype=float32),\n",
       " array([0.6335267], dtype=float32),\n",
       " array([0.8104895], dtype=float32),\n",
       " array([0.2922456], dtype=float32),\n",
       " array([0.56767976], dtype=float32),\n",
       " array([0.9286855], dtype=float32),\n",
       " array([0.14041542], dtype=float32),\n",
       " array([0.5092101], dtype=float32),\n",
       " array([0.0887175], dtype=float32),\n",
       " array([0.8103234], dtype=float32),\n",
       " array([0.10362636], dtype=float32),\n",
       " array([0.90002555], dtype=float32),\n",
       " array([0.10637398], dtype=float32),\n",
       " array([0.49737734], dtype=float32),\n",
       " array([0.91510504], dtype=float32),\n",
       " array([0.17779575], dtype=float32),\n",
       " array([0.11268029], dtype=float32),\n",
       " array([0.46760285], dtype=float32),\n",
       " array([0.57656795], dtype=float32),\n",
       " array([0.9145325], dtype=float32),\n",
       " array([0.5341406], dtype=float32),\n",
       " array([0.4392784], dtype=float32),\n",
       " array([0.90414155], dtype=float32),\n",
       " array([0.91106945], dtype=float32),\n",
       " array([0.5954358], dtype=float32),\n",
       " array([0.8278414], dtype=float32),\n",
       " array([0.8206692], dtype=float32),\n",
       " array([0.49724507], dtype=float32),\n",
       " array([0.5240463], dtype=float32),\n",
       " array([0.9287635], dtype=float32),\n",
       " array([0.42415205], dtype=float32),\n",
       " array([0.5290139], dtype=float32),\n",
       " array([0.21384674], dtype=float32),\n",
       " array([0.43790546], dtype=float32),\n",
       " array([0.11614206], dtype=float32),\n",
       " array([0.83086747], dtype=float32),\n",
       " array([0.92397344], dtype=float32),\n",
       " array([0.5425048], dtype=float32),\n",
       " array([0.30326408], dtype=float32),\n",
       " array([0.6888344], dtype=float32),\n",
       " array([0.5611739], dtype=float32),\n",
       " array([0.89338833], dtype=float32),\n",
       " array([0.8731763], dtype=float32),\n",
       " array([0.35893953], dtype=float32),\n",
       " array([0.5779928], dtype=float32),\n",
       " array([0.16769429], dtype=float32),\n",
       " array([0.9309119], dtype=float32),\n",
       " array([0.20546995], dtype=float32),\n",
       " array([0.48306736], dtype=float32),\n",
       " array([0.4088917], dtype=float32),\n",
       " array([0.7847735], dtype=float32),\n",
       " array([0.2672168], dtype=float32),\n",
       " array([0.66464955], dtype=float32),\n",
       " array([0.4848685], dtype=float32),\n",
       " array([0.42821166], dtype=float32),\n",
       " array([0.80766785], dtype=float32),\n",
       " array([0.6888093], dtype=float32),\n",
       " array([0.33662373], dtype=float32),\n",
       " array([0.90086377], dtype=float32),\n",
       " array([0.43790546], dtype=float32),\n",
       " array([0.15427326], dtype=float32),\n",
       " array([0.11362088], dtype=float32),\n",
       " array([0.6520082], dtype=float32),\n",
       " array([0.92643976], dtype=float32),\n",
       " array([0.20872585], dtype=float32),\n",
       " array([0.36642286], dtype=float32),\n",
       " array([0.3828157], dtype=float32),\n",
       " array([0.5341406], dtype=float32),\n",
       " array([0.5341406], dtype=float32),\n",
       " array([0.15388854], dtype=float32),\n",
       " array([0.5757039], dtype=float32),\n",
       " array([0.9302883], dtype=float32),\n",
       " array([0.9283662], dtype=float32),\n",
       " array([0.87995374], dtype=float32),\n",
       " array([0.6302122], dtype=float32),\n",
       " array([0.5673319], dtype=float32),\n",
       " array([0.6283046], dtype=float32),\n",
       " array([0.42413816], dtype=float32),\n",
       " array([0.8838574], dtype=float32),\n",
       " array([0.3993235], dtype=float32),\n",
       " array([0.19969912], dtype=float32),\n",
       " array([0.7918804], dtype=float32),\n",
       " array([0.35925946], dtype=float32),\n",
       " array([0.16456506], dtype=float32),\n",
       " array([0.13953795], dtype=float32),\n",
       " array([0.5144361], dtype=float32),\n",
       " array([0.55147415], dtype=float32),\n",
       " array([0.11227301], dtype=float32),\n",
       " array([0.79942715], dtype=float32),\n",
       " array([0.10394572], dtype=float32),\n",
       " array([0.5344518], dtype=float32),\n",
       " array([0.43790546], dtype=float32),\n",
       " array([0.23174815], dtype=float32),\n",
       " array([0.5341406], dtype=float32),\n",
       " array([0.1863767], dtype=float32),\n",
       " array([0.4966531], dtype=float32),\n",
       " array([0.8922138], dtype=float32),\n",
       " array([0.53484476], dtype=float32),\n",
       " array([0.16048856], dtype=float32),\n",
       " array([0.5901918], dtype=float32),\n",
       " array([0.8231883], dtype=float32),\n",
       " array([0.13900492], dtype=float32),\n",
       " array([0.39897954], dtype=float32),\n",
       " array([0.12555341], dtype=float32),\n",
       " array([0.43923995], dtype=float32),\n",
       " array([0.91679615], dtype=float32),\n",
       " array([0.2756204], dtype=float32),\n",
       " array([0.10343466], dtype=float32),\n",
       " array([0.5341406], dtype=float32),\n",
       " array([0.8783983], dtype=float32),\n",
       " array([0.9261511], dtype=float32),\n",
       " array([0.60050136], dtype=float32),\n",
       " array([0.16555984], dtype=float32),\n",
       " array([0.5814325], dtype=float32),\n",
       " array([0.11934308], dtype=float32),\n",
       " array([0.49617064], dtype=float32),\n",
       " array([0.39878926], dtype=float32),\n",
       " array([0.9281613], dtype=float32),\n",
       " array([0.89228445], dtype=float32),\n",
       " array([0.8585755], dtype=float32),\n",
       " array([0.5319784], dtype=float32),\n",
       " array([0.42943674], dtype=float32),\n",
       " array([0.6526226], dtype=float32),\n",
       " array([0.51164424], dtype=float32),\n",
       " array([0.87157637], dtype=float32),\n",
       " array([0.23695955], dtype=float32),\n",
       " array([0.88266283], dtype=float32),\n",
       " array([0.6602723], dtype=float32),\n",
       " array([0.89318997], dtype=float32),\n",
       " array([0.3797525], dtype=float32),\n",
       " array([0.89111614], dtype=float32),\n",
       " array([0.8390069], dtype=float32),\n",
       " array([0.55376554], dtype=float32),\n",
       " array([0.13897717], dtype=float32),\n",
       " array([0.9205434], dtype=float32),\n",
       " array([0.15317585], dtype=float32),\n",
       " array([0.62190354], dtype=float32),\n",
       " array([0.35701472], dtype=float32),\n",
       " array([0.11715936], dtype=float32),\n",
       " array([0.5584636], dtype=float32),\n",
       " array([0.52555597], dtype=float32),\n",
       " array([0.10872127], dtype=float32),\n",
       " array([0.89699715], dtype=float32),\n",
       " array([0.9213026], dtype=float32),\n",
       " array([0.10342797], dtype=float32),\n",
       " array([0.5319784], dtype=float32),\n",
       " array([0.52214307], dtype=float32),\n",
       " array([0.142661], dtype=float32),\n",
       " array([0.18820548], dtype=float32),\n",
       " array([0.42645025], dtype=float32),\n",
       " array([0.11024887], dtype=float32),\n",
       " array([0.8434635], dtype=float32),\n",
       " array([0.7651269], dtype=float32),\n",
       " array([0.9106873], dtype=float32),\n",
       " array([0.19500846], dtype=float32),\n",
       " array([0.18418756], dtype=float32),\n",
       " array([0.92537105], dtype=float32),\n",
       " array([0.10326073], dtype=float32),\n",
       " array([0.10685121], dtype=float32),\n",
       " array([0.4011295], dtype=float32),\n",
       " array([0.62291497], dtype=float32),\n",
       " array([0.46169567], dtype=float32),\n",
       " array([0.6686148], dtype=float32),\n",
       " array([0.09105361], dtype=float32),\n",
       " array([0.35744277], dtype=float32),\n",
       " array([0.8994499], dtype=float32),\n",
       " array([0.43790546], dtype=float32),\n",
       " array([0.09445215], dtype=float32),\n",
       " array([0.36595345], dtype=float32),\n",
       " array([0.9116776], dtype=float32),\n",
       " array([0.31529737], dtype=float32),\n",
       " array([0.5533127], dtype=float32),\n",
       " array([0.10090293], dtype=float32),\n",
       " array([0.10296969], dtype=float32),\n",
       " array([0.878751], dtype=float32),\n",
       " array([0.909293], dtype=float32),\n",
       " array([0.08405882], dtype=float32),\n",
       " array([0.6547936], dtype=float32),\n",
       " array([0.43639782], dtype=float32),\n",
       " array([0.5341406], dtype=float32),\n",
       " array([0.10165658], dtype=float32),\n",
       " array([0.17423436], dtype=float32),\n",
       " array([0.2383625], dtype=float32),\n",
       " array([0.35227242], dtype=float32),\n",
       " array([0.44366574], dtype=float32),\n",
       " array([0.26375324], dtype=float32),\n",
       " array([0.808676], dtype=float32),\n",
       " array([0.5341406], dtype=float32),\n",
       " array([0.10314485], dtype=float32),\n",
       " array([0.9120058], dtype=float32),\n",
       " array([0.09276725], dtype=float32),\n",
       " array([0.14336543], dtype=float32),\n",
       " array([0.48020166], dtype=float32),\n",
       " array([0.11604666], dtype=float32),\n",
       " array([0.10295769], dtype=float32),\n",
       " array([0.20006922], dtype=float32),\n",
       " array([0.5437605], dtype=float32),\n",
       " array([0.5679996], dtype=float32),\n",
       " array([0.81111026], dtype=float32),\n",
       " array([0.5506491], dtype=float32),\n",
       " array([0.7026812], dtype=float32),\n",
       " array([0.18552703], dtype=float32),\n",
       " array([0.85803354], dtype=float32),\n",
       " array([0.897084], dtype=float32),\n",
       " array([0.13340452], dtype=float32),\n",
       " array([0.3941972], dtype=float32),\n",
       " array([0.4999324], dtype=float32),\n",
       " array([0.88865924], dtype=float32),\n",
       " array([0.9230015], dtype=float32),\n",
       " array([0.69144446], dtype=float32),\n",
       " array([0.43790546], dtype=float32),\n",
       " array([0.10023154], dtype=float32),\n",
       " array([0.9337276], dtype=float32),\n",
       " array([0.62564975], dtype=float32),\n",
       " array([0.11066945], dtype=float32),\n",
       " array([0.90071255], dtype=float32),\n",
       " array([0.90768385], dtype=float32),\n",
       " array([0.8980879], dtype=float32),\n",
       " array([0.9280104], dtype=float32),\n",
       " array([0.441106], dtype=float32),\n",
       " array([0.5361298], dtype=float32),\n",
       " array([0.5790288], dtype=float32),\n",
       " array([0.13038544], dtype=float32),\n",
       " array([0.21393104], dtype=float32),\n",
       " array([0.76861733], dtype=float32),\n",
       " array([0.47293782], dtype=float32),\n",
       " array([0.4345027], dtype=float32),\n",
       " array([0.33988518], dtype=float32),\n",
       " array([0.39510316], dtype=float32),\n",
       " array([0.41994357], dtype=float32),\n",
       " array([0.7476069], dtype=float32),\n",
       " array([0.62237155], dtype=float32),\n",
       " array([0.09078553], dtype=float32),\n",
       " array([0.60023046], dtype=float32),\n",
       " array([0.8752211], dtype=float32),\n",
       " array([0.37487775], dtype=float32),\n",
       " array([0.41505325], dtype=float32),\n",
       " array([0.673762], dtype=float32),\n",
       " array([0.15692922], dtype=float32),\n",
       " array([0.11027764], dtype=float32),\n",
       " array([0.12048216], dtype=float32),\n",
       " array([0.58567744], dtype=float32),\n",
       " array([0.7764443], dtype=float32),\n",
       " array([0.52442056], dtype=float32),\n",
       " array([0.848004], dtype=float32),\n",
       " array([0.68422997], dtype=float32),\n",
       " array([0.40733254], dtype=float32),\n",
       " array([0.17225605], dtype=float32),\n",
       " array([0.5538116], dtype=float32),\n",
       " array([0.5068522], dtype=float32),\n",
       " array([0.09894712], dtype=float32),\n",
       " array([0.6695149], dtype=float32),\n",
       " array([0.91025203], dtype=float32),\n",
       " array([0.9276155], dtype=float32),\n",
       " array([0.16731484], dtype=float32),\n",
       " array([0.5588237], dtype=float32),\n",
       " array([0.909578], dtype=float32),\n",
       " array([0.93038875], dtype=float32),\n",
       " array([0.5341406], dtype=float32),\n",
       " array([0.58065677], dtype=float32),\n",
       " array([0.9014002], dtype=float32),\n",
       " array([0.5341406], dtype=float32),\n",
       " array([0.8876014], dtype=float32),\n",
       " array([0.19695121], dtype=float32),\n",
       " array([0.1177538], dtype=float32),\n",
       " array([0.13153285], dtype=float32),\n",
       " array([0.5283397], dtype=float32),\n",
       " array([0.46933872], dtype=float32),\n",
       " array([0.5783496], dtype=float32),\n",
       " array([0.9204759], dtype=float32),\n",
       " array([0.8961573], dtype=float32),\n",
       " array([0.880932], dtype=float32),\n",
       " array([0.50247425], dtype=float32),\n",
       " array([0.8431493], dtype=float32),\n",
       " array([0.8428609], dtype=float32),\n",
       " array([0.6972243], dtype=float32),\n",
       " array([0.16227973], dtype=float32),\n",
       " array([0.08825659], dtype=float32),\n",
       " array([0.42296255], dtype=float32),\n",
       " array([0.13147663], dtype=float32),\n",
       " array([0.28322515], dtype=float32),\n",
       " array([0.4136856], dtype=float32),\n",
       " array([0.11902928], dtype=float32),\n",
       " array([0.10380906], dtype=float32),\n",
       " array([0.14191818], dtype=float32),\n",
       " array([0.15252078], dtype=float32),\n",
       " array([0.6043361], dtype=float32),\n",
       " array([0.33370632], dtype=float32),\n",
       " array([0.5341406], dtype=float32),\n",
       " array([0.45703068], dtype=float32),\n",
       " array([0.7468736], dtype=float32),\n",
       " array([0.38727137], dtype=float32),\n",
       " array([0.50990695], dtype=float32),\n",
       " array([0.09018379], dtype=float32),\n",
       " array([0.49753338], dtype=float32),\n",
       " array([0.9013509], dtype=float32),\n",
       " array([0.43790546], dtype=float32),\n",
       " array([0.56546885], dtype=float32),\n",
       " array([0.11072801], dtype=float32),\n",
       " array([0.09660475], dtype=float32),\n",
       " array([0.8667772], dtype=float32),\n",
       " array([0.5587866], dtype=float32),\n",
       " array([0.32224756], dtype=float32),\n",
       " array([0.10250003], dtype=float32),\n",
       " array([0.89993036], dtype=float32),\n",
       " array([0.10513615], dtype=float32),\n",
       " array([0.5151542], dtype=float32),\n",
       " array([0.20633055], dtype=float32),\n",
       " array([0.92959553], dtype=float32),\n",
       " array([0.18514977], dtype=float32),\n",
       " array([0.91268355], dtype=float32),\n",
       " array([0.5319784], dtype=float32),\n",
       " array([0.37732944], dtype=float32),\n",
       " array([0.09973747], dtype=float32),\n",
       " array([0.82956123], dtype=float32),\n",
       " array([0.38526312], dtype=float32),\n",
       " array([0.1048129], dtype=float32),\n",
       " array([0.89835703], dtype=float32),\n",
       " array([0.09439933], dtype=float32),\n",
       " array([0.6860637], dtype=float32),\n",
       " array([0.87009585], dtype=float32),\n",
       " array([0.09786338], dtype=float32),\n",
       " array([0.5292805], dtype=float32),\n",
       " array([0.2750907], dtype=float32),\n",
       " array([0.5939721], dtype=float32),\n",
       " array([0.3706167], dtype=float32),\n",
       " array([0.395067], dtype=float32),\n",
       " array([0.5876498], dtype=float32),\n",
       " array([0.1456048], dtype=float32),\n",
       " array([0.87020254], dtype=float32),\n",
       " array([0.72037876], dtype=float32),\n",
       " array([0.30096367], dtype=float32),\n",
       " array([0.3955307], dtype=float32),\n",
       " array([0.92964303], dtype=float32),\n",
       " array([0.5341406], dtype=float32),\n",
       " array([0.3577763], dtype=float32),\n",
       " array([0.11753484], dtype=float32),\n",
       " array([0.91770375], dtype=float32),\n",
       " array([0.70109224], dtype=float32),\n",
       " array([0.14110507], dtype=float32),\n",
       " array([0.42870933], dtype=float32),\n",
       " array([0.5341406], dtype=float32),\n",
       " array([0.5341406], dtype=float32),\n",
       " array([0.5721142], dtype=float32),\n",
       " array([0.12029796], dtype=float32),\n",
       " array([0.10793054], dtype=float32),\n",
       " array([0.46969205], dtype=float32),\n",
       " array([0.09528398], dtype=float32),\n",
       " array([0.46798417], dtype=float32),\n",
       " array([0.9194163], dtype=float32),\n",
       " array([0.5566251], dtype=float32),\n",
       " array([0.10936408], dtype=float32),\n",
       " array([0.23854443], dtype=float32),\n",
       " array([0.43790546], dtype=float32),\n",
       " array([0.9210074], dtype=float32),\n",
       " array([0.5014581], dtype=float32),\n",
       " array([0.1854017], dtype=float32),\n",
       " array([0.5341406], dtype=float32),\n",
       " array([0.48350653], dtype=float32),\n",
       " array([0.38326365], dtype=float32),\n",
       " array([0.17117181], dtype=float32),\n",
       " array([0.8735078], dtype=float32),\n",
       " array([0.42202485], dtype=float32),\n",
       " array([0.5341406], dtype=float32),\n",
       " array([0.8918199], dtype=float32),\n",
       " array([0.2322623], dtype=float32),\n",
       " array([0.71265256], dtype=float32),\n",
       " array([0.74220777], dtype=float32),\n",
       " array([0.22266476], dtype=float32),\n",
       " array([0.48514357], dtype=float32),\n",
       " array([0.2445181], dtype=float32),\n",
       " array([0.8218011], dtype=float32),\n",
       " array([0.79247195], dtype=float32),\n",
       " array([0.5341406], dtype=float32),\n",
       " array([0.5341406], dtype=float32),\n",
       " array([0.27627075], dtype=float32),\n",
       " array([0.41321984], dtype=float32),\n",
       " array([0.62682766], dtype=float32),\n",
       " array([0.5341406], dtype=float32),\n",
       " array([0.42761958], dtype=float32),\n",
       " array([0.12594919], dtype=float32),\n",
       " array([0.92762977], dtype=float32),\n",
       " array([0.08687056], dtype=float32),\n",
       " array([0.2887761], dtype=float32),\n",
       " array([0.38205445], dtype=float32),\n",
       " array([0.15115337], dtype=float32),\n",
       " array([0.47277668], dtype=float32),\n",
       " array([0.13436827], dtype=float32),\n",
       " array([0.25904077], dtype=float32),\n",
       " array([0.9113414], dtype=float32),\n",
       " array([0.10589077], dtype=float32),\n",
       " array([0.5341406], dtype=float32),\n",
       " array([0.9264769], dtype=float32),\n",
       " array([0.9299584], dtype=float32),\n",
       " array([0.10899559], dtype=float32),\n",
       " array([0.13000022], dtype=float32),\n",
       " array([0.14642692], dtype=float32),\n",
       " array([0.1183432], dtype=float32),\n",
       " array([0.08408789], dtype=float32),\n",
       " array([0.37178072], dtype=float32),\n",
       " array([0.9141408], dtype=float32),\n",
       " array([0.18439296], dtype=float32),\n",
       " array([0.43790546], dtype=float32),\n",
       " array([0.23197573], dtype=float32),\n",
       " array([0.3119525], dtype=float32),\n",
       " array([0.9054827], dtype=float32),\n",
       " array([0.5341406], dtype=float32),\n",
       " array([0.10814452], dtype=float32),\n",
       " array([0.8971287], dtype=float32),\n",
       " array([0.91867733], dtype=float32),\n",
       " array([0.2837797], dtype=float32),\n",
       " array([0.33421376], dtype=float32),\n",
       " array([0.71371984], dtype=float32),\n",
       " array([0.8951042], dtype=float32),\n",
       " array([0.9337266], dtype=float32),\n",
       " array([0.69478023], dtype=float32),\n",
       " array([0.5214147], dtype=float32),\n",
       " array([0.5636259], dtype=float32),\n",
       " array([0.43785477], dtype=float32),\n",
       " array([0.25396127], dtype=float32),\n",
       " array([0.1113073], dtype=float32),\n",
       " array([0.15259406], dtype=float32),\n",
       " array([0.92337847], dtype=float32),\n",
       " array([0.4112055], dtype=float32),\n",
       " array([0.208435], dtype=float32),\n",
       " array([0.9110903], dtype=float32),\n",
       " array([0.8901874], dtype=float32),\n",
       " array([0.5432897], dtype=float32),\n",
       " array([0.8580445], dtype=float32),\n",
       " array([0.5319784], dtype=float32),\n",
       " array([0.3839392], dtype=float32),\n",
       " array([0.43790546], dtype=float32),\n",
       " array([0.5459977], dtype=float32),\n",
       " array([0.5341406], dtype=float32),\n",
       " array([0.08802179], dtype=float32),\n",
       " array([0.39099142], dtype=float32),\n",
       " array([0.72693944], dtype=float32),\n",
       " array([0.36780345], dtype=float32),\n",
       " array([0.19449697], dtype=float32),\n",
       " array([0.5341406], dtype=float32),\n",
       " array([0.54801774], dtype=float32),\n",
       " array([0.33949485], dtype=float32),\n",
       " array([0.5749409], dtype=float32),\n",
       " array([0.109875], dtype=float32),\n",
       " array([0.8597791], dtype=float32),\n",
       " array([0.10956842], dtype=float32),\n",
       " array([0.5376872], dtype=float32),\n",
       " array([0.89503616], dtype=float32),\n",
       " array([0.5341406], dtype=float32),\n",
       " array([0.90101767], dtype=float32),\n",
       " array([0.5341406], dtype=float32),\n",
       " array([0.11123677], dtype=float32),\n",
       " array([0.6101824], dtype=float32),\n",
       " array([0.10794766], dtype=float32),\n",
       " array([0.8678882], dtype=float32),\n",
       " array([0.10553239], dtype=float32),\n",
       " array([0.80471164], dtype=float32),\n",
       " array([0.5341406], dtype=float32),\n",
       " array([0.58806837], dtype=float32),\n",
       " array([0.8004772], dtype=float32),\n",
       " array([0.82569885], dtype=float32),\n",
       " array([0.4936795], dtype=float32),\n",
       " array([0.44801754], dtype=float32),\n",
       " array([0.50249666], dtype=float32),\n",
       " array([0.4300432], dtype=float32),\n",
       " array([0.21650144], dtype=float32),\n",
       " array([0.4476526], dtype=float32),\n",
       " array([0.11647689], dtype=float32),\n",
       " array([0.3578165], dtype=float32),\n",
       " array([0.23158893], dtype=float32),\n",
       " array([0.90920234], dtype=float32),\n",
       " array([0.5775045], dtype=float32),\n",
       " array([0.22264256], dtype=float32),\n",
       " array([0.5341406], dtype=float32),\n",
       " array([0.88782805], dtype=float32),\n",
       " array([0.3286053], dtype=float32),\n",
       " array([0.40994126], dtype=float32),\n",
       " array([0.5341406], dtype=float32),\n",
       " array([0.5622152], dtype=float32),\n",
       " array([0.3231484], dtype=float32),\n",
       " array([0.889983], dtype=float32),\n",
       " array([0.8748067], dtype=float32),\n",
       " array([0.6482555], dtype=float32),\n",
       " array([0.46155617], dtype=float32),\n",
       " array([0.5341406], dtype=float32),\n",
       " array([0.5341406], dtype=float32),\n",
       " array([0.4228492], dtype=float32),\n",
       " array([0.29113618], dtype=float32),\n",
       " array([0.5341406], dtype=float32),\n",
       " array([0.92840654], dtype=float32),\n",
       " array([0.89677316], dtype=float32),\n",
       " array([0.9205781], dtype=float32),\n",
       " array([0.12031955], dtype=float32),\n",
       " array([0.2193124], dtype=float32),\n",
       " array([0.92825776], dtype=float32),\n",
       " array([0.79298234], dtype=float32),\n",
       " array([0.21564758], dtype=float32),\n",
       " array([0.47040677], dtype=float32),\n",
       " array([0.43790546], dtype=float32),\n",
       " array([0.91865206], dtype=float32),\n",
       " array([0.12367135], dtype=float32),\n",
       " array([0.9292179], dtype=float32),\n",
       " array([0.5341406], dtype=float32),\n",
       " array([0.14751263], dtype=float32),\n",
       " array([0.29080874], dtype=float32),\n",
       " array([0.12977579], dtype=float32),\n",
       " array([0.5833319], dtype=float32),\n",
       " array([0.12356216], dtype=float32),\n",
       " array([0.43790546], dtype=float32),\n",
       " array([0.10048198], dtype=float32),\n",
       " array([0.28977934], dtype=float32),\n",
       " array([0.3911497], dtype=float32),\n",
       " array([0.24340741], dtype=float32),\n",
       " array([0.60387284], dtype=float32),\n",
       " array([0.8065965], dtype=float32),\n",
       " array([0.9038078], dtype=float32),\n",
       " array([0.5341406], dtype=float32),\n",
       " array([0.11431637], dtype=float32),\n",
       " array([0.12877671], dtype=float32),\n",
       " array([0.12219624], dtype=float32),\n",
       " array([0.83987814], dtype=float32),\n",
       " array([0.8792204], dtype=float32),\n",
       " array([0.12777948], dtype=float32),\n",
       " array([0.43790546], dtype=float32),\n",
       " array([0.10194061], dtype=float32),\n",
       " array([0.1258593], dtype=float32),\n",
       " array([0.52197707], dtype=float32),\n",
       " array([0.11095927], dtype=float32),\n",
       " array([0.26546443], dtype=float32),\n",
       " array([0.3431547], dtype=float32),\n",
       " array([0.86193717], dtype=float32),\n",
       " array([0.9284425], dtype=float32),\n",
       " array([0.92190874], dtype=float32),\n",
       " array([0.73624897], dtype=float32),\n",
       " array([0.19202763], dtype=float32),\n",
       " array([0.26356685], dtype=float32),\n",
       " array([0.3087176], dtype=float32),\n",
       " array([0.8347072], dtype=float32),\n",
       " array([0.88018626], dtype=float32),\n",
       " array([0.8428117], dtype=float32),\n",
       " array([0.83061403], dtype=float32),\n",
       " array([0.11600614], dtype=float32),\n",
       " array([0.3107532], dtype=float32),\n",
       " array([0.6796863], dtype=float32),\n",
       " array([0.44468465], dtype=float32),\n",
       " array([0.13912497], dtype=float32),\n",
       " array([0.14231613], dtype=float32),\n",
       " array([0.19920278], dtype=float32),\n",
       " array([0.10642882], dtype=float32),\n",
       " array([0.43790546], dtype=float32),\n",
       " array([0.8753609], dtype=float32),\n",
       " array([0.08672253], dtype=float32),\n",
       " array([0.1782281], dtype=float32),\n",
       " array([0.8767127], dtype=float32),\n",
       " array([0.4049881], dtype=float32),\n",
       " array([0.1813286], dtype=float32),\n",
       " array([0.9052905], dtype=float32),\n",
       " array([0.91754], dtype=float32),\n",
       " array([0.5438465], dtype=float32),\n",
       " array([0.53088355], dtype=float32),\n",
       " array([0.49629873], dtype=float32),\n",
       " array([0.6062796], dtype=float32),\n",
       " array([0.55288357], dtype=float32),\n",
       " array([0.81731147], dtype=float32),\n",
       " array([0.5622416], dtype=float32),\n",
       " array([0.53064466], dtype=float32),\n",
       " array([0.11208071], dtype=float32),\n",
       " array([0.86852705], dtype=float32),\n",
       " array([0.8187922], dtype=float32),\n",
       " array([0.16183454], dtype=float32),\n",
       " array([0.09836435], dtype=float32),\n",
       " array([0.6557247], dtype=float32),\n",
       " array([0.23963463], dtype=float32),\n",
       " array([0.09758404], dtype=float32),\n",
       " array([0.5585447], dtype=float32),\n",
       " array([0.5350486], dtype=float32),\n",
       " array([0.7195929], dtype=float32),\n",
       " array([0.83327997], dtype=float32),\n",
       " array([0.91107666], dtype=float32),\n",
       " array([0.20289259], dtype=float32),\n",
       " array([0.3921151], dtype=float32),\n",
       " array([0.8782662], dtype=float32),\n",
       " array([0.14175916], dtype=float32),\n",
       " array([0.9295781], dtype=float32),\n",
       " array([0.47600448], dtype=float32),\n",
       " array([0.14690635], dtype=float32),\n",
       " array([0.6251398], dtype=float32),\n",
       " array([0.19681312], dtype=float32),\n",
       " array([0.39925513], dtype=float32),\n",
       " array([0.9186224], dtype=float32),\n",
       " array([0.3293823], dtype=float32),\n",
       " array([0.30718157], dtype=float32),\n",
       " array([0.12980129], dtype=float32),\n",
       " array([0.10698419], dtype=float32),\n",
       " array([0.5341406], dtype=float32),\n",
       " array([0.52713007], dtype=float32),\n",
       " array([0.14492713], dtype=float32),\n",
       " array([0.22662902], dtype=float32),\n",
       " array([0.43790546], dtype=float32),\n",
       " array([0.5319784], dtype=float32),\n",
       " array([0.5230989], dtype=float32),\n",
       " array([0.85294026], dtype=float32),\n",
       " array([0.21995991], dtype=float32),\n",
       " array([0.5424519], dtype=float32),\n",
       " array([0.3290268], dtype=float32),\n",
       " array([0.5341406], dtype=float32),\n",
       " array([0.8963237], dtype=float32),\n",
       " array([0.29491353], dtype=float32),\n",
       " array([0.90217197], dtype=float32),\n",
       " array([0.89137214], dtype=float32),\n",
       " array([0.8944125], dtype=float32),\n",
       " array([0.7317728], dtype=float32),\n",
       " array([0.9271082], dtype=float32),\n",
       " array([0.57477635], dtype=float32),\n",
       " array([0.92880034], dtype=float32),\n",
       " array([0.21655579], dtype=float32),\n",
       " array([0.48720247], dtype=float32),\n",
       " array([0.6521296], dtype=float32),\n",
       " array([0.6017778], dtype=float32),\n",
       " array([0.8638675], dtype=float32),\n",
       " array([0.6282918], dtype=float32),\n",
       " array([0.28771618], dtype=float32),\n",
       " array([0.44865748], dtype=float32),\n",
       " array([0.59239984], dtype=float32),\n",
       " array([0.3078105], dtype=float32),\n",
       " array([0.52288306], dtype=float32),\n",
       " array([0.8117194], dtype=float32),\n",
       " array([0.654522], dtype=float32),\n",
       " array([0.85188663], dtype=float32),\n",
       " array([0.6992647], dtype=float32),\n",
       " array([0.5341406], dtype=float32),\n",
       " array([0.10270082], dtype=float32),\n",
       " array([0.31750685], dtype=float32),\n",
       " array([0.731304], dtype=float32),\n",
       " array([0.5581796], dtype=float32),\n",
       " array([0.5086964], dtype=float32),\n",
       " array([0.48042074], dtype=float32),\n",
       " array([0.1181528], dtype=float32),\n",
       " array([0.1857665], dtype=float32),\n",
       " array([0.58757997], dtype=float32),\n",
       " array([0.7058551], dtype=float32),\n",
       " array([0.1365071], dtype=float32),\n",
       " array([0.1129154], dtype=float32),\n",
       " array([0.08770769], dtype=float32),\n",
       " array([0.75058925], dtype=float32),\n",
       " array([0.5615231], dtype=float32),\n",
       " array([0.5754408], dtype=float32),\n",
       " array([0.534793], dtype=float32),\n",
       " array([0.10439412], dtype=float32),\n",
       " array([0.43790546], dtype=float32),\n",
       " array([0.8796822], dtype=float32),\n",
       " array([0.9158006], dtype=float32),\n",
       " array([0.11193962], dtype=float32),\n",
       " array([0.9205247], dtype=float32),\n",
       " array([0.11686379], dtype=float32),\n",
       " array([0.8874364], dtype=float32),\n",
       " array([0.16496643], dtype=float32),\n",
       " array([0.5341406], dtype=float32),\n",
       " array([0.55954987], dtype=float32),\n",
       " array([0.57006663], dtype=float32),\n",
       " array([0.8252175], dtype=float32),\n",
       " array([0.5341406], dtype=float32),\n",
       " array([0.9267258], dtype=float32),\n",
       " array([0.39587328], dtype=float32),\n",
       " array([0.65938926], dtype=float32),\n",
       " array([0.21171415], dtype=float32),\n",
       " array([0.88865817], dtype=float32),\n",
       " array([0.42967927], dtype=float32),\n",
       " array([0.56637836], dtype=float32),\n",
       " array([0.53867936], dtype=float32),\n",
       " array([0.11936221], dtype=float32),\n",
       " array([0.89945644], dtype=float32),\n",
       " array([0.10378122], dtype=float32),\n",
       " array([0.69245744], dtype=float32),\n",
       " array([0.65308654], dtype=float32),\n",
       " array([0.3940448], dtype=float32),\n",
       " array([0.4026608], dtype=float32),\n",
       " array([0.5341406], dtype=float32),\n",
       " array([0.34636554], dtype=float32),\n",
       " array([0.62641495], dtype=float32),\n",
       " array([0.92814153], dtype=float32),\n",
       " array([0.31542522], dtype=float32),\n",
       " array([0.58930904], dtype=float32),\n",
       " array([0.09907126], dtype=float32),\n",
       " array([0.68117136], dtype=float32),\n",
       " array([0.31485865], dtype=float32),\n",
       " array([0.11041863], dtype=float32),\n",
       " array([0.44921815], dtype=float32),\n",
       " array([0.6067076], dtype=float32),\n",
       " array([0.90840745], dtype=float32),\n",
       " array([0.4639371], dtype=float32),\n",
       " array([0.29382107], dtype=float32),\n",
       " array([0.89705086], dtype=float32),\n",
       " array([0.41747886], dtype=float32),\n",
       " array([0.11631502], dtype=float32),\n",
       " array([0.92959434], dtype=float32),\n",
       " array([0.5711581], dtype=float32),\n",
       " array([0.12950453], dtype=float32),\n",
       " array([0.4531535], dtype=float32),\n",
       " array([0.55292594], dtype=float32),\n",
       " array([0.16883725], dtype=float32),\n",
       " array([0.40426224], dtype=float32),\n",
       " array([0.1846044], dtype=float32),\n",
       " array([0.5319784], dtype=float32),\n",
       " array([0.40081197], dtype=float32),\n",
       " array([0.91289365], dtype=float32),\n",
       " array([0.10944119], dtype=float32),\n",
       " array([0.13150159], dtype=float32),\n",
       " array([0.24232209], dtype=float32),\n",
       " array([0.09136847], dtype=float32),\n",
       " array([0.27384922], dtype=float32),\n",
       " array([0.8407085], dtype=float32),\n",
       " array([0.3031056], dtype=float32),\n",
       " array([0.37201163], dtype=float32),\n",
       " array([0.6275474], dtype=float32),\n",
       " array([0.14991273], dtype=float32),\n",
       " array([0.92780083], dtype=float32),\n",
       " array([0.55339265], dtype=float32),\n",
       " array([0.19259939], dtype=float32),\n",
       " array([0.5857825], dtype=float32),\n",
       " array([0.5873476], dtype=float32),\n",
       " array([0.5617095], dtype=float32),\n",
       " array([0.5341406], dtype=float32),\n",
       " array([0.17213748], dtype=float32),\n",
       " array([0.31160966], dtype=float32),\n",
       " array([0.2174956], dtype=float32),\n",
       " array([0.14552948], dtype=float32),\n",
       " array([0.31001043], dtype=float32),\n",
       " array([0.16473171], dtype=float32),\n",
       " array([0.76822823], dtype=float32),\n",
       " array([0.09064715], dtype=float32),\n",
       " array([0.56948733], dtype=float32),\n",
       " array([0.88089776], dtype=float32),\n",
       " array([0.5341406], dtype=float32),\n",
       " array([0.11528458], dtype=float32),\n",
       " array([0.59585863], dtype=float32),\n",
       " array([0.9277902], dtype=float32),\n",
       " array([0.13206263], dtype=float32),\n",
       " array([0.15011017], dtype=float32),\n",
       " array([0.19714285], dtype=float32),\n",
       " array([0.9206438], dtype=float32),\n",
       " array([0.39634466], dtype=float32),\n",
       " array([0.22888893], dtype=float32),\n",
       " array([0.51052904], dtype=float32),\n",
       " array([0.90667003], dtype=float32),\n",
       " array([0.8759227], dtype=float32),\n",
       " array([0.5253921], dtype=float32),\n",
       " array([0.5692082], dtype=float32),\n",
       " array([0.9055536], dtype=float32),\n",
       " array([0.43790546], dtype=float32),\n",
       " array([0.35321525], dtype=float32),\n",
       " array([0.36967522], dtype=float32),\n",
       " array([0.5751395], dtype=float32),\n",
       " array([0.43790546], dtype=float32),\n",
       " array([0.11820836], dtype=float32),\n",
       " array([0.12209349], dtype=float32),\n",
       " array([0.86522305], dtype=float32),\n",
       " array([0.90050924], dtype=float32),\n",
       " array([0.12495406], dtype=float32),\n",
       " array([0.57507086], dtype=float32),\n",
       " array([0.50487566], dtype=float32),\n",
       " array([0.3728053], dtype=float32),\n",
       " array([0.9095661], dtype=float32),\n",
       " array([0.93091106], dtype=float32),\n",
       " array([0.27547523], dtype=float32),\n",
       " array([0.86765885], dtype=float32),\n",
       " array([0.5319784], dtype=float32),\n",
       " array([0.53650755], dtype=float32),\n",
       " array([0.68606484], dtype=float32),\n",
       " array([0.8729431], dtype=float32),\n",
       " array([0.10361741], dtype=float32),\n",
       " array([0.17342725], dtype=float32),\n",
       " array([0.10994233], dtype=float32),\n",
       " array([0.69305277], dtype=float32),\n",
       " array([0.17599764], dtype=float32),\n",
       " array([0.10130479], dtype=float32),\n",
       " array([0.5735119], dtype=float32),\n",
       " array([0.9300262], dtype=float32),\n",
       " array([0.5832226], dtype=float32),\n",
       " array([0.55403435], dtype=float32),\n",
       " array([0.6123118], dtype=float32),\n",
       " array([0.5341406], dtype=float32),\n",
       " array([0.31044647], dtype=float32),\n",
       " array([0.8429185], dtype=float32),\n",
       " array([0.49332076], dtype=float32),\n",
       " array([0.33481222], dtype=float32),\n",
       " array([0.6873605], dtype=float32),\n",
       " array([0.09772594], dtype=float32),\n",
       " array([0.6660134], dtype=float32),\n",
       " array([0.09201464], dtype=float32),\n",
       " array([0.90713507], dtype=float32),\n",
       " array([0.25025383], dtype=float32),\n",
       " array([0.7582403], dtype=float32),\n",
       " array([0.23798549], dtype=float32),\n",
       " array([0.88574696], dtype=float32),\n",
       " array([0.539437], dtype=float32),\n",
       " array([0.5005466], dtype=float32),\n",
       " array([0.72064704], dtype=float32),\n",
       " array([0.29711324], dtype=float32),\n",
       " array([0.5341406], dtype=float32),\n",
       " array([0.13590735], dtype=float32),\n",
       " array([0.8444925], dtype=float32),\n",
       " array([0.5269329], dtype=float32),\n",
       " array([0.43790546], dtype=float32),\n",
       " array([0.09506554], dtype=float32),\n",
       " array([0.924056], dtype=float32),\n",
       " array([0.74908185], dtype=float32),\n",
       " array([0.09347664], dtype=float32),\n",
       " array([0.43790546], dtype=float32),\n",
       " array([0.24028316], dtype=float32),\n",
       " array([0.11141792], dtype=float32),\n",
       " array([0.19056891], dtype=float32),\n",
       " array([0.32198694], dtype=float32),\n",
       " array([0.8552409], dtype=float32),\n",
       " array([0.31217575], dtype=float32),\n",
       " array([0.09266599], dtype=float32),\n",
       " array([0.3188019], dtype=float32),\n",
       " array([0.4401941], dtype=float32),\n",
       " array([0.5159405], dtype=float32),\n",
       " array([0.43440482], dtype=float32),\n",
       " array([0.712925], dtype=float32),\n",
       " array([0.5775941], dtype=float32),\n",
       " array([0.12831329], dtype=float32),\n",
       " array([0.18604042], dtype=float32),\n",
       " array([0.92902106], dtype=float32),\n",
       " array([0.72292995], dtype=float32),\n",
       " array([0.758596], dtype=float32),\n",
       " array([0.897178], dtype=float32),\n",
       " array([0.5708558], dtype=float32),\n",
       " array([0.0912973], dtype=float32),\n",
       " array([0.8613458], dtype=float32),\n",
       " array([0.12090807], dtype=float32),\n",
       " array([0.44960028], dtype=float32),\n",
       " array([0.25815356], dtype=float32),\n",
       " array([0.8978559], dtype=float32),\n",
       " array([0.5341406], dtype=float32),\n",
       " array([0.61367244], dtype=float32),\n",
       " array([0.92978084], dtype=float32),\n",
       " array([0.8967416], dtype=float32),\n",
       " array([0.8724152], dtype=float32),\n",
       " array([0.5341406], dtype=float32),\n",
       " array([0.8437772], dtype=float32),\n",
       " array([0.56966645], dtype=float32),\n",
       " array([0.18988876], dtype=float32),\n",
       " array([0.17198367], dtype=float32),\n",
       " array([0.3941098], dtype=float32),\n",
       " array([0.17228617], dtype=float32),\n",
       " array([0.75255454], dtype=float32),\n",
       " array([0.5833981], dtype=float32),\n",
       " array([0.0917244], dtype=float32),\n",
       " array([0.88613784], dtype=float32),\n",
       " array([0.12436742], dtype=float32),\n",
       " array([0.66153705], dtype=float32),\n",
       " array([0.8161391], dtype=float32),\n",
       " array([0.12483799], dtype=float32),\n",
       " array([0.5712398], dtype=float32),\n",
       " array([0.9011047], dtype=float32),\n",
       " array([0.12207649], dtype=float32),\n",
       " array([0.1154645], dtype=float32),\n",
       " array([0.7000872], dtype=float32),\n",
       " array([0.8327292], dtype=float32),\n",
       " array([0.43790546], dtype=float32),\n",
       " array([0.46462268], dtype=float32),\n",
       " array([0.13788064], dtype=float32),\n",
       " array([0.2860768], dtype=float32),\n",
       " array([0.30426005], dtype=float32),\n",
       " array([0.7236502], dtype=float32),\n",
       " array([0.11972016], dtype=float32),\n",
       " array([0.46699387], dtype=float32),\n",
       " array([0.67899877], dtype=float32),\n",
       " array([0.09655002], dtype=float32),\n",
       " array([0.87348807], dtype=float32),\n",
       " array([0.15716663], dtype=float32),\n",
       " array([0.6174583], dtype=float32),\n",
       " array([0.93497723], dtype=float32),\n",
       " array([0.6971431], dtype=float32),\n",
       " array([0.74512476], dtype=float32),\n",
       " array([0.60533154], dtype=float32),\n",
       " array([0.53172344], dtype=float32),\n",
       " array([0.89900494], dtype=float32),\n",
       " array([0.5154606], dtype=float32),\n",
       " array([0.93166333], dtype=float32),\n",
       " array([0.12905979], dtype=float32),\n",
       " array([0.92858464], dtype=float32),\n",
       " array([0.8962789], dtype=float32),\n",
       " ...]"
      ]
     },
     "execution_count": 68,
     "metadata": {},
     "output_type": "execute_result"
    }
   ],
   "source": [
    "predictions"
   ]
  },
  {
   "cell_type": "code",
   "execution_count": null,
   "id": "oYH5dd1or1f9",
   "metadata": {
    "id": "oYH5dd1or1f9"
   },
   "outputs": [],
   "source": [
    "pred=[]\n",
    "for i in predictions:\n",
    "  if i>=0.5:\n",
    "    pred.append(1)\n",
    "  else:\n",
    "    pred.append(0)"
   ]
  },
  {
   "cell_type": "code",
   "execution_count": null,
   "id": "3fR8TiD2sHuv",
   "metadata": {
    "id": "3fR8TiD2sHuv"
   },
   "outputs": [],
   "source": [
    "df2=pd.read_csv(\"data/sampleSubmission.csv\")"
   ]
  },
  {
   "cell_type": "code",
   "execution_count": null,
   "id": "JDdWVlSSsYuw",
   "metadata": {
    "id": "JDdWVlSSsYuw"
   },
   "outputs": [],
   "source": [
    "df2['label']=pred"
   ]
  },
  {
   "cell_type": "code",
   "execution_count": null,
   "id": "s-VAC-8Csp41",
   "metadata": {
    "id": "s-VAC-8Csp41"
   },
   "outputs": [],
   "source": [
    "df2.to_csv(\"data/Submission1.csv\",index=False)"
   ]
  },
  {
   "cell_type": "code",
   "execution_count": 63,
   "id": "49_gDtPjZq1-",
   "metadata": {
    "id": "49_gDtPjZq1-"
   },
   "outputs": [],
   "source": [
    "model.save('stumble_upon.h5')\n"
   ]
  },
  {
   "cell_type": "code",
   "execution_count": null,
   "id": "xlzd0bEr18f0",
   "metadata": {
    "id": "xlzd0bEr18f0"
   },
   "outputs": [],
   "source": []
  }
 ],
 "metadata": {
  "accelerator": "GPU",
  "colab": {
   "gpuType": "T4",
   "provenance": []
  },
  "kernelspec": {
   "display_name": "Python 3 (ipykernel)",
   "language": "python",
   "name": "python3"
  },
  "language_info": {
   "codemirror_mode": {
    "name": "ipython",
    "version": 3
   },
   "file_extension": ".py",
   "mimetype": "text/x-python",
   "name": "python",
   "nbconvert_exporter": "python",
   "pygments_lexer": "ipython3",
   "version": "3.9.12"
  },
  "widgets": {
   "application/vnd.jupyter.widget-state+json": {
    "00cdb31b7b8f49a0bd263ab3c403ff9c": {
     "model_module": "@jupyter-widgets/controls",
     "model_module_version": "1.5.0",
     "model_name": "HTMLModel",
     "state": {
      "_dom_classes": [],
      "_model_module": "@jupyter-widgets/controls",
      "_model_module_version": "1.5.0",
      "_model_name": "HTMLModel",
      "_view_count": null,
      "_view_module": "@jupyter-widgets/controls",
      "_view_module_version": "1.5.0",
      "_view_name": "HTMLView",
      "description": "",
      "description_tooltip": null,
      "layout": "IPY_MODEL_bd8491da17164dd4bb1e369cdd37d347",
      "placeholder": "​",
      "style": "IPY_MODEL_e6b46f32db7645bf987857f4ddb99629",
      "value": "Downloading model.safetensors: 100%"
     }
    },
    "013e18ce64e54beba0808551edd2d45f": {
     "model_module": "@jupyter-widgets/controls",
     "model_module_version": "1.5.0",
     "model_name": "HBoxModel",
     "state": {
      "_dom_classes": [],
      "_model_module": "@jupyter-widgets/controls",
      "_model_module_version": "1.5.0",
      "_model_name": "HBoxModel",
      "_view_count": null,
      "_view_module": "@jupyter-widgets/controls",
      "_view_module_version": "1.5.0",
      "_view_name": "HBoxView",
      "box_style": "",
      "children": [
       "IPY_MODEL_ef9e5b0cb603492ea7471cad197e5931",
       "IPY_MODEL_dd995adc5c344274901218c23356659b",
       "IPY_MODEL_5b7678ca503747359f7aae10f02315cd"
      ],
      "layout": "IPY_MODEL_588eca1cb6b7410c9a56a2f6321eb5c6"
     }
    },
    "02a1412dc1004743a0324570ea1f3a0a": {
     "model_module": "@jupyter-widgets/base",
     "model_module_version": "1.2.0",
     "model_name": "LayoutModel",
     "state": {
      "_model_module": "@jupyter-widgets/base",
      "_model_module_version": "1.2.0",
      "_model_name": "LayoutModel",
      "_view_count": null,
      "_view_module": "@jupyter-widgets/base",
      "_view_module_version": "1.2.0",
      "_view_name": "LayoutView",
      "align_content": null,
      "align_items": null,
      "align_self": null,
      "border": null,
      "bottom": null,
      "display": null,
      "flex": null,
      "flex_flow": null,
      "grid_area": null,
      "grid_auto_columns": null,
      "grid_auto_flow": null,
      "grid_auto_rows": null,
      "grid_column": null,
      "grid_gap": null,
      "grid_row": null,
      "grid_template_areas": null,
      "grid_template_columns": null,
      "grid_template_rows": null,
      "height": null,
      "justify_content": null,
      "justify_items": null,
      "left": null,
      "margin": null,
      "max_height": null,
      "max_width": null,
      "min_height": null,
      "min_width": null,
      "object_fit": null,
      "object_position": null,
      "order": null,
      "overflow": null,
      "overflow_x": null,
      "overflow_y": null,
      "padding": null,
      "right": null,
      "top": null,
      "visibility": null,
      "width": null
     }
    },
    "0af8a16904724012aec0d3e67aab9ce9": {
     "model_module": "@jupyter-widgets/controls",
     "model_module_version": "1.5.0",
     "model_name": "HBoxModel",
     "state": {
      "_dom_classes": [],
      "_model_module": "@jupyter-widgets/controls",
      "_model_module_version": "1.5.0",
      "_model_name": "HBoxModel",
      "_view_count": null,
      "_view_module": "@jupyter-widgets/controls",
      "_view_module_version": "1.5.0",
      "_view_name": "HBoxView",
      "box_style": "",
      "children": [
       "IPY_MODEL_b70cecc42c6c4f989576f51b4463bdf1",
       "IPY_MODEL_feb70e3642334b38abaa54ef7983ae61",
       "IPY_MODEL_9701f19f02c64b98abf46bc247d1c827"
      ],
      "layout": "IPY_MODEL_946fa3e7b0b0419b9a5d6f7305bf9357"
     }
    },
    "0cbe32e19ce44627954d6932ce001abe": {
     "model_module": "@jupyter-widgets/controls",
     "model_module_version": "1.5.0",
     "model_name": "ProgressStyleModel",
     "state": {
      "_model_module": "@jupyter-widgets/controls",
      "_model_module_version": "1.5.0",
      "_model_name": "ProgressStyleModel",
      "_view_count": null,
      "_view_module": "@jupyter-widgets/base",
      "_view_module_version": "1.2.0",
      "_view_name": "StyleView",
      "bar_color": null,
      "description_width": ""
     }
    },
    "171989d635be40e3a3a594ff6984b64c": {
     "model_module": "@jupyter-widgets/controls",
     "model_module_version": "1.5.0",
     "model_name": "HTMLModel",
     "state": {
      "_dom_classes": [],
      "_model_module": "@jupyter-widgets/controls",
      "_model_module_version": "1.5.0",
      "_model_name": "HTMLModel",
      "_view_count": null,
      "_view_module": "@jupyter-widgets/controls",
      "_view_module_version": "1.5.0",
      "_view_name": "HTMLView",
      "description": "",
      "description_tooltip": null,
      "layout": "IPY_MODEL_a19f92ad40554ffe9e4e0cc33517bdfd",
      "placeholder": "​",
      "style": "IPY_MODEL_7d384abf41a94db39c8cab6079620b11",
      "value": "Downloading (…)lve/main/config.json: 100%"
     }
    },
    "1834623cdf7047e88aa0d53ffaade545": {
     "model_module": "@jupyter-widgets/base",
     "model_module_version": "1.2.0",
     "model_name": "LayoutModel",
     "state": {
      "_model_module": "@jupyter-widgets/base",
      "_model_module_version": "1.2.0",
      "_model_name": "LayoutModel",
      "_view_count": null,
      "_view_module": "@jupyter-widgets/base",
      "_view_module_version": "1.2.0",
      "_view_name": "LayoutView",
      "align_content": null,
      "align_items": null,
      "align_self": null,
      "border": null,
      "bottom": null,
      "display": null,
      "flex": null,
      "flex_flow": null,
      "grid_area": null,
      "grid_auto_columns": null,
      "grid_auto_flow": null,
      "grid_auto_rows": null,
      "grid_column": null,
      "grid_gap": null,
      "grid_row": null,
      "grid_template_areas": null,
      "grid_template_columns": null,
      "grid_template_rows": null,
      "height": null,
      "justify_content": null,
      "justify_items": null,
      "left": null,
      "margin": null,
      "max_height": null,
      "max_width": null,
      "min_height": null,
      "min_width": null,
      "object_fit": null,
      "object_position": null,
      "order": null,
      "overflow": null,
      "overflow_x": null,
      "overflow_y": null,
      "padding": null,
      "right": null,
      "top": null,
      "visibility": null,
      "width": null
     }
    },
    "1d777235e9714f1ba6eadf7a07debab3": {
     "model_module": "@jupyter-widgets/controls",
     "model_module_version": "1.5.0",
     "model_name": "ProgressStyleModel",
     "state": {
      "_model_module": "@jupyter-widgets/controls",
      "_model_module_version": "1.5.0",
      "_model_name": "ProgressStyleModel",
      "_view_count": null,
      "_view_module": "@jupyter-widgets/base",
      "_view_module_version": "1.2.0",
      "_view_name": "StyleView",
      "bar_color": null,
      "description_width": ""
     }
    },
    "2eb28384e13347fc8dccc510c19589c8": {
     "model_module": "@jupyter-widgets/controls",
     "model_module_version": "1.5.0",
     "model_name": "FloatProgressModel",
     "state": {
      "_dom_classes": [],
      "_model_module": "@jupyter-widgets/controls",
      "_model_module_version": "1.5.0",
      "_model_name": "FloatProgressModel",
      "_view_count": null,
      "_view_module": "@jupyter-widgets/controls",
      "_view_module_version": "1.5.0",
      "_view_name": "ProgressView",
      "bar_style": "success",
      "description": "",
      "description_tooltip": null,
      "layout": "IPY_MODEL_857fa7cf8b654a2da27e2fce72bef51e",
      "max": 28,
      "min": 0,
      "orientation": "horizontal",
      "style": "IPY_MODEL_d672b85e006040958904b33f52f1d9f7",
      "value": 28
     }
    },
    "2ff1bb40dac24907ae8d2d9ed4c159d4": {
     "model_module": "@jupyter-widgets/base",
     "model_module_version": "1.2.0",
     "model_name": "LayoutModel",
     "state": {
      "_model_module": "@jupyter-widgets/base",
      "_model_module_version": "1.2.0",
      "_model_name": "LayoutModel",
      "_view_count": null,
      "_view_module": "@jupyter-widgets/base",
      "_view_module_version": "1.2.0",
      "_view_name": "LayoutView",
      "align_content": null,
      "align_items": null,
      "align_self": null,
      "border": null,
      "bottom": null,
      "display": null,
      "flex": null,
      "flex_flow": null,
      "grid_area": null,
      "grid_auto_columns": null,
      "grid_auto_flow": null,
      "grid_auto_rows": null,
      "grid_column": null,
      "grid_gap": null,
      "grid_row": null,
      "grid_template_areas": null,
      "grid_template_columns": null,
      "grid_template_rows": null,
      "height": null,
      "justify_content": null,
      "justify_items": null,
      "left": null,
      "margin": null,
      "max_height": null,
      "max_width": null,
      "min_height": null,
      "min_width": null,
      "object_fit": null,
      "object_position": null,
      "order": null,
      "overflow": null,
      "overflow_x": null,
      "overflow_y": null,
      "padding": null,
      "right": null,
      "top": null,
      "visibility": null,
      "width": null
     }
    },
    "3b9b0b816e6649d09325564b275c59ee": {
     "model_module": "@jupyter-widgets/controls",
     "model_module_version": "1.5.0",
     "model_name": "DescriptionStyleModel",
     "state": {
      "_model_module": "@jupyter-widgets/controls",
      "_model_module_version": "1.5.0",
      "_model_name": "DescriptionStyleModel",
      "_view_count": null,
      "_view_module": "@jupyter-widgets/base",
      "_view_module_version": "1.2.0",
      "_view_name": "StyleView",
      "description_width": ""
     }
    },
    "416c3303d3114931b07fe6837d982d66": {
     "model_module": "@jupyter-widgets/controls",
     "model_module_version": "1.5.0",
     "model_name": "HBoxModel",
     "state": {
      "_dom_classes": [],
      "_model_module": "@jupyter-widgets/controls",
      "_model_module_version": "1.5.0",
      "_model_name": "HBoxModel",
      "_view_count": null,
      "_view_module": "@jupyter-widgets/controls",
      "_view_module_version": "1.5.0",
      "_view_name": "HBoxView",
      "box_style": "",
      "children": [
       "IPY_MODEL_5f4ea8cb641c46798f6d4c36dc23ebeb",
       "IPY_MODEL_2eb28384e13347fc8dccc510c19589c8",
       "IPY_MODEL_ab55eb3df3474f5886bb527ae3eea282"
      ],
      "layout": "IPY_MODEL_4e3c22c774d6427599cdaf8807d83562"
     }
    },
    "42a32cb7a9304415a1fc210ec979eeb8": {
     "model_module": "@jupyter-widgets/controls",
     "model_module_version": "1.5.0",
     "model_name": "DescriptionStyleModel",
     "state": {
      "_model_module": "@jupyter-widgets/controls",
      "_model_module_version": "1.5.0",
      "_model_name": "DescriptionStyleModel",
      "_view_count": null,
      "_view_module": "@jupyter-widgets/base",
      "_view_module_version": "1.2.0",
      "_view_name": "StyleView",
      "description_width": ""
     }
    },
    "43683928cd9d44dcb5af531b56b10166": {
     "model_module": "@jupyter-widgets/base",
     "model_module_version": "1.2.0",
     "model_name": "LayoutModel",
     "state": {
      "_model_module": "@jupyter-widgets/base",
      "_model_module_version": "1.2.0",
      "_model_name": "LayoutModel",
      "_view_count": null,
      "_view_module": "@jupyter-widgets/base",
      "_view_module_version": "1.2.0",
      "_view_name": "LayoutView",
      "align_content": null,
      "align_items": null,
      "align_self": null,
      "border": null,
      "bottom": null,
      "display": null,
      "flex": null,
      "flex_flow": null,
      "grid_area": null,
      "grid_auto_columns": null,
      "grid_auto_flow": null,
      "grid_auto_rows": null,
      "grid_column": null,
      "grid_gap": null,
      "grid_row": null,
      "grid_template_areas": null,
      "grid_template_columns": null,
      "grid_template_rows": null,
      "height": null,
      "justify_content": null,
      "justify_items": null,
      "left": null,
      "margin": null,
      "max_height": null,
      "max_width": null,
      "min_height": null,
      "min_width": null,
      "object_fit": null,
      "object_position": null,
      "order": null,
      "overflow": null,
      "overflow_x": null,
      "overflow_y": null,
      "padding": null,
      "right": null,
      "top": null,
      "visibility": null,
      "width": null
     }
    },
    "4690f327786e4628be26e096f61b40b3": {
     "model_module": "@jupyter-widgets/controls",
     "model_module_version": "1.5.0",
     "model_name": "HBoxModel",
     "state": {
      "_dom_classes": [],
      "_model_module": "@jupyter-widgets/controls",
      "_model_module_version": "1.5.0",
      "_model_name": "HBoxModel",
      "_view_count": null,
      "_view_module": "@jupyter-widgets/controls",
      "_view_module_version": "1.5.0",
      "_view_name": "HBoxView",
      "box_style": "",
      "children": [
       "IPY_MODEL_00cdb31b7b8f49a0bd263ab3c403ff9c",
       "IPY_MODEL_679341ed2fc6473fada6d8d19997246d",
       "IPY_MODEL_caca07a14e4d45afae865863ceaa3cc4"
      ],
      "layout": "IPY_MODEL_2ff1bb40dac24907ae8d2d9ed4c159d4"
     }
    },
    "4a91fc06f18a41a787f72c7741a38558": {
     "model_module": "@jupyter-widgets/controls",
     "model_module_version": "1.5.0",
     "model_name": "ProgressStyleModel",
     "state": {
      "_model_module": "@jupyter-widgets/controls",
      "_model_module_version": "1.5.0",
      "_model_name": "ProgressStyleModel",
      "_view_count": null,
      "_view_module": "@jupyter-widgets/base",
      "_view_module_version": "1.2.0",
      "_view_name": "StyleView",
      "bar_color": null,
      "description_width": ""
     }
    },
    "4e3c22c774d6427599cdaf8807d83562": {
     "model_module": "@jupyter-widgets/base",
     "model_module_version": "1.2.0",
     "model_name": "LayoutModel",
     "state": {
      "_model_module": "@jupyter-widgets/base",
      "_model_module_version": "1.2.0",
      "_model_name": "LayoutModel",
      "_view_count": null,
      "_view_module": "@jupyter-widgets/base",
      "_view_module_version": "1.2.0",
      "_view_name": "LayoutView",
      "align_content": null,
      "align_items": null,
      "align_self": null,
      "border": null,
      "bottom": null,
      "display": null,
      "flex": null,
      "flex_flow": null,
      "grid_area": null,
      "grid_auto_columns": null,
      "grid_auto_flow": null,
      "grid_auto_rows": null,
      "grid_column": null,
      "grid_gap": null,
      "grid_row": null,
      "grid_template_areas": null,
      "grid_template_columns": null,
      "grid_template_rows": null,
      "height": null,
      "justify_content": null,
      "justify_items": null,
      "left": null,
      "margin": null,
      "max_height": null,
      "max_width": null,
      "min_height": null,
      "min_width": null,
      "object_fit": null,
      "object_position": null,
      "order": null,
      "overflow": null,
      "overflow_x": null,
      "overflow_y": null,
      "padding": null,
      "right": null,
      "top": null,
      "visibility": null,
      "width": null
     }
    },
    "588eca1cb6b7410c9a56a2f6321eb5c6": {
     "model_module": "@jupyter-widgets/base",
     "model_module_version": "1.2.0",
     "model_name": "LayoutModel",
     "state": {
      "_model_module": "@jupyter-widgets/base",
      "_model_module_version": "1.2.0",
      "_model_name": "LayoutModel",
      "_view_count": null,
      "_view_module": "@jupyter-widgets/base",
      "_view_module_version": "1.2.0",
      "_view_name": "LayoutView",
      "align_content": null,
      "align_items": null,
      "align_self": null,
      "border": null,
      "bottom": null,
      "display": null,
      "flex": null,
      "flex_flow": null,
      "grid_area": null,
      "grid_auto_columns": null,
      "grid_auto_flow": null,
      "grid_auto_rows": null,
      "grid_column": null,
      "grid_gap": null,
      "grid_row": null,
      "grid_template_areas": null,
      "grid_template_columns": null,
      "grid_template_rows": null,
      "height": null,
      "justify_content": null,
      "justify_items": null,
      "left": null,
      "margin": null,
      "max_height": null,
      "max_width": null,
      "min_height": null,
      "min_width": null,
      "object_fit": null,
      "object_position": null,
      "order": null,
      "overflow": null,
      "overflow_x": null,
      "overflow_y": null,
      "padding": null,
      "right": null,
      "top": null,
      "visibility": null,
      "width": null
     }
    },
    "59394bd49105436b82cda37defd3a26b": {
     "model_module": "@jupyter-widgets/controls",
     "model_module_version": "1.5.0",
     "model_name": "DescriptionStyleModel",
     "state": {
      "_model_module": "@jupyter-widgets/controls",
      "_model_module_version": "1.5.0",
      "_model_name": "DescriptionStyleModel",
      "_view_count": null,
      "_view_module": "@jupyter-widgets/base",
      "_view_module_version": "1.2.0",
      "_view_name": "StyleView",
      "description_width": ""
     }
    },
    "5b7678ca503747359f7aae10f02315cd": {
     "model_module": "@jupyter-widgets/controls",
     "model_module_version": "1.5.0",
     "model_name": "HTMLModel",
     "state": {
      "_dom_classes": [],
      "_model_module": "@jupyter-widgets/controls",
      "_model_module_version": "1.5.0",
      "_model_name": "HTMLModel",
      "_view_count": null,
      "_view_module": "@jupyter-widgets/controls",
      "_view_module_version": "1.5.0",
      "_view_name": "HTMLView",
      "description": "",
      "description_tooltip": null,
      "layout": "IPY_MODEL_b8f378a0efc94331a019a33299fe32bc",
      "placeholder": "​",
      "style": "IPY_MODEL_42a32cb7a9304415a1fc210ec979eeb8",
      "value": " 466k/466k [00:00&lt;00:00, 5.45MB/s]"
     }
    },
    "5f4ea8cb641c46798f6d4c36dc23ebeb": {
     "model_module": "@jupyter-widgets/controls",
     "model_module_version": "1.5.0",
     "model_name": "HTMLModel",
     "state": {
      "_dom_classes": [],
      "_model_module": "@jupyter-widgets/controls",
      "_model_module_version": "1.5.0",
      "_model_name": "HTMLModel",
      "_view_count": null,
      "_view_module": "@jupyter-widgets/controls",
      "_view_module_version": "1.5.0",
      "_view_name": "HTMLView",
      "description": "",
      "description_tooltip": null,
      "layout": "IPY_MODEL_02a1412dc1004743a0324570ea1f3a0a",
      "placeholder": "​",
      "style": "IPY_MODEL_bd862d9253c446a2a34cc1cc0125e65f",
      "value": "Downloading (…)okenizer_config.json: 100%"
     }
    },
    "679341ed2fc6473fada6d8d19997246d": {
     "model_module": "@jupyter-widgets/controls",
     "model_module_version": "1.5.0",
     "model_name": "FloatProgressModel",
     "state": {
      "_dom_classes": [],
      "_model_module": "@jupyter-widgets/controls",
      "_model_module_version": "1.5.0",
      "_model_name": "FloatProgressModel",
      "_view_count": null,
      "_view_module": "@jupyter-widgets/controls",
      "_view_module_version": "1.5.0",
      "_view_name": "ProgressView",
      "bar_style": "success",
      "description": "",
      "description_tooltip": null,
      "layout": "IPY_MODEL_a14cc36a13ee47399c9fbf9a63f4bf37",
      "max": 440449768,
      "min": 0,
      "orientation": "horizontal",
      "style": "IPY_MODEL_1d777235e9714f1ba6eadf7a07debab3",
      "value": 440449768
     }
    },
    "67add75d4ece4a96b7c40db99bffc727": {
     "model_module": "@jupyter-widgets/controls",
     "model_module_version": "1.5.0",
     "model_name": "HTMLModel",
     "state": {
      "_dom_classes": [],
      "_model_module": "@jupyter-widgets/controls",
      "_model_module_version": "1.5.0",
      "_model_name": "HTMLModel",
      "_view_count": null,
      "_view_module": "@jupyter-widgets/controls",
      "_view_module_version": "1.5.0",
      "_view_name": "HTMLView",
      "description": "",
      "description_tooltip": null,
      "layout": "IPY_MODEL_43683928cd9d44dcb5af531b56b10166",
      "placeholder": "​",
      "style": "IPY_MODEL_8f1c4751b66c40c0acfff62d66110b7e",
      "value": " 570/570 [00:00&lt;00:00, 40.4kB/s]"
     }
    },
    "68e6804956104e7e846c689df72a4f6c": {
     "model_module": "@jupyter-widgets/controls",
     "model_module_version": "1.5.0",
     "model_name": "DescriptionStyleModel",
     "state": {
      "_model_module": "@jupyter-widgets/controls",
      "_model_module_version": "1.5.0",
      "_model_name": "DescriptionStyleModel",
      "_view_count": null,
      "_view_module": "@jupyter-widgets/base",
      "_view_module_version": "1.2.0",
      "_view_name": "StyleView",
      "description_width": ""
     }
    },
    "7d384abf41a94db39c8cab6079620b11": {
     "model_module": "@jupyter-widgets/controls",
     "model_module_version": "1.5.0",
     "model_name": "DescriptionStyleModel",
     "state": {
      "_model_module": "@jupyter-widgets/controls",
      "_model_module_version": "1.5.0",
      "_model_name": "DescriptionStyleModel",
      "_view_count": null,
      "_view_module": "@jupyter-widgets/base",
      "_view_module_version": "1.2.0",
      "_view_name": "StyleView",
      "description_width": ""
     }
    },
    "857fa7cf8b654a2da27e2fce72bef51e": {
     "model_module": "@jupyter-widgets/base",
     "model_module_version": "1.2.0",
     "model_name": "LayoutModel",
     "state": {
      "_model_module": "@jupyter-widgets/base",
      "_model_module_version": "1.2.0",
      "_model_name": "LayoutModel",
      "_view_count": null,
      "_view_module": "@jupyter-widgets/base",
      "_view_module_version": "1.2.0",
      "_view_name": "LayoutView",
      "align_content": null,
      "align_items": null,
      "align_self": null,
      "border": null,
      "bottom": null,
      "display": null,
      "flex": null,
      "flex_flow": null,
      "grid_area": null,
      "grid_auto_columns": null,
      "grid_auto_flow": null,
      "grid_auto_rows": null,
      "grid_column": null,
      "grid_gap": null,
      "grid_row": null,
      "grid_template_areas": null,
      "grid_template_columns": null,
      "grid_template_rows": null,
      "height": null,
      "justify_content": null,
      "justify_items": null,
      "left": null,
      "margin": null,
      "max_height": null,
      "max_width": null,
      "min_height": null,
      "min_width": null,
      "object_fit": null,
      "object_position": null,
      "order": null,
      "overflow": null,
      "overflow_x": null,
      "overflow_y": null,
      "padding": null,
      "right": null,
      "top": null,
      "visibility": null,
      "width": null
     }
    },
    "8f1c4751b66c40c0acfff62d66110b7e": {
     "model_module": "@jupyter-widgets/controls",
     "model_module_version": "1.5.0",
     "model_name": "DescriptionStyleModel",
     "state": {
      "_model_module": "@jupyter-widgets/controls",
      "_model_module_version": "1.5.0",
      "_model_name": "DescriptionStyleModel",
      "_view_count": null,
      "_view_module": "@jupyter-widgets/base",
      "_view_module_version": "1.2.0",
      "_view_name": "StyleView",
      "description_width": ""
     }
    },
    "946fa3e7b0b0419b9a5d6f7305bf9357": {
     "model_module": "@jupyter-widgets/base",
     "model_module_version": "1.2.0",
     "model_name": "LayoutModel",
     "state": {
      "_model_module": "@jupyter-widgets/base",
      "_model_module_version": "1.2.0",
      "_model_name": "LayoutModel",
      "_view_count": null,
      "_view_module": "@jupyter-widgets/base",
      "_view_module_version": "1.2.0",
      "_view_name": "LayoutView",
      "align_content": null,
      "align_items": null,
      "align_self": null,
      "border": null,
      "bottom": null,
      "display": null,
      "flex": null,
      "flex_flow": null,
      "grid_area": null,
      "grid_auto_columns": null,
      "grid_auto_flow": null,
      "grid_auto_rows": null,
      "grid_column": null,
      "grid_gap": null,
      "grid_row": null,
      "grid_template_areas": null,
      "grid_template_columns": null,
      "grid_template_rows": null,
      "height": null,
      "justify_content": null,
      "justify_items": null,
      "left": null,
      "margin": null,
      "max_height": null,
      "max_width": null,
      "min_height": null,
      "min_width": null,
      "object_fit": null,
      "object_position": null,
      "order": null,
      "overflow": null,
      "overflow_x": null,
      "overflow_y": null,
      "padding": null,
      "right": null,
      "top": null,
      "visibility": null,
      "width": null
     }
    },
    "94abfd64a13e4e6c9fbdd5ff87954d85": {
     "model_module": "@jupyter-widgets/controls",
     "model_module_version": "1.5.0",
     "model_name": "HBoxModel",
     "state": {
      "_dom_classes": [],
      "_model_module": "@jupyter-widgets/controls",
      "_model_module_version": "1.5.0",
      "_model_name": "HBoxModel",
      "_view_count": null,
      "_view_module": "@jupyter-widgets/controls",
      "_view_module_version": "1.5.0",
      "_view_name": "HBoxView",
      "box_style": "",
      "children": [
       "IPY_MODEL_171989d635be40e3a3a594ff6984b64c",
       "IPY_MODEL_aa9120b802f64c458dbc0db28e312987",
       "IPY_MODEL_67add75d4ece4a96b7c40db99bffc727"
      ],
      "layout": "IPY_MODEL_b237a1402d634272a006059f6c8ac130"
     }
    },
    "96881c5a1ca84379acbf3e1192fe8c51": {
     "model_module": "@jupyter-widgets/controls",
     "model_module_version": "1.5.0",
     "model_name": "DescriptionStyleModel",
     "state": {
      "_model_module": "@jupyter-widgets/controls",
      "_model_module_version": "1.5.0",
      "_model_name": "DescriptionStyleModel",
      "_view_count": null,
      "_view_module": "@jupyter-widgets/base",
      "_view_module_version": "1.2.0",
      "_view_name": "StyleView",
      "description_width": ""
     }
    },
    "9701f19f02c64b98abf46bc247d1c827": {
     "model_module": "@jupyter-widgets/controls",
     "model_module_version": "1.5.0",
     "model_name": "HTMLModel",
     "state": {
      "_dom_classes": [],
      "_model_module": "@jupyter-widgets/controls",
      "_model_module_version": "1.5.0",
      "_model_name": "HTMLModel",
      "_view_count": null,
      "_view_module": "@jupyter-widgets/controls",
      "_view_module_version": "1.5.0",
      "_view_name": "HTMLView",
      "description": "",
      "description_tooltip": null,
      "layout": "IPY_MODEL_dd641b8cd9bf4297baf4ea946301ba5d",
      "placeholder": "​",
      "style": "IPY_MODEL_59394bd49105436b82cda37defd3a26b",
      "value": " 232k/232k [00:00&lt;00:00, 1.39MB/s]"
     }
    },
    "a14cc36a13ee47399c9fbf9a63f4bf37": {
     "model_module": "@jupyter-widgets/base",
     "model_module_version": "1.2.0",
     "model_name": "LayoutModel",
     "state": {
      "_model_module": "@jupyter-widgets/base",
      "_model_module_version": "1.2.0",
      "_model_name": "LayoutModel",
      "_view_count": null,
      "_view_module": "@jupyter-widgets/base",
      "_view_module_version": "1.2.0",
      "_view_name": "LayoutView",
      "align_content": null,
      "align_items": null,
      "align_self": null,
      "border": null,
      "bottom": null,
      "display": null,
      "flex": null,
      "flex_flow": null,
      "grid_area": null,
      "grid_auto_columns": null,
      "grid_auto_flow": null,
      "grid_auto_rows": null,
      "grid_column": null,
      "grid_gap": null,
      "grid_row": null,
      "grid_template_areas": null,
      "grid_template_columns": null,
      "grid_template_rows": null,
      "height": null,
      "justify_content": null,
      "justify_items": null,
      "left": null,
      "margin": null,
      "max_height": null,
      "max_width": null,
      "min_height": null,
      "min_width": null,
      "object_fit": null,
      "object_position": null,
      "order": null,
      "overflow": null,
      "overflow_x": null,
      "overflow_y": null,
      "padding": null,
      "right": null,
      "top": null,
      "visibility": null,
      "width": null
     }
    },
    "a19f92ad40554ffe9e4e0cc33517bdfd": {
     "model_module": "@jupyter-widgets/base",
     "model_module_version": "1.2.0",
     "model_name": "LayoutModel",
     "state": {
      "_model_module": "@jupyter-widgets/base",
      "_model_module_version": "1.2.0",
      "_model_name": "LayoutModel",
      "_view_count": null,
      "_view_module": "@jupyter-widgets/base",
      "_view_module_version": "1.2.0",
      "_view_name": "LayoutView",
      "align_content": null,
      "align_items": null,
      "align_self": null,
      "border": null,
      "bottom": null,
      "display": null,
      "flex": null,
      "flex_flow": null,
      "grid_area": null,
      "grid_auto_columns": null,
      "grid_auto_flow": null,
      "grid_auto_rows": null,
      "grid_column": null,
      "grid_gap": null,
      "grid_row": null,
      "grid_template_areas": null,
      "grid_template_columns": null,
      "grid_template_rows": null,
      "height": null,
      "justify_content": null,
      "justify_items": null,
      "left": null,
      "margin": null,
      "max_height": null,
      "max_width": null,
      "min_height": null,
      "min_width": null,
      "object_fit": null,
      "object_position": null,
      "order": null,
      "overflow": null,
      "overflow_x": null,
      "overflow_y": null,
      "padding": null,
      "right": null,
      "top": null,
      "visibility": null,
      "width": null
     }
    },
    "aa9120b802f64c458dbc0db28e312987": {
     "model_module": "@jupyter-widgets/controls",
     "model_module_version": "1.5.0",
     "model_name": "FloatProgressModel",
     "state": {
      "_dom_classes": [],
      "_model_module": "@jupyter-widgets/controls",
      "_model_module_version": "1.5.0",
      "_model_name": "FloatProgressModel",
      "_view_count": null,
      "_view_module": "@jupyter-widgets/controls",
      "_view_module_version": "1.5.0",
      "_view_name": "ProgressView",
      "bar_style": "success",
      "description": "",
      "description_tooltip": null,
      "layout": "IPY_MODEL_b6c22fa03df74b05b3bfb6124b8a99ad",
      "max": 570,
      "min": 0,
      "orientation": "horizontal",
      "style": "IPY_MODEL_4a91fc06f18a41a787f72c7741a38558",
      "value": 570
     }
    },
    "ab55eb3df3474f5886bb527ae3eea282": {
     "model_module": "@jupyter-widgets/controls",
     "model_module_version": "1.5.0",
     "model_name": "HTMLModel",
     "state": {
      "_dom_classes": [],
      "_model_module": "@jupyter-widgets/controls",
      "_model_module_version": "1.5.0",
      "_model_name": "HTMLModel",
      "_view_count": null,
      "_view_module": "@jupyter-widgets/controls",
      "_view_module_version": "1.5.0",
      "_view_name": "HTMLView",
      "description": "",
      "description_tooltip": null,
      "layout": "IPY_MODEL_1834623cdf7047e88aa0d53ffaade545",
      "placeholder": "​",
      "style": "IPY_MODEL_68e6804956104e7e846c689df72a4f6c",
      "value": " 28.0/28.0 [00:00&lt;00:00, 1.64kB/s]"
     }
    },
    "b007f0d99ac74ab4845d49d5a4c3b618": {
     "model_module": "@jupyter-widgets/base",
     "model_module_version": "1.2.0",
     "model_name": "LayoutModel",
     "state": {
      "_model_module": "@jupyter-widgets/base",
      "_model_module_version": "1.2.0",
      "_model_name": "LayoutModel",
      "_view_count": null,
      "_view_module": "@jupyter-widgets/base",
      "_view_module_version": "1.2.0",
      "_view_name": "LayoutView",
      "align_content": null,
      "align_items": null,
      "align_self": null,
      "border": null,
      "bottom": null,
      "display": null,
      "flex": null,
      "flex_flow": null,
      "grid_area": null,
      "grid_auto_columns": null,
      "grid_auto_flow": null,
      "grid_auto_rows": null,
      "grid_column": null,
      "grid_gap": null,
      "grid_row": null,
      "grid_template_areas": null,
      "grid_template_columns": null,
      "grid_template_rows": null,
      "height": null,
      "justify_content": null,
      "justify_items": null,
      "left": null,
      "margin": null,
      "max_height": null,
      "max_width": null,
      "min_height": null,
      "min_width": null,
      "object_fit": null,
      "object_position": null,
      "order": null,
      "overflow": null,
      "overflow_x": null,
      "overflow_y": null,
      "padding": null,
      "right": null,
      "top": null,
      "visibility": null,
      "width": null
     }
    },
    "b237a1402d634272a006059f6c8ac130": {
     "model_module": "@jupyter-widgets/base",
     "model_module_version": "1.2.0",
     "model_name": "LayoutModel",
     "state": {
      "_model_module": "@jupyter-widgets/base",
      "_model_module_version": "1.2.0",
      "_model_name": "LayoutModel",
      "_view_count": null,
      "_view_module": "@jupyter-widgets/base",
      "_view_module_version": "1.2.0",
      "_view_name": "LayoutView",
      "align_content": null,
      "align_items": null,
      "align_self": null,
      "border": null,
      "bottom": null,
      "display": null,
      "flex": null,
      "flex_flow": null,
      "grid_area": null,
      "grid_auto_columns": null,
      "grid_auto_flow": null,
      "grid_auto_rows": null,
      "grid_column": null,
      "grid_gap": null,
      "grid_row": null,
      "grid_template_areas": null,
      "grid_template_columns": null,
      "grid_template_rows": null,
      "height": null,
      "justify_content": null,
      "justify_items": null,
      "left": null,
      "margin": null,
      "max_height": null,
      "max_width": null,
      "min_height": null,
      "min_width": null,
      "object_fit": null,
      "object_position": null,
      "order": null,
      "overflow": null,
      "overflow_x": null,
      "overflow_y": null,
      "padding": null,
      "right": null,
      "top": null,
      "visibility": null,
      "width": null
     }
    },
    "b6c22fa03df74b05b3bfb6124b8a99ad": {
     "model_module": "@jupyter-widgets/base",
     "model_module_version": "1.2.0",
     "model_name": "LayoutModel",
     "state": {
      "_model_module": "@jupyter-widgets/base",
      "_model_module_version": "1.2.0",
      "_model_name": "LayoutModel",
      "_view_count": null,
      "_view_module": "@jupyter-widgets/base",
      "_view_module_version": "1.2.0",
      "_view_name": "LayoutView",
      "align_content": null,
      "align_items": null,
      "align_self": null,
      "border": null,
      "bottom": null,
      "display": null,
      "flex": null,
      "flex_flow": null,
      "grid_area": null,
      "grid_auto_columns": null,
      "grid_auto_flow": null,
      "grid_auto_rows": null,
      "grid_column": null,
      "grid_gap": null,
      "grid_row": null,
      "grid_template_areas": null,
      "grid_template_columns": null,
      "grid_template_rows": null,
      "height": null,
      "justify_content": null,
      "justify_items": null,
      "left": null,
      "margin": null,
      "max_height": null,
      "max_width": null,
      "min_height": null,
      "min_width": null,
      "object_fit": null,
      "object_position": null,
      "order": null,
      "overflow": null,
      "overflow_x": null,
      "overflow_y": null,
      "padding": null,
      "right": null,
      "top": null,
      "visibility": null,
      "width": null
     }
    },
    "b70cecc42c6c4f989576f51b4463bdf1": {
     "model_module": "@jupyter-widgets/controls",
     "model_module_version": "1.5.0",
     "model_name": "HTMLModel",
     "state": {
      "_dom_classes": [],
      "_model_module": "@jupyter-widgets/controls",
      "_model_module_version": "1.5.0",
      "_model_name": "HTMLModel",
      "_view_count": null,
      "_view_module": "@jupyter-widgets/controls",
      "_view_module_version": "1.5.0",
      "_view_name": "HTMLView",
      "description": "",
      "description_tooltip": null,
      "layout": "IPY_MODEL_b007f0d99ac74ab4845d49d5a4c3b618",
      "placeholder": "​",
      "style": "IPY_MODEL_96881c5a1ca84379acbf3e1192fe8c51",
      "value": "Downloading (…)solve/main/vocab.txt: 100%"
     }
    },
    "b8f378a0efc94331a019a33299fe32bc": {
     "model_module": "@jupyter-widgets/base",
     "model_module_version": "1.2.0",
     "model_name": "LayoutModel",
     "state": {
      "_model_module": "@jupyter-widgets/base",
      "_model_module_version": "1.2.0",
      "_model_name": "LayoutModel",
      "_view_count": null,
      "_view_module": "@jupyter-widgets/base",
      "_view_module_version": "1.2.0",
      "_view_name": "LayoutView",
      "align_content": null,
      "align_items": null,
      "align_self": null,
      "border": null,
      "bottom": null,
      "display": null,
      "flex": null,
      "flex_flow": null,
      "grid_area": null,
      "grid_auto_columns": null,
      "grid_auto_flow": null,
      "grid_auto_rows": null,
      "grid_column": null,
      "grid_gap": null,
      "grid_row": null,
      "grid_template_areas": null,
      "grid_template_columns": null,
      "grid_template_rows": null,
      "height": null,
      "justify_content": null,
      "justify_items": null,
      "left": null,
      "margin": null,
      "max_height": null,
      "max_width": null,
      "min_height": null,
      "min_width": null,
      "object_fit": null,
      "object_position": null,
      "order": null,
      "overflow": null,
      "overflow_x": null,
      "overflow_y": null,
      "padding": null,
      "right": null,
      "top": null,
      "visibility": null,
      "width": null
     }
    },
    "bd8491da17164dd4bb1e369cdd37d347": {
     "model_module": "@jupyter-widgets/base",
     "model_module_version": "1.2.0",
     "model_name": "LayoutModel",
     "state": {
      "_model_module": "@jupyter-widgets/base",
      "_model_module_version": "1.2.0",
      "_model_name": "LayoutModel",
      "_view_count": null,
      "_view_module": "@jupyter-widgets/base",
      "_view_module_version": "1.2.0",
      "_view_name": "LayoutView",
      "align_content": null,
      "align_items": null,
      "align_self": null,
      "border": null,
      "bottom": null,
      "display": null,
      "flex": null,
      "flex_flow": null,
      "grid_area": null,
      "grid_auto_columns": null,
      "grid_auto_flow": null,
      "grid_auto_rows": null,
      "grid_column": null,
      "grid_gap": null,
      "grid_row": null,
      "grid_template_areas": null,
      "grid_template_columns": null,
      "grid_template_rows": null,
      "height": null,
      "justify_content": null,
      "justify_items": null,
      "left": null,
      "margin": null,
      "max_height": null,
      "max_width": null,
      "min_height": null,
      "min_width": null,
      "object_fit": null,
      "object_position": null,
      "order": null,
      "overflow": null,
      "overflow_x": null,
      "overflow_y": null,
      "padding": null,
      "right": null,
      "top": null,
      "visibility": null,
      "width": null
     }
    },
    "bd862d9253c446a2a34cc1cc0125e65f": {
     "model_module": "@jupyter-widgets/controls",
     "model_module_version": "1.5.0",
     "model_name": "DescriptionStyleModel",
     "state": {
      "_model_module": "@jupyter-widgets/controls",
      "_model_module_version": "1.5.0",
      "_model_name": "DescriptionStyleModel",
      "_view_count": null,
      "_view_module": "@jupyter-widgets/base",
      "_view_module_version": "1.2.0",
      "_view_name": "StyleView",
      "description_width": ""
     }
    },
    "bfdadb33cd784f3b85c82e664854a9fd": {
     "model_module": "@jupyter-widgets/controls",
     "model_module_version": "1.5.0",
     "model_name": "DescriptionStyleModel",
     "state": {
      "_model_module": "@jupyter-widgets/controls",
      "_model_module_version": "1.5.0",
      "_model_name": "DescriptionStyleModel",
      "_view_count": null,
      "_view_module": "@jupyter-widgets/base",
      "_view_module_version": "1.2.0",
      "_view_name": "StyleView",
      "description_width": ""
     }
    },
    "c0835eb7b4de438e917fb696f41573c0": {
     "model_module": "@jupyter-widgets/base",
     "model_module_version": "1.2.0",
     "model_name": "LayoutModel",
     "state": {
      "_model_module": "@jupyter-widgets/base",
      "_model_module_version": "1.2.0",
      "_model_name": "LayoutModel",
      "_view_count": null,
      "_view_module": "@jupyter-widgets/base",
      "_view_module_version": "1.2.0",
      "_view_name": "LayoutView",
      "align_content": null,
      "align_items": null,
      "align_self": null,
      "border": null,
      "bottom": null,
      "display": null,
      "flex": null,
      "flex_flow": null,
      "grid_area": null,
      "grid_auto_columns": null,
      "grid_auto_flow": null,
      "grid_auto_rows": null,
      "grid_column": null,
      "grid_gap": null,
      "grid_row": null,
      "grid_template_areas": null,
      "grid_template_columns": null,
      "grid_template_rows": null,
      "height": null,
      "justify_content": null,
      "justify_items": null,
      "left": null,
      "margin": null,
      "max_height": null,
      "max_width": null,
      "min_height": null,
      "min_width": null,
      "object_fit": null,
      "object_position": null,
      "order": null,
      "overflow": null,
      "overflow_x": null,
      "overflow_y": null,
      "padding": null,
      "right": null,
      "top": null,
      "visibility": null,
      "width": null
     }
    },
    "c52a8d8d2b25431bb141c9507dff43f0": {
     "model_module": "@jupyter-widgets/controls",
     "model_module_version": "1.5.0",
     "model_name": "ProgressStyleModel",
     "state": {
      "_model_module": "@jupyter-widgets/controls",
      "_model_module_version": "1.5.0",
      "_model_name": "ProgressStyleModel",
      "_view_count": null,
      "_view_module": "@jupyter-widgets/base",
      "_view_module_version": "1.2.0",
      "_view_name": "StyleView",
      "bar_color": null,
      "description_width": ""
     }
    },
    "caca07a14e4d45afae865863ceaa3cc4": {
     "model_module": "@jupyter-widgets/controls",
     "model_module_version": "1.5.0",
     "model_name": "HTMLModel",
     "state": {
      "_dom_classes": [],
      "_model_module": "@jupyter-widgets/controls",
      "_model_module_version": "1.5.0",
      "_model_name": "HTMLModel",
      "_view_count": null,
      "_view_module": "@jupyter-widgets/controls",
      "_view_module_version": "1.5.0",
      "_view_name": "HTMLView",
      "description": "",
      "description_tooltip": null,
      "layout": "IPY_MODEL_f8780416da4b423594daf7f56f233ff6",
      "placeholder": "​",
      "style": "IPY_MODEL_bfdadb33cd784f3b85c82e664854a9fd",
      "value": " 440M/440M [00:01&lt;00:00, 242MB/s]"
     }
    },
    "d29bb2dc18a2480c8fa4f0569fe38c3f": {
     "model_module": "@jupyter-widgets/base",
     "model_module_version": "1.2.0",
     "model_name": "LayoutModel",
     "state": {
      "_model_module": "@jupyter-widgets/base",
      "_model_module_version": "1.2.0",
      "_model_name": "LayoutModel",
      "_view_count": null,
      "_view_module": "@jupyter-widgets/base",
      "_view_module_version": "1.2.0",
      "_view_name": "LayoutView",
      "align_content": null,
      "align_items": null,
      "align_self": null,
      "border": null,
      "bottom": null,
      "display": null,
      "flex": null,
      "flex_flow": null,
      "grid_area": null,
      "grid_auto_columns": null,
      "grid_auto_flow": null,
      "grid_auto_rows": null,
      "grid_column": null,
      "grid_gap": null,
      "grid_row": null,
      "grid_template_areas": null,
      "grid_template_columns": null,
      "grid_template_rows": null,
      "height": null,
      "justify_content": null,
      "justify_items": null,
      "left": null,
      "margin": null,
      "max_height": null,
      "max_width": null,
      "min_height": null,
      "min_width": null,
      "object_fit": null,
      "object_position": null,
      "order": null,
      "overflow": null,
      "overflow_x": null,
      "overflow_y": null,
      "padding": null,
      "right": null,
      "top": null,
      "visibility": null,
      "width": null
     }
    },
    "d4e461e6e163466d95fc4be243fbe390": {
     "model_module": "@jupyter-widgets/base",
     "model_module_version": "1.2.0",
     "model_name": "LayoutModel",
     "state": {
      "_model_module": "@jupyter-widgets/base",
      "_model_module_version": "1.2.0",
      "_model_name": "LayoutModel",
      "_view_count": null,
      "_view_module": "@jupyter-widgets/base",
      "_view_module_version": "1.2.0",
      "_view_name": "LayoutView",
      "align_content": null,
      "align_items": null,
      "align_self": null,
      "border": null,
      "bottom": null,
      "display": null,
      "flex": null,
      "flex_flow": null,
      "grid_area": null,
      "grid_auto_columns": null,
      "grid_auto_flow": null,
      "grid_auto_rows": null,
      "grid_column": null,
      "grid_gap": null,
      "grid_row": null,
      "grid_template_areas": null,
      "grid_template_columns": null,
      "grid_template_rows": null,
      "height": null,
      "justify_content": null,
      "justify_items": null,
      "left": null,
      "margin": null,
      "max_height": null,
      "max_width": null,
      "min_height": null,
      "min_width": null,
      "object_fit": null,
      "object_position": null,
      "order": null,
      "overflow": null,
      "overflow_x": null,
      "overflow_y": null,
      "padding": null,
      "right": null,
      "top": null,
      "visibility": null,
      "width": null
     }
    },
    "d672b85e006040958904b33f52f1d9f7": {
     "model_module": "@jupyter-widgets/controls",
     "model_module_version": "1.5.0",
     "model_name": "ProgressStyleModel",
     "state": {
      "_model_module": "@jupyter-widgets/controls",
      "_model_module_version": "1.5.0",
      "_model_name": "ProgressStyleModel",
      "_view_count": null,
      "_view_module": "@jupyter-widgets/base",
      "_view_module_version": "1.2.0",
      "_view_name": "StyleView",
      "bar_color": null,
      "description_width": ""
     }
    },
    "dd641b8cd9bf4297baf4ea946301ba5d": {
     "model_module": "@jupyter-widgets/base",
     "model_module_version": "1.2.0",
     "model_name": "LayoutModel",
     "state": {
      "_model_module": "@jupyter-widgets/base",
      "_model_module_version": "1.2.0",
      "_model_name": "LayoutModel",
      "_view_count": null,
      "_view_module": "@jupyter-widgets/base",
      "_view_module_version": "1.2.0",
      "_view_name": "LayoutView",
      "align_content": null,
      "align_items": null,
      "align_self": null,
      "border": null,
      "bottom": null,
      "display": null,
      "flex": null,
      "flex_flow": null,
      "grid_area": null,
      "grid_auto_columns": null,
      "grid_auto_flow": null,
      "grid_auto_rows": null,
      "grid_column": null,
      "grid_gap": null,
      "grid_row": null,
      "grid_template_areas": null,
      "grid_template_columns": null,
      "grid_template_rows": null,
      "height": null,
      "justify_content": null,
      "justify_items": null,
      "left": null,
      "margin": null,
      "max_height": null,
      "max_width": null,
      "min_height": null,
      "min_width": null,
      "object_fit": null,
      "object_position": null,
      "order": null,
      "overflow": null,
      "overflow_x": null,
      "overflow_y": null,
      "padding": null,
      "right": null,
      "top": null,
      "visibility": null,
      "width": null
     }
    },
    "dd995adc5c344274901218c23356659b": {
     "model_module": "@jupyter-widgets/controls",
     "model_module_version": "1.5.0",
     "model_name": "FloatProgressModel",
     "state": {
      "_dom_classes": [],
      "_model_module": "@jupyter-widgets/controls",
      "_model_module_version": "1.5.0",
      "_model_name": "FloatProgressModel",
      "_view_count": null,
      "_view_module": "@jupyter-widgets/controls",
      "_view_module_version": "1.5.0",
      "_view_name": "ProgressView",
      "bar_style": "success",
      "description": "",
      "description_tooltip": null,
      "layout": "IPY_MODEL_d4e461e6e163466d95fc4be243fbe390",
      "max": 466062,
      "min": 0,
      "orientation": "horizontal",
      "style": "IPY_MODEL_0cbe32e19ce44627954d6932ce001abe",
      "value": 466062
     }
    },
    "e6b46f32db7645bf987857f4ddb99629": {
     "model_module": "@jupyter-widgets/controls",
     "model_module_version": "1.5.0",
     "model_name": "DescriptionStyleModel",
     "state": {
      "_model_module": "@jupyter-widgets/controls",
      "_model_module_version": "1.5.0",
      "_model_name": "DescriptionStyleModel",
      "_view_count": null,
      "_view_module": "@jupyter-widgets/base",
      "_view_module_version": "1.2.0",
      "_view_name": "StyleView",
      "description_width": ""
     }
    },
    "ef9e5b0cb603492ea7471cad197e5931": {
     "model_module": "@jupyter-widgets/controls",
     "model_module_version": "1.5.0",
     "model_name": "HTMLModel",
     "state": {
      "_dom_classes": [],
      "_model_module": "@jupyter-widgets/controls",
      "_model_module_version": "1.5.0",
      "_model_name": "HTMLModel",
      "_view_count": null,
      "_view_module": "@jupyter-widgets/controls",
      "_view_module_version": "1.5.0",
      "_view_name": "HTMLView",
      "description": "",
      "description_tooltip": null,
      "layout": "IPY_MODEL_d29bb2dc18a2480c8fa4f0569fe38c3f",
      "placeholder": "​",
      "style": "IPY_MODEL_3b9b0b816e6649d09325564b275c59ee",
      "value": "Downloading (…)/main/tokenizer.json: 100%"
     }
    },
    "f8780416da4b423594daf7f56f233ff6": {
     "model_module": "@jupyter-widgets/base",
     "model_module_version": "1.2.0",
     "model_name": "LayoutModel",
     "state": {
      "_model_module": "@jupyter-widgets/base",
      "_model_module_version": "1.2.0",
      "_model_name": "LayoutModel",
      "_view_count": null,
      "_view_module": "@jupyter-widgets/base",
      "_view_module_version": "1.2.0",
      "_view_name": "LayoutView",
      "align_content": null,
      "align_items": null,
      "align_self": null,
      "border": null,
      "bottom": null,
      "display": null,
      "flex": null,
      "flex_flow": null,
      "grid_area": null,
      "grid_auto_columns": null,
      "grid_auto_flow": null,
      "grid_auto_rows": null,
      "grid_column": null,
      "grid_gap": null,
      "grid_row": null,
      "grid_template_areas": null,
      "grid_template_columns": null,
      "grid_template_rows": null,
      "height": null,
      "justify_content": null,
      "justify_items": null,
      "left": null,
      "margin": null,
      "max_height": null,
      "max_width": null,
      "min_height": null,
      "min_width": null,
      "object_fit": null,
      "object_position": null,
      "order": null,
      "overflow": null,
      "overflow_x": null,
      "overflow_y": null,
      "padding": null,
      "right": null,
      "top": null,
      "visibility": null,
      "width": null
     }
    },
    "feb70e3642334b38abaa54ef7983ae61": {
     "model_module": "@jupyter-widgets/controls",
     "model_module_version": "1.5.0",
     "model_name": "FloatProgressModel",
     "state": {
      "_dom_classes": [],
      "_model_module": "@jupyter-widgets/controls",
      "_model_module_version": "1.5.0",
      "_model_name": "FloatProgressModel",
      "_view_count": null,
      "_view_module": "@jupyter-widgets/controls",
      "_view_module_version": "1.5.0",
      "_view_name": "ProgressView",
      "bar_style": "success",
      "description": "",
      "description_tooltip": null,
      "layout": "IPY_MODEL_c0835eb7b4de438e917fb696f41573c0",
      "max": 231508,
      "min": 0,
      "orientation": "horizontal",
      "style": "IPY_MODEL_c52a8d8d2b25431bb141c9507dff43f0",
      "value": 231508
     }
    }
   }
  }
 },
 "nbformat": 4,
 "nbformat_minor": 5
}
